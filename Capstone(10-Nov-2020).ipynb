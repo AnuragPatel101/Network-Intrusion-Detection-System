{
 "cells": [
  {
   "cell_type": "code",
   "execution_count": 1,
   "metadata": {},
   "outputs": [],
   "source": [
    "import numpy as np\n",
    "import pandas as pd\n",
    "import matplotlib.pyplot as plt\n",
    "import seaborn as sns\n",
    "\n",
    "from sklearn.preprocessing import LabelEncoder\n",
    "from scipy.stats import zscore, ttest_ind, mannwhitneyu\n",
    "from sklearn.preprocessing import StandardScaler, MinMaxScaler, PowerTransformer\n",
    "from statsmodels.stats.outliers_influence import variance_inflation_factor\n",
    "\n",
    "import warnings\n",
    "from sklearn.exceptions import DataConversionWarning,ConvergenceWarning"
   ]
  },
  {
   "cell_type": "code",
   "execution_count": 2,
   "metadata": {},
   "outputs": [],
   "source": [
    "from sklearn.linear_model import LogisticRegression\n",
    "from sklearn.tree import DecisionTreeClassifier\n",
    "from sklearn.ensemble import RandomForestClassifier, AdaBoostClassifier, GradientBoostingClassifier, BaggingClassifier, VotingClassifier\n",
    "from sklearn.model_selection import GridSearchCV, KFold, cross_val_score\n",
    "from sklearn.pipeline import Pipeline\n",
    "from xgboost import XGBClassifier"
   ]
  },
  {
   "cell_type": "code",
   "execution_count": 3,
   "metadata": {},
   "outputs": [],
   "source": [
    "from sklearn.cluster import KMeans, AgglomerativeClustering\n",
    "from sklearn.metrics import silhouette_score, accuracy_score, precision_score, recall_score, f1_score, confusion_matrix, classification_report\n",
    "from sklearn.decomposition import PCA\n",
    "from scipy.cluster.hierarchy import linkage, cophenet, dendrogram\n",
    "from scipy.spatial.distance import pdist"
   ]
  },
  {
   "cell_type": "code",
   "execution_count": 4,
   "metadata": {},
   "outputs": [],
   "source": [
    "from mlxtend.feature_selection import SequentialFeatureSelector as sfs\n",
    "from sklearn.feature_selection import RFE\n",
    "# https://machinelearningmastery.com/smote-oversampling-for-imbalanced-classification/\n",
    "from collections import Counter\n",
    "from sklearn.datasets import make_classification\n",
    "from imblearn.over_sampling import SMOTE, RandomOverSampler\n",
    "from imblearn.under_sampling import RandomUnderSampler\n",
    "from numpy import where"
   ]
  },
  {
   "cell_type": "code",
   "execution_count": 5,
   "metadata": {},
   "outputs": [],
   "source": [
    "from sklearn.utils import resample"
   ]
  },
  {
   "cell_type": "code",
   "execution_count": 6,
   "metadata": {},
   "outputs": [
    {
     "data": {
      "text/html": [
       "<div>\n",
       "<style scoped>\n",
       "    .dataframe tbody tr th:only-of-type {\n",
       "        vertical-align: middle;\n",
       "    }\n",
       "\n",
       "    .dataframe tbody tr th {\n",
       "        vertical-align: top;\n",
       "    }\n",
       "\n",
       "    .dataframe thead th {\n",
       "        text-align: right;\n",
       "    }\n",
       "</style>\n",
       "<table border=\"1\" class=\"dataframe\">\n",
       "  <thead>\n",
       "    <tr style=\"text-align: right;\">\n",
       "      <th></th>\n",
       "      <th>id</th>\n",
       "      <th>dur</th>\n",
       "      <th>proto</th>\n",
       "      <th>service</th>\n",
       "      <th>state</th>\n",
       "      <th>spkts</th>\n",
       "      <th>dpkts</th>\n",
       "      <th>sbytes</th>\n",
       "      <th>dbytes</th>\n",
       "      <th>rate</th>\n",
       "      <th>...</th>\n",
       "      <th>ct_dst_sport_ltm</th>\n",
       "      <th>ct_dst_src_ltm</th>\n",
       "      <th>is_ftp_login</th>\n",
       "      <th>ct_ftp_cmd</th>\n",
       "      <th>ct_flw_http_mthd</th>\n",
       "      <th>ct_src_ltm</th>\n",
       "      <th>ct_srv_dst</th>\n",
       "      <th>is_sm_ips_ports</th>\n",
       "      <th>attack_cat</th>\n",
       "      <th>label</th>\n",
       "    </tr>\n",
       "  </thead>\n",
       "  <tbody>\n",
       "    <tr>\n",
       "      <th>0</th>\n",
       "      <td>1</td>\n",
       "      <td>0.121478</td>\n",
       "      <td>tcp</td>\n",
       "      <td>-</td>\n",
       "      <td>FIN</td>\n",
       "      <td>6</td>\n",
       "      <td>4</td>\n",
       "      <td>258</td>\n",
       "      <td>172</td>\n",
       "      <td>74.087490</td>\n",
       "      <td>...</td>\n",
       "      <td>1</td>\n",
       "      <td>1</td>\n",
       "      <td>0</td>\n",
       "      <td>0</td>\n",
       "      <td>0</td>\n",
       "      <td>1</td>\n",
       "      <td>1</td>\n",
       "      <td>0</td>\n",
       "      <td>Normal</td>\n",
       "      <td>0</td>\n",
       "    </tr>\n",
       "    <tr>\n",
       "      <th>1</th>\n",
       "      <td>2</td>\n",
       "      <td>0.649902</td>\n",
       "      <td>tcp</td>\n",
       "      <td>-</td>\n",
       "      <td>FIN</td>\n",
       "      <td>14</td>\n",
       "      <td>38</td>\n",
       "      <td>734</td>\n",
       "      <td>42014</td>\n",
       "      <td>78.473372</td>\n",
       "      <td>...</td>\n",
       "      <td>1</td>\n",
       "      <td>2</td>\n",
       "      <td>0</td>\n",
       "      <td>0</td>\n",
       "      <td>0</td>\n",
       "      <td>1</td>\n",
       "      <td>6</td>\n",
       "      <td>0</td>\n",
       "      <td>Normal</td>\n",
       "      <td>0</td>\n",
       "    </tr>\n",
       "  </tbody>\n",
       "</table>\n",
       "<p>2 rows × 45 columns</p>\n",
       "</div>"
      ],
      "text/plain": [
       "   id       dur proto service state  spkts  dpkts  sbytes  dbytes       rate  \\\n",
       "0   1  0.121478   tcp       -   FIN      6      4     258     172  74.087490   \n",
       "1   2  0.649902   tcp       -   FIN     14     38     734   42014  78.473372   \n",
       "\n",
       "   ...  ct_dst_sport_ltm  ct_dst_src_ltm  is_ftp_login  ct_ftp_cmd  \\\n",
       "0  ...                 1               1             0           0   \n",
       "1  ...                 1               2             0           0   \n",
       "\n",
       "   ct_flw_http_mthd  ct_src_ltm  ct_srv_dst  is_sm_ips_ports  attack_cat  \\\n",
       "0                 0           1           1                0      Normal   \n",
       "1                 0           1           6                0      Normal   \n",
       "\n",
       "   label  \n",
       "0      0  \n",
       "1      0  \n",
       "\n",
       "[2 rows x 45 columns]"
      ]
     },
     "execution_count": 6,
     "metadata": {},
     "output_type": "execute_result"
    }
   ],
   "source": [
    "train = pd.read_csv(r'C:\\Users\\anura\\Desktop\\Capstone Project\\Fraud Detection\\Training_Test\\UNSW_NB15_training-set.csv')\n",
    "train.head(2)"
   ]
  },
  {
   "cell_type": "code",
   "execution_count": 7,
   "metadata": {},
   "outputs": [],
   "source": [
    "dfc = train.copy()"
   ]
  },
  {
   "cell_type": "code",
   "execution_count": 8,
   "metadata": {},
   "outputs": [
    {
     "data": {
      "text/html": [
       "<div>\n",
       "<style scoped>\n",
       "    .dataframe tbody tr th:only-of-type {\n",
       "        vertical-align: middle;\n",
       "    }\n",
       "\n",
       "    .dataframe tbody tr th {\n",
       "        vertical-align: top;\n",
       "    }\n",
       "\n",
       "    .dataframe thead th {\n",
       "        text-align: right;\n",
       "    }\n",
       "</style>\n",
       "<table border=\"1\" class=\"dataframe\">\n",
       "  <thead>\n",
       "    <tr style=\"text-align: right;\">\n",
       "      <th></th>\n",
       "      <th>id</th>\n",
       "      <th>dur</th>\n",
       "      <th>proto</th>\n",
       "      <th>service</th>\n",
       "      <th>state</th>\n",
       "      <th>spkts</th>\n",
       "      <th>dpkts</th>\n",
       "      <th>sbytes</th>\n",
       "      <th>dbytes</th>\n",
       "      <th>rate</th>\n",
       "      <th>...</th>\n",
       "      <th>ct_dst_sport_ltm</th>\n",
       "      <th>ct_dst_src_ltm</th>\n",
       "      <th>is_ftp_login</th>\n",
       "      <th>ct_ftp_cmd</th>\n",
       "      <th>ct_flw_http_mthd</th>\n",
       "      <th>ct_src_ltm</th>\n",
       "      <th>ct_srv_dst</th>\n",
       "      <th>is_sm_ips_ports</th>\n",
       "      <th>attack_cat</th>\n",
       "      <th>label</th>\n",
       "    </tr>\n",
       "  </thead>\n",
       "  <tbody>\n",
       "    <tr>\n",
       "      <th>0</th>\n",
       "      <td>1</td>\n",
       "      <td>0.000011</td>\n",
       "      <td>udp</td>\n",
       "      <td>-</td>\n",
       "      <td>INT</td>\n",
       "      <td>2</td>\n",
       "      <td>0</td>\n",
       "      <td>496</td>\n",
       "      <td>0</td>\n",
       "      <td>90909.0902</td>\n",
       "      <td>...</td>\n",
       "      <td>1</td>\n",
       "      <td>2</td>\n",
       "      <td>0</td>\n",
       "      <td>0</td>\n",
       "      <td>0</td>\n",
       "      <td>1</td>\n",
       "      <td>2</td>\n",
       "      <td>0</td>\n",
       "      <td>Normal</td>\n",
       "      <td>0</td>\n",
       "    </tr>\n",
       "    <tr>\n",
       "      <th>1</th>\n",
       "      <td>2</td>\n",
       "      <td>0.000008</td>\n",
       "      <td>udp</td>\n",
       "      <td>-</td>\n",
       "      <td>INT</td>\n",
       "      <td>2</td>\n",
       "      <td>0</td>\n",
       "      <td>1762</td>\n",
       "      <td>0</td>\n",
       "      <td>125000.0003</td>\n",
       "      <td>...</td>\n",
       "      <td>1</td>\n",
       "      <td>2</td>\n",
       "      <td>0</td>\n",
       "      <td>0</td>\n",
       "      <td>0</td>\n",
       "      <td>1</td>\n",
       "      <td>2</td>\n",
       "      <td>0</td>\n",
       "      <td>Normal</td>\n",
       "      <td>0</td>\n",
       "    </tr>\n",
       "  </tbody>\n",
       "</table>\n",
       "<p>2 rows × 45 columns</p>\n",
       "</div>"
      ],
      "text/plain": [
       "   id       dur proto service state  spkts  dpkts  sbytes  dbytes  \\\n",
       "0   1  0.000011   udp       -   INT      2      0     496       0   \n",
       "1   2  0.000008   udp       -   INT      2      0    1762       0   \n",
       "\n",
       "          rate  ...  ct_dst_sport_ltm  ct_dst_src_ltm  is_ftp_login  \\\n",
       "0   90909.0902  ...                 1               2             0   \n",
       "1  125000.0003  ...                 1               2             0   \n",
       "\n",
       "   ct_ftp_cmd  ct_flw_http_mthd  ct_src_ltm  ct_srv_dst  is_sm_ips_ports  \\\n",
       "0           0                 0           1           2                0   \n",
       "1           0                 0           1           2                0   \n",
       "\n",
       "   attack_cat  label  \n",
       "0      Normal      0  \n",
       "1      Normal      0  \n",
       "\n",
       "[2 rows x 45 columns]"
      ]
     },
     "execution_count": 8,
     "metadata": {},
     "output_type": "execute_result"
    }
   ],
   "source": [
    "test = pd.read_csv(r'C:\\Users\\anura\\Desktop\\Capstone Project\\Fraud Detection\\Training_Test\\UNSW_NB15_testing-set.csv')\n",
    "test.head(2)"
   ]
  },
  {
   "cell_type": "code",
   "execution_count": 9,
   "metadata": {},
   "outputs": [
    {
     "data": {
      "text/plain": [
       "((175341, 45), (82332, 45))"
      ]
     },
     "execution_count": 9,
     "metadata": {},
     "output_type": "execute_result"
    }
   ],
   "source": [
    "train.shape, test.shape"
   ]
  },
  {
   "cell_type": "code",
   "execution_count": 10,
   "metadata": {},
   "outputs": [],
   "source": [
    "train.drop('id', axis = 1, inplace = True)\n",
    "test.drop('id', axis = 1, inplace = True)\n",
    "dfc.drop('id', axis = 1, inplace = True)"
   ]
  },
  {
   "cell_type": "code",
   "execution_count": 11,
   "metadata": {},
   "outputs": [],
   "source": [
    "df_cat = train.select_dtypes(include = 'object')\n",
    "df_num = train.select_dtypes(exclude = 'object')"
   ]
  },
  {
   "cell_type": "code",
   "execution_count": 12,
   "metadata": {},
   "outputs": [
    {
     "name": "stdout",
     "output_type": "stream",
     "text": [
      "proto 133\n",
      "service 13\n",
      "state 9\n",
      "attack_cat 10\n"
     ]
    }
   ],
   "source": [
    "for i in df_cat.columns:\n",
    "    print(i, df_cat[i].nunique())"
   ]
  },
  {
   "cell_type": "code",
   "execution_count": 13,
   "metadata": {},
   "outputs": [
    {
     "name": "stderr",
     "output_type": "stream",
     "text": [
      "<ipython-input-13-7532b321132e>:3: SettingWithCopyWarning: \n",
      "A value is trying to be set on a copy of a slice from a DataFrame.\n",
      "Try using .loc[row_indexer,col_indexer] = value instead\n",
      "\n",
      "See the caveats in the documentation: https://pandas.pydata.org/pandas-docs/stable/user_guide/indexing.html#returning-a-view-versus-a-copy\n",
      "  df_cat[i] = df_cat[i].map(dic)\n"
     ]
    },
    {
     "data": {
      "text/html": [
       "<div>\n",
       "<style scoped>\n",
       "    .dataframe tbody tr th:only-of-type {\n",
       "        vertical-align: middle;\n",
       "    }\n",
       "\n",
       "    .dataframe tbody tr th {\n",
       "        vertical-align: top;\n",
       "    }\n",
       "\n",
       "    .dataframe thead th {\n",
       "        text-align: right;\n",
       "    }\n",
       "</style>\n",
       "<table border=\"1\" class=\"dataframe\">\n",
       "  <thead>\n",
       "    <tr style=\"text-align: right;\">\n",
       "      <th></th>\n",
       "      <th>proto</th>\n",
       "      <th>service</th>\n",
       "      <th>state</th>\n",
       "      <th>attack_cat</th>\n",
       "    </tr>\n",
       "  </thead>\n",
       "  <tbody>\n",
       "    <tr>\n",
       "      <th>0</th>\n",
       "      <td>0.455946</td>\n",
       "      <td>0.537056</td>\n",
       "      <td>0.443849</td>\n",
       "      <td>Normal</td>\n",
       "    </tr>\n",
       "    <tr>\n",
       "      <th>1</th>\n",
       "      <td>0.455946</td>\n",
       "      <td>0.537056</td>\n",
       "      <td>0.443849</td>\n",
       "      <td>Normal</td>\n",
       "    </tr>\n",
       "    <tr>\n",
       "      <th>2</th>\n",
       "      <td>0.455946</td>\n",
       "      <td>0.537056</td>\n",
       "      <td>0.443849</td>\n",
       "      <td>Normal</td>\n",
       "    </tr>\n",
       "    <tr>\n",
       "      <th>3</th>\n",
       "      <td>0.455946</td>\n",
       "      <td>0.019550</td>\n",
       "      <td>0.443849</td>\n",
       "      <td>Normal</td>\n",
       "    </tr>\n",
       "    <tr>\n",
       "      <th>4</th>\n",
       "      <td>0.455946</td>\n",
       "      <td>0.537056</td>\n",
       "      <td>0.443849</td>\n",
       "      <td>Normal</td>\n",
       "    </tr>\n",
       "    <tr>\n",
       "      <th>...</th>\n",
       "      <td>...</td>\n",
       "      <td>...</td>\n",
       "      <td>...</td>\n",
       "      <td>...</td>\n",
       "    </tr>\n",
       "    <tr>\n",
       "      <th>175336</th>\n",
       "      <td>0.360914</td>\n",
       "      <td>0.269726</td>\n",
       "      <td>0.469229</td>\n",
       "      <td>Generic</td>\n",
       "    </tr>\n",
       "    <tr>\n",
       "      <th>175337</th>\n",
       "      <td>0.455946</td>\n",
       "      <td>0.537056</td>\n",
       "      <td>0.443849</td>\n",
       "      <td>Shellcode</td>\n",
       "    </tr>\n",
       "    <tr>\n",
       "      <th>175338</th>\n",
       "      <td>0.360914</td>\n",
       "      <td>0.269726</td>\n",
       "      <td>0.469229</td>\n",
       "      <td>Generic</td>\n",
       "    </tr>\n",
       "    <tr>\n",
       "      <th>175339</th>\n",
       "      <td>0.360914</td>\n",
       "      <td>0.269726</td>\n",
       "      <td>0.469229</td>\n",
       "      <td>Generic</td>\n",
       "    </tr>\n",
       "    <tr>\n",
       "      <th>175340</th>\n",
       "      <td>0.360914</td>\n",
       "      <td>0.269726</td>\n",
       "      <td>0.469229</td>\n",
       "      <td>Generic</td>\n",
       "    </tr>\n",
       "  </tbody>\n",
       "</table>\n",
       "<p>175341 rows × 4 columns</p>\n",
       "</div>"
      ],
      "text/plain": [
       "           proto   service     state attack_cat\n",
       "0       0.455946  0.537056  0.443849     Normal\n",
       "1       0.455946  0.537056  0.443849     Normal\n",
       "2       0.455946  0.537056  0.443849     Normal\n",
       "3       0.455946  0.019550  0.443849     Normal\n",
       "4       0.455946  0.537056  0.443849     Normal\n",
       "...          ...       ...       ...        ...\n",
       "175336  0.360914  0.269726  0.469229    Generic\n",
       "175337  0.455946  0.537056  0.443849  Shellcode\n",
       "175338  0.360914  0.269726  0.469229    Generic\n",
       "175339  0.360914  0.269726  0.469229    Generic\n",
       "175340  0.360914  0.269726  0.469229    Generic\n",
       "\n",
       "[175341 rows x 4 columns]"
      ]
     },
     "execution_count": 13,
     "metadata": {},
     "output_type": "execute_result"
    }
   ],
   "source": [
    "for i in ['proto', 'service', 'state']:\n",
    "    dic = dict(df_cat.groupby(i)['attack_cat'].count()/df_cat.shape[0])\n",
    "    df_cat[i] = df_cat[i].map(dic)\n",
    "df_cat"
   ]
  },
  {
   "cell_type": "code",
   "execution_count": 14,
   "metadata": {},
   "outputs": [
    {
     "data": {
      "text/plain": [
       "Normal            56000\n",
       "Generic           40000\n",
       "Exploits          33393\n",
       "Fuzzers           18184\n",
       "DoS               12264\n",
       "Reconnaissance    10491\n",
       "Analysis           2000\n",
       "Backdoor           1746\n",
       "Shellcode          1133\n",
       "Worms               130\n",
       "Name: attack_cat, dtype: int64"
      ]
     },
     "execution_count": 14,
     "metadata": {},
     "output_type": "execute_result"
    }
   ],
   "source": [
    "df_cat['attack_cat'].value_counts()"
   ]
  },
  {
   "cell_type": "code",
   "execution_count": 15,
   "metadata": {},
   "outputs": [
    {
     "name": "stderr",
     "output_type": "stream",
     "text": [
      "<ipython-input-15-c1c422358285>:3: SettingWithCopyWarning: \n",
      "A value is trying to be set on a copy of a slice from a DataFrame.\n",
      "Try using .loc[row_indexer,col_indexer] = value instead\n",
      "\n",
      "See the caveats in the documentation: https://pandas.pydata.org/pandas-docs/stable/user_guide/indexing.html#returning-a-view-versus-a-copy\n",
      "  df_cat['attack_label'] = df_cat['attack_cat'].map(atk_lab)\n"
     ]
    }
   ],
   "source": [
    "atk_lab = {'Normal' : 0, 'Generic' : 1, 'Exploits' : 2, 'Fuzzers' : 3, 'DoS' : 4, 'Reconnaissance' : 5,\n",
    "          'Analysis' : 6, 'Backdoor' : 7, 'Shellcode' : 8, 'Worms' : 9}\n",
    "df_cat['attack_label'] = df_cat['attack_cat'].map(atk_lab)"
   ]
  },
  {
   "cell_type": "code",
   "execution_count": 16,
   "metadata": {},
   "outputs": [
    {
     "data": {
      "text/html": [
       "<div>\n",
       "<style scoped>\n",
       "    .dataframe tbody tr th:only-of-type {\n",
       "        vertical-align: middle;\n",
       "    }\n",
       "\n",
       "    .dataframe tbody tr th {\n",
       "        vertical-align: top;\n",
       "    }\n",
       "\n",
       "    .dataframe thead th {\n",
       "        text-align: right;\n",
       "    }\n",
       "</style>\n",
       "<table border=\"1\" class=\"dataframe\">\n",
       "  <thead>\n",
       "    <tr style=\"text-align: right;\">\n",
       "      <th></th>\n",
       "      <th>dur</th>\n",
       "      <th>proto</th>\n",
       "      <th>service</th>\n",
       "      <th>state</th>\n",
       "      <th>spkts</th>\n",
       "      <th>dpkts</th>\n",
       "      <th>sbytes</th>\n",
       "      <th>dbytes</th>\n",
       "      <th>rate</th>\n",
       "      <th>sttl</th>\n",
       "      <th>...</th>\n",
       "      <th>ct_dst_sport_ltm</th>\n",
       "      <th>ct_dst_src_ltm</th>\n",
       "      <th>is_ftp_login</th>\n",
       "      <th>ct_ftp_cmd</th>\n",
       "      <th>ct_flw_http_mthd</th>\n",
       "      <th>ct_src_ltm</th>\n",
       "      <th>ct_srv_dst</th>\n",
       "      <th>is_sm_ips_ports</th>\n",
       "      <th>attack_cat</th>\n",
       "      <th>label</th>\n",
       "    </tr>\n",
       "  </thead>\n",
       "  <tbody>\n",
       "    <tr>\n",
       "      <th>0</th>\n",
       "      <td>0.000011</td>\n",
       "      <td>0.357309</td>\n",
       "      <td>0.572718</td>\n",
       "      <td>0.414942</td>\n",
       "      <td>2</td>\n",
       "      <td>0</td>\n",
       "      <td>496</td>\n",
       "      <td>0</td>\n",
       "      <td>90909.090200</td>\n",
       "      <td>254</td>\n",
       "      <td>...</td>\n",
       "      <td>1</td>\n",
       "      <td>2</td>\n",
       "      <td>0</td>\n",
       "      <td>0</td>\n",
       "      <td>0</td>\n",
       "      <td>1</td>\n",
       "      <td>2</td>\n",
       "      <td>0</td>\n",
       "      <td>Normal</td>\n",
       "      <td>0</td>\n",
       "    </tr>\n",
       "    <tr>\n",
       "      <th>1</th>\n",
       "      <td>0.000008</td>\n",
       "      <td>0.357309</td>\n",
       "      <td>0.572718</td>\n",
       "      <td>0.414942</td>\n",
       "      <td>2</td>\n",
       "      <td>0</td>\n",
       "      <td>1762</td>\n",
       "      <td>0</td>\n",
       "      <td>125000.000300</td>\n",
       "      <td>254</td>\n",
       "      <td>...</td>\n",
       "      <td>1</td>\n",
       "      <td>2</td>\n",
       "      <td>0</td>\n",
       "      <td>0</td>\n",
       "      <td>0</td>\n",
       "      <td>1</td>\n",
       "      <td>2</td>\n",
       "      <td>0</td>\n",
       "      <td>Normal</td>\n",
       "      <td>0</td>\n",
       "    </tr>\n",
       "    <tr>\n",
       "      <th>2</th>\n",
       "      <td>0.000005</td>\n",
       "      <td>0.357309</td>\n",
       "      <td>0.572718</td>\n",
       "      <td>0.414942</td>\n",
       "      <td>2</td>\n",
       "      <td>0</td>\n",
       "      <td>1068</td>\n",
       "      <td>0</td>\n",
       "      <td>200000.005100</td>\n",
       "      <td>254</td>\n",
       "      <td>...</td>\n",
       "      <td>1</td>\n",
       "      <td>3</td>\n",
       "      <td>0</td>\n",
       "      <td>0</td>\n",
       "      <td>0</td>\n",
       "      <td>1</td>\n",
       "      <td>3</td>\n",
       "      <td>0</td>\n",
       "      <td>Normal</td>\n",
       "      <td>0</td>\n",
       "    </tr>\n",
       "    <tr>\n",
       "      <th>3</th>\n",
       "      <td>0.000006</td>\n",
       "      <td>0.357309</td>\n",
       "      <td>0.572718</td>\n",
       "      <td>0.414942</td>\n",
       "      <td>2</td>\n",
       "      <td>0</td>\n",
       "      <td>900</td>\n",
       "      <td>0</td>\n",
       "      <td>166666.660800</td>\n",
       "      <td>254</td>\n",
       "      <td>...</td>\n",
       "      <td>1</td>\n",
       "      <td>3</td>\n",
       "      <td>0</td>\n",
       "      <td>0</td>\n",
       "      <td>0</td>\n",
       "      <td>2</td>\n",
       "      <td>3</td>\n",
       "      <td>0</td>\n",
       "      <td>Normal</td>\n",
       "      <td>0</td>\n",
       "    </tr>\n",
       "    <tr>\n",
       "      <th>4</th>\n",
       "      <td>0.000010</td>\n",
       "      <td>0.357309</td>\n",
       "      <td>0.572718</td>\n",
       "      <td>0.414942</td>\n",
       "      <td>2</td>\n",
       "      <td>0</td>\n",
       "      <td>2126</td>\n",
       "      <td>0</td>\n",
       "      <td>100000.002500</td>\n",
       "      <td>254</td>\n",
       "      <td>...</td>\n",
       "      <td>1</td>\n",
       "      <td>3</td>\n",
       "      <td>0</td>\n",
       "      <td>0</td>\n",
       "      <td>0</td>\n",
       "      <td>2</td>\n",
       "      <td>3</td>\n",
       "      <td>0</td>\n",
       "      <td>Normal</td>\n",
       "      <td>0</td>\n",
       "    </tr>\n",
       "    <tr>\n",
       "      <th>...</th>\n",
       "      <td>...</td>\n",
       "      <td>...</td>\n",
       "      <td>...</td>\n",
       "      <td>...</td>\n",
       "      <td>...</td>\n",
       "      <td>...</td>\n",
       "      <td>...</td>\n",
       "      <td>...</td>\n",
       "      <td>...</td>\n",
       "      <td>...</td>\n",
       "      <td>...</td>\n",
       "      <td>...</td>\n",
       "      <td>...</td>\n",
       "      <td>...</td>\n",
       "      <td>...</td>\n",
       "      <td>...</td>\n",
       "      <td>...</td>\n",
       "      <td>...</td>\n",
       "      <td>...</td>\n",
       "      <td>...</td>\n",
       "      <td>...</td>\n",
       "    </tr>\n",
       "    <tr>\n",
       "      <th>82327</th>\n",
       "      <td>0.000005</td>\n",
       "      <td>0.357309</td>\n",
       "      <td>0.572718</td>\n",
       "      <td>0.414942</td>\n",
       "      <td>2</td>\n",
       "      <td>0</td>\n",
       "      <td>104</td>\n",
       "      <td>0</td>\n",
       "      <td>200000.005100</td>\n",
       "      <td>254</td>\n",
       "      <td>...</td>\n",
       "      <td>1</td>\n",
       "      <td>2</td>\n",
       "      <td>0</td>\n",
       "      <td>0</td>\n",
       "      <td>0</td>\n",
       "      <td>2</td>\n",
       "      <td>1</td>\n",
       "      <td>0</td>\n",
       "      <td>Normal</td>\n",
       "      <td>0</td>\n",
       "    </tr>\n",
       "    <tr>\n",
       "      <th>82328</th>\n",
       "      <td>1.106101</td>\n",
       "      <td>0.523430</td>\n",
       "      <td>0.572718</td>\n",
       "      <td>0.477809</td>\n",
       "      <td>20</td>\n",
       "      <td>8</td>\n",
       "      <td>18062</td>\n",
       "      <td>354</td>\n",
       "      <td>24.410067</td>\n",
       "      <td>254</td>\n",
       "      <td>...</td>\n",
       "      <td>1</td>\n",
       "      <td>1</td>\n",
       "      <td>0</td>\n",
       "      <td>0</td>\n",
       "      <td>0</td>\n",
       "      <td>3</td>\n",
       "      <td>2</td>\n",
       "      <td>0</td>\n",
       "      <td>Normal</td>\n",
       "      <td>0</td>\n",
       "    </tr>\n",
       "    <tr>\n",
       "      <th>82329</th>\n",
       "      <td>0.000000</td>\n",
       "      <td>0.011988</td>\n",
       "      <td>0.572718</td>\n",
       "      <td>0.414942</td>\n",
       "      <td>1</td>\n",
       "      <td>0</td>\n",
       "      <td>46</td>\n",
       "      <td>0</td>\n",
       "      <td>0.000000</td>\n",
       "      <td>0</td>\n",
       "      <td>...</td>\n",
       "      <td>1</td>\n",
       "      <td>1</td>\n",
       "      <td>0</td>\n",
       "      <td>0</td>\n",
       "      <td>0</td>\n",
       "      <td>1</td>\n",
       "      <td>1</td>\n",
       "      <td>1</td>\n",
       "      <td>Normal</td>\n",
       "      <td>0</td>\n",
       "    </tr>\n",
       "    <tr>\n",
       "      <th>82330</th>\n",
       "      <td>0.000000</td>\n",
       "      <td>0.011988</td>\n",
       "      <td>0.572718</td>\n",
       "      <td>0.414942</td>\n",
       "      <td>1</td>\n",
       "      <td>0</td>\n",
       "      <td>46</td>\n",
       "      <td>0</td>\n",
       "      <td>0.000000</td>\n",
       "      <td>0</td>\n",
       "      <td>...</td>\n",
       "      <td>1</td>\n",
       "      <td>1</td>\n",
       "      <td>0</td>\n",
       "      <td>0</td>\n",
       "      <td>0</td>\n",
       "      <td>1</td>\n",
       "      <td>1</td>\n",
       "      <td>1</td>\n",
       "      <td>Normal</td>\n",
       "      <td>0</td>\n",
       "    </tr>\n",
       "    <tr>\n",
       "      <th>82331</th>\n",
       "      <td>0.000009</td>\n",
       "      <td>0.357309</td>\n",
       "      <td>0.572718</td>\n",
       "      <td>0.414942</td>\n",
       "      <td>2</td>\n",
       "      <td>0</td>\n",
       "      <td>104</td>\n",
       "      <td>0</td>\n",
       "      <td>111111.107200</td>\n",
       "      <td>254</td>\n",
       "      <td>...</td>\n",
       "      <td>1</td>\n",
       "      <td>1</td>\n",
       "      <td>0</td>\n",
       "      <td>0</td>\n",
       "      <td>0</td>\n",
       "      <td>1</td>\n",
       "      <td>1</td>\n",
       "      <td>0</td>\n",
       "      <td>Normal</td>\n",
       "      <td>0</td>\n",
       "    </tr>\n",
       "  </tbody>\n",
       "</table>\n",
       "<p>82332 rows × 44 columns</p>\n",
       "</div>"
      ],
      "text/plain": [
       "            dur     proto   service     state  spkts  dpkts  sbytes  dbytes  \\\n",
       "0      0.000011  0.357309  0.572718  0.414942      2      0     496       0   \n",
       "1      0.000008  0.357309  0.572718  0.414942      2      0    1762       0   \n",
       "2      0.000005  0.357309  0.572718  0.414942      2      0    1068       0   \n",
       "3      0.000006  0.357309  0.572718  0.414942      2      0     900       0   \n",
       "4      0.000010  0.357309  0.572718  0.414942      2      0    2126       0   \n",
       "...         ...       ...       ...       ...    ...    ...     ...     ...   \n",
       "82327  0.000005  0.357309  0.572718  0.414942      2      0     104       0   \n",
       "82328  1.106101  0.523430  0.572718  0.477809     20      8   18062     354   \n",
       "82329  0.000000  0.011988  0.572718  0.414942      1      0      46       0   \n",
       "82330  0.000000  0.011988  0.572718  0.414942      1      0      46       0   \n",
       "82331  0.000009  0.357309  0.572718  0.414942      2      0     104       0   \n",
       "\n",
       "                rate  sttl  ...  ct_dst_sport_ltm  ct_dst_src_ltm  \\\n",
       "0       90909.090200   254  ...                 1               2   \n",
       "1      125000.000300   254  ...                 1               2   \n",
       "2      200000.005100   254  ...                 1               3   \n",
       "3      166666.660800   254  ...                 1               3   \n",
       "4      100000.002500   254  ...                 1               3   \n",
       "...              ...   ...  ...               ...             ...   \n",
       "82327  200000.005100   254  ...                 1               2   \n",
       "82328      24.410067   254  ...                 1               1   \n",
       "82329       0.000000     0  ...                 1               1   \n",
       "82330       0.000000     0  ...                 1               1   \n",
       "82331  111111.107200   254  ...                 1               1   \n",
       "\n",
       "       is_ftp_login  ct_ftp_cmd  ct_flw_http_mthd  ct_src_ltm  ct_srv_dst  \\\n",
       "0                 0           0                 0           1           2   \n",
       "1                 0           0                 0           1           2   \n",
       "2                 0           0                 0           1           3   \n",
       "3                 0           0                 0           2           3   \n",
       "4                 0           0                 0           2           3   \n",
       "...             ...         ...               ...         ...         ...   \n",
       "82327             0           0                 0           2           1   \n",
       "82328             0           0                 0           3           2   \n",
       "82329             0           0                 0           1           1   \n",
       "82330             0           0                 0           1           1   \n",
       "82331             0           0                 0           1           1   \n",
       "\n",
       "       is_sm_ips_ports  attack_cat  label  \n",
       "0                    0      Normal      0  \n",
       "1                    0      Normal      0  \n",
       "2                    0      Normal      0  \n",
       "3                    0      Normal      0  \n",
       "4                    0      Normal      0  \n",
       "...                ...         ...    ...  \n",
       "82327                0      Normal      0  \n",
       "82328                0      Normal      0  \n",
       "82329                1      Normal      0  \n",
       "82330                1      Normal      0  \n",
       "82331                0      Normal      0  \n",
       "\n",
       "[82332 rows x 44 columns]"
      ]
     },
     "execution_count": 16,
     "metadata": {},
     "output_type": "execute_result"
    }
   ],
   "source": [
    "for i in ['proto', 'service', 'state']:\n",
    "    dic = dict(test.groupby(i)['attack_cat'].count()/test.shape[0])\n",
    "    test[i] = test[i].map(dic)\n",
    "test"
   ]
  },
  {
   "cell_type": "code",
   "execution_count": 17,
   "metadata": {},
   "outputs": [
    {
     "data": {
      "text/html": [
       "<div>\n",
       "<style scoped>\n",
       "    .dataframe tbody tr th:only-of-type {\n",
       "        vertical-align: middle;\n",
       "    }\n",
       "\n",
       "    .dataframe tbody tr th {\n",
       "        vertical-align: top;\n",
       "    }\n",
       "\n",
       "    .dataframe thead th {\n",
       "        text-align: right;\n",
       "    }\n",
       "</style>\n",
       "<table border=\"1\" class=\"dataframe\">\n",
       "  <thead>\n",
       "    <tr style=\"text-align: right;\">\n",
       "      <th></th>\n",
       "      <th>dur</th>\n",
       "      <th>proto</th>\n",
       "      <th>service</th>\n",
       "      <th>state</th>\n",
       "      <th>spkts</th>\n",
       "      <th>dpkts</th>\n",
       "      <th>sbytes</th>\n",
       "      <th>dbytes</th>\n",
       "      <th>rate</th>\n",
       "      <th>sttl</th>\n",
       "      <th>...</th>\n",
       "      <th>ct_dst_src_ltm</th>\n",
       "      <th>is_ftp_login</th>\n",
       "      <th>ct_ftp_cmd</th>\n",
       "      <th>ct_flw_http_mthd</th>\n",
       "      <th>ct_src_ltm</th>\n",
       "      <th>ct_srv_dst</th>\n",
       "      <th>is_sm_ips_ports</th>\n",
       "      <th>attack_cat</th>\n",
       "      <th>label</th>\n",
       "      <th>attack_label</th>\n",
       "    </tr>\n",
       "  </thead>\n",
       "  <tbody>\n",
       "    <tr>\n",
       "      <th>0</th>\n",
       "      <td>0.000011</td>\n",
       "      <td>0.357309</td>\n",
       "      <td>0.572718</td>\n",
       "      <td>0.414942</td>\n",
       "      <td>2</td>\n",
       "      <td>0</td>\n",
       "      <td>496</td>\n",
       "      <td>0</td>\n",
       "      <td>90909.0902</td>\n",
       "      <td>254</td>\n",
       "      <td>...</td>\n",
       "      <td>2</td>\n",
       "      <td>0</td>\n",
       "      <td>0</td>\n",
       "      <td>0</td>\n",
       "      <td>1</td>\n",
       "      <td>2</td>\n",
       "      <td>0</td>\n",
       "      <td>Normal</td>\n",
       "      <td>0</td>\n",
       "      <td>0</td>\n",
       "    </tr>\n",
       "    <tr>\n",
       "      <th>1</th>\n",
       "      <td>0.000008</td>\n",
       "      <td>0.357309</td>\n",
       "      <td>0.572718</td>\n",
       "      <td>0.414942</td>\n",
       "      <td>2</td>\n",
       "      <td>0</td>\n",
       "      <td>1762</td>\n",
       "      <td>0</td>\n",
       "      <td>125000.0003</td>\n",
       "      <td>254</td>\n",
       "      <td>...</td>\n",
       "      <td>2</td>\n",
       "      <td>0</td>\n",
       "      <td>0</td>\n",
       "      <td>0</td>\n",
       "      <td>1</td>\n",
       "      <td>2</td>\n",
       "      <td>0</td>\n",
       "      <td>Normal</td>\n",
       "      <td>0</td>\n",
       "      <td>0</td>\n",
       "    </tr>\n",
       "  </tbody>\n",
       "</table>\n",
       "<p>2 rows × 45 columns</p>\n",
       "</div>"
      ],
      "text/plain": [
       "        dur     proto   service     state  spkts  dpkts  sbytes  dbytes  \\\n",
       "0  0.000011  0.357309  0.572718  0.414942      2      0     496       0   \n",
       "1  0.000008  0.357309  0.572718  0.414942      2      0    1762       0   \n",
       "\n",
       "          rate  sttl  ...  ct_dst_src_ltm  is_ftp_login  ct_ftp_cmd  \\\n",
       "0   90909.0902   254  ...               2             0           0   \n",
       "1  125000.0003   254  ...               2             0           0   \n",
       "\n",
       "   ct_flw_http_mthd  ct_src_ltm  ct_srv_dst  is_sm_ips_ports  attack_cat  \\\n",
       "0                 0           1           2                0      Normal   \n",
       "1                 0           1           2                0      Normal   \n",
       "\n",
       "   label  attack_label  \n",
       "0      0             0  \n",
       "1      0             0  \n",
       "\n",
       "[2 rows x 45 columns]"
      ]
     },
     "execution_count": 17,
     "metadata": {},
     "output_type": "execute_result"
    }
   ],
   "source": [
    "test['attack_label'] = test['attack_cat'].map(atk_lab)\n",
    "test.head(2)"
   ]
  },
  {
   "cell_type": "code",
   "execution_count": 18,
   "metadata": {},
   "outputs": [
    {
     "data": {
      "text/html": [
       "<div>\n",
       "<style scoped>\n",
       "    .dataframe tbody tr th:only-of-type {\n",
       "        vertical-align: middle;\n",
       "    }\n",
       "\n",
       "    .dataframe tbody tr th {\n",
       "        vertical-align: top;\n",
       "    }\n",
       "\n",
       "    .dataframe thead th {\n",
       "        text-align: right;\n",
       "    }\n",
       "</style>\n",
       "<table border=\"1\" class=\"dataframe\">\n",
       "  <thead>\n",
       "    <tr style=\"text-align: right;\">\n",
       "      <th></th>\n",
       "      <th>dur</th>\n",
       "      <th>spkts</th>\n",
       "      <th>dpkts</th>\n",
       "      <th>sbytes</th>\n",
       "      <th>dbytes</th>\n",
       "      <th>rate</th>\n",
       "      <th>sttl</th>\n",
       "      <th>dttl</th>\n",
       "      <th>sload</th>\n",
       "      <th>dload</th>\n",
       "      <th>...</th>\n",
       "      <th>ct_flw_http_mthd</th>\n",
       "      <th>ct_src_ltm</th>\n",
       "      <th>ct_srv_dst</th>\n",
       "      <th>is_sm_ips_ports</th>\n",
       "      <th>label</th>\n",
       "      <th>proto</th>\n",
       "      <th>service</th>\n",
       "      <th>state</th>\n",
       "      <th>attack_cat</th>\n",
       "      <th>attack_label</th>\n",
       "    </tr>\n",
       "  </thead>\n",
       "  <tbody>\n",
       "    <tr>\n",
       "      <th>0</th>\n",
       "      <td>0.121478</td>\n",
       "      <td>6</td>\n",
       "      <td>4</td>\n",
       "      <td>258</td>\n",
       "      <td>172</td>\n",
       "      <td>74.087490</td>\n",
       "      <td>252</td>\n",
       "      <td>254</td>\n",
       "      <td>14158.942380</td>\n",
       "      <td>8495.365234</td>\n",
       "      <td>...</td>\n",
       "      <td>0</td>\n",
       "      <td>1</td>\n",
       "      <td>1</td>\n",
       "      <td>0</td>\n",
       "      <td>0</td>\n",
       "      <td>0.455946</td>\n",
       "      <td>0.537056</td>\n",
       "      <td>0.443849</td>\n",
       "      <td>Normal</td>\n",
       "      <td>0</td>\n",
       "    </tr>\n",
       "    <tr>\n",
       "      <th>1</th>\n",
       "      <td>0.649902</td>\n",
       "      <td>14</td>\n",
       "      <td>38</td>\n",
       "      <td>734</td>\n",
       "      <td>42014</td>\n",
       "      <td>78.473372</td>\n",
       "      <td>62</td>\n",
       "      <td>252</td>\n",
       "      <td>8395.112305</td>\n",
       "      <td>503571.312500</td>\n",
       "      <td>...</td>\n",
       "      <td>0</td>\n",
       "      <td>1</td>\n",
       "      <td>6</td>\n",
       "      <td>0</td>\n",
       "      <td>0</td>\n",
       "      <td>0.455946</td>\n",
       "      <td>0.537056</td>\n",
       "      <td>0.443849</td>\n",
       "      <td>Normal</td>\n",
       "      <td>0</td>\n",
       "    </tr>\n",
       "  </tbody>\n",
       "</table>\n",
       "<p>2 rows × 45 columns</p>\n",
       "</div>"
      ],
      "text/plain": [
       "        dur  spkts  dpkts  sbytes  dbytes       rate  sttl  dttl  \\\n",
       "0  0.121478      6      4     258     172  74.087490   252   254   \n",
       "1  0.649902     14     38     734   42014  78.473372    62   252   \n",
       "\n",
       "          sload          dload  ...  ct_flw_http_mthd  ct_src_ltm  ct_srv_dst  \\\n",
       "0  14158.942380    8495.365234  ...                 0           1           1   \n",
       "1   8395.112305  503571.312500  ...                 0           1           6   \n",
       "\n",
       "   is_sm_ips_ports  label     proto   service     state  attack_cat  \\\n",
       "0                0      0  0.455946  0.537056  0.443849      Normal   \n",
       "1                0      0  0.455946  0.537056  0.443849      Normal   \n",
       "\n",
       "   attack_label  \n",
       "0             0  \n",
       "1             0  \n",
       "\n",
       "[2 rows x 45 columns]"
      ]
     },
     "execution_count": 18,
     "metadata": {},
     "output_type": "execute_result"
    }
   ],
   "source": [
    "df = pd.concat([df_num, df_cat], axis = 1)\n",
    "df.head(2)"
   ]
  },
  {
   "cell_type": "markdown",
   "metadata": {},
   "source": [
    "## ------------------------ Decision Tree --------------------------------------------"
   ]
  },
  {
   "cell_type": "code",
   "execution_count": 36,
   "metadata": {},
   "outputs": [],
   "source": [
    "X = df.drop(['attack_cat', 'attack_label'], axis = 1)\n",
    "Y = df['attack_cat']"
   ]
  },
  {
   "cell_type": "code",
   "execution_count": 27,
   "metadata": {},
   "outputs": [
    {
     "data": {
      "text/plain": [
       "((175341, 43), (175341,))"
      ]
     },
     "execution_count": 27,
     "metadata": {},
     "output_type": "execute_result"
    }
   ],
   "source": [
    "X.shape, Y.shape"
   ]
  },
  {
   "cell_type": "code",
   "execution_count": 28,
   "metadata": {},
   "outputs": [],
   "source": [
    "Xtest = test.drop('attack_cat', axis = 1)\n",
    "Ytest = test['attack_cat']"
   ]
  },
  {
   "cell_type": "code",
   "execution_count": 29,
   "metadata": {},
   "outputs": [
    {
     "data": {
      "text/plain": [
       "((82332, 43), (82332,))"
      ]
     },
     "execution_count": 29,
     "metadata": {},
     "output_type": "execute_result"
    }
   ],
   "source": [
    "Xtest.shape, Ytest.shape"
   ]
  },
  {
   "cell_type": "code",
   "execution_count": 24,
   "metadata": {},
   "outputs": [
    {
     "data": {
      "text/plain": [
       "DecisionTreeClassifier(random_state=0)"
      ]
     },
     "execution_count": 24,
     "metadata": {},
     "output_type": "execute_result"
    }
   ],
   "source": [
    "dt = DecisionTreeClassifier(random_state = 0)\n",
    "dt.fit(X, Y)"
   ]
  },
  {
   "cell_type": "code",
   "execution_count": 25,
   "metadata": {},
   "outputs": [
    {
     "data": {
      "text/plain": [
       "0.9091142402518521"
      ]
     },
     "execution_count": 25,
     "metadata": {},
     "output_type": "execute_result"
    }
   ],
   "source": [
    "dt.score(X,Y)"
   ]
  },
  {
   "cell_type": "code",
   "execution_count": 30,
   "metadata": {},
   "outputs": [
    {
     "data": {
      "text/plain": [
       "0.04246222610892484"
      ]
     },
     "execution_count": 30,
     "metadata": {},
     "output_type": "execute_result"
    }
   ],
   "source": [
    "dt.score(Xtest, Ytest)"
   ]
  },
  {
   "cell_type": "markdown",
   "metadata": {},
   "source": [
    "## ------------------------------------- Random Forest ---------------------------------------------------"
   ]
  },
  {
   "cell_type": "code",
   "execution_count": 16,
   "metadata": {},
   "outputs": [],
   "source": [
    "kf = KFold(n_splits = 5, shuffle = True, random_state = 0)"
   ]
  },
  {
   "cell_type": "code",
   "execution_count": 17,
   "metadata": {},
   "outputs": [
    {
     "data": {
      "text/html": [
       "<div>\n",
       "<style scoped>\n",
       "    .dataframe tbody tr th:only-of-type {\n",
       "        vertical-align: middle;\n",
       "    }\n",
       "\n",
       "    .dataframe tbody tr th {\n",
       "        vertical-align: top;\n",
       "    }\n",
       "\n",
       "    .dataframe thead th {\n",
       "        text-align: right;\n",
       "    }\n",
       "</style>\n",
       "<table border=\"1\" class=\"dataframe\">\n",
       "  <thead>\n",
       "    <tr style=\"text-align: right;\">\n",
       "      <th></th>\n",
       "      <th>dur</th>\n",
       "      <th>spkts</th>\n",
       "      <th>dpkts</th>\n",
       "      <th>sbytes</th>\n",
       "      <th>dbytes</th>\n",
       "      <th>rate</th>\n",
       "      <th>sttl</th>\n",
       "      <th>dttl</th>\n",
       "      <th>sload</th>\n",
       "      <th>dload</th>\n",
       "      <th>...</th>\n",
       "      <th>ct_flw_http_mthd</th>\n",
       "      <th>ct_src_ltm</th>\n",
       "      <th>ct_srv_dst</th>\n",
       "      <th>is_sm_ips_ports</th>\n",
       "      <th>label</th>\n",
       "      <th>proto</th>\n",
       "      <th>service</th>\n",
       "      <th>state</th>\n",
       "      <th>attack_cat</th>\n",
       "      <th>attack_label</th>\n",
       "    </tr>\n",
       "  </thead>\n",
       "  <tbody>\n",
       "    <tr>\n",
       "      <th>0</th>\n",
       "      <td>0.121478</td>\n",
       "      <td>6</td>\n",
       "      <td>4</td>\n",
       "      <td>258</td>\n",
       "      <td>172</td>\n",
       "      <td>74.087490</td>\n",
       "      <td>252</td>\n",
       "      <td>254</td>\n",
       "      <td>14158.942380</td>\n",
       "      <td>8495.365234</td>\n",
       "      <td>...</td>\n",
       "      <td>0</td>\n",
       "      <td>1</td>\n",
       "      <td>1</td>\n",
       "      <td>0</td>\n",
       "      <td>0</td>\n",
       "      <td>0.455946</td>\n",
       "      <td>0.537056</td>\n",
       "      <td>0.443849</td>\n",
       "      <td>Normal</td>\n",
       "      <td>0</td>\n",
       "    </tr>\n",
       "    <tr>\n",
       "      <th>1</th>\n",
       "      <td>0.649902</td>\n",
       "      <td>14</td>\n",
       "      <td>38</td>\n",
       "      <td>734</td>\n",
       "      <td>42014</td>\n",
       "      <td>78.473372</td>\n",
       "      <td>62</td>\n",
       "      <td>252</td>\n",
       "      <td>8395.112305</td>\n",
       "      <td>503571.312500</td>\n",
       "      <td>...</td>\n",
       "      <td>0</td>\n",
       "      <td>1</td>\n",
       "      <td>6</td>\n",
       "      <td>0</td>\n",
       "      <td>0</td>\n",
       "      <td>0.455946</td>\n",
       "      <td>0.537056</td>\n",
       "      <td>0.443849</td>\n",
       "      <td>Normal</td>\n",
       "      <td>0</td>\n",
       "    </tr>\n",
       "  </tbody>\n",
       "</table>\n",
       "<p>2 rows × 45 columns</p>\n",
       "</div>"
      ],
      "text/plain": [
       "        dur  spkts  dpkts  sbytes  dbytes       rate  sttl  dttl  \\\n",
       "0  0.121478      6      4     258     172  74.087490   252   254   \n",
       "1  0.649902     14     38     734   42014  78.473372    62   252   \n",
       "\n",
       "          sload          dload  ...  ct_flw_http_mthd  ct_src_ltm  ct_srv_dst  \\\n",
       "0  14158.942380    8495.365234  ...                 0           1           1   \n",
       "1   8395.112305  503571.312500  ...                 0           1           6   \n",
       "\n",
       "   is_sm_ips_ports  label     proto   service     state  attack_cat  \\\n",
       "0                0      0  0.455946  0.537056  0.443849      Normal   \n",
       "1                0      0  0.455946  0.537056  0.443849      Normal   \n",
       "\n",
       "   attack_label  \n",
       "0             0  \n",
       "1             0  \n",
       "\n",
       "[2 rows x 45 columns]"
      ]
     },
     "execution_count": 17,
     "metadata": {},
     "output_type": "execute_result"
    }
   ],
   "source": [
    "df_RF = pd.concat([df_num, df_cat], axis = 1)\n",
    "df_RF.head(2)"
   ]
  },
  {
   "cell_type": "code",
   "execution_count": 18,
   "metadata": {},
   "outputs": [],
   "source": [
    "X_RF = df_RF.drop(['attack_cat', 'attack_label'], axis = 1)\n",
    "Y_RF = df_RF['attack_label']"
   ]
  },
  {
   "cell_type": "code",
   "execution_count": 19,
   "metadata": {},
   "outputs": [],
   "source": [
    "Xtest_RF = test.drop(['attack_cat', 'attack_label'], axis = 1)\n",
    "Ytest_RF = test['attack_label']"
   ]
  },
  {
   "cell_type": "code",
   "execution_count": 47,
   "metadata": {},
   "outputs": [
    {
     "data": {
      "text/plain": [
       "GridSearchCV(cv=KFold(n_splits=5, random_state=0, shuffle=True),\n",
       "             estimator=RandomForestClassifier(), n_jobs=-1,\n",
       "             param_grid={'criterion': ['entropy', 'gini'],\n",
       "                         'max_depth': range(1, 11),\n",
       "                         'n_estimators': [100, 150, 200, 250], 'n_jobs': [-1]},\n",
       "             scoring='f1_weighted')"
      ]
     },
     "execution_count": 47,
     "metadata": {},
     "output_type": "execute_result"
    }
   ],
   "source": [
    "RF = RandomForestClassifier()\n",
    "param = {'n_estimators' : [100, 150, 200, 250], 'criterion' : ['entropy', 'gini'], 'max_depth' : range(1,11), 'n_jobs' : [-1]}\n",
    "GS = GridSearchCV(RF, param, cv = kf, n_jobs = -1, scoring = 'f1_weighted')\n",
    "GS.fit(X_RF, Y_RF)"
   ]
  },
  {
   "cell_type": "code",
   "execution_count": 48,
   "metadata": {},
   "outputs": [
    {
     "data": {
      "text/plain": [
       "{'criterion': 'entropy', 'max_depth': 10, 'n_estimators': 150, 'n_jobs': -1}"
      ]
     },
     "execution_count": 48,
     "metadata": {},
     "output_type": "execute_result"
    }
   ],
   "source": [
    "GS.best_params_"
   ]
  },
  {
   "cell_type": "code",
   "execution_count": 49,
   "metadata": {},
   "outputs": [
    {
     "data": {
      "text/plain": [
       "GridSearchCV(cv=KFold(n_splits=5, random_state=0, shuffle=True),\n",
       "             estimator=RandomForestClassifier(), n_jobs=-1,\n",
       "             param_grid={'criterion': ['entropy', 'gini'],\n",
       "                         'max_depth': range(10, 20),\n",
       "                         'n_estimators': [100, 150, 200, 250], 'n_jobs': [-1]},\n",
       "             scoring='f1_weighted')"
      ]
     },
     "execution_count": 49,
     "metadata": {},
     "output_type": "execute_result"
    }
   ],
   "source": [
    "RF = RandomForestClassifier()\n",
    "param = {'n_estimators' : [100, 150, 200, 250], 'criterion' : ['entropy', 'gini'], 'max_depth' : range(10,20), 'n_jobs' : [-1]}\n",
    "GS = GridSearchCV(RF, param, cv = kf, n_jobs = -1, scoring = 'f1_weighted')\n",
    "GS.fit(X_RF, Y_RF)"
   ]
  },
  {
   "cell_type": "code",
   "execution_count": 50,
   "metadata": {},
   "outputs": [
    {
     "data": {
      "text/plain": [
       "{'criterion': 'entropy', 'max_depth': 19, 'n_estimators': 100, 'n_jobs': -1}"
      ]
     },
     "execution_count": 50,
     "metadata": {},
     "output_type": "execute_result"
    }
   ],
   "source": [
    "GS.best_params_"
   ]
  },
  {
   "cell_type": "code",
   "execution_count": 51,
   "metadata": {},
   "outputs": [
    {
     "data": {
      "text/plain": [
       "GridSearchCV(cv=KFold(n_splits=5, random_state=0, shuffle=True),\n",
       "             estimator=RandomForestClassifier(), n_jobs=-1,\n",
       "             param_grid={'criterion': ['entropy', 'gini'],\n",
       "                         'min_samples_leaf': range(2, 6),\n",
       "                         'n_estimators': [80, 100, 150, 200], 'n_jobs': [-1]},\n",
       "             scoring='f1_weighted')"
      ]
     },
     "execution_count": 51,
     "metadata": {},
     "output_type": "execute_result"
    }
   ],
   "source": [
    "RF = RandomForestClassifier()\n",
    "param = {'n_estimators' : [80, 100, 150, 200], 'criterion' : ['entropy', 'gini'], 'min_samples_leaf' : range(2,6), 'n_jobs' : [-1]}\n",
    "GS = GridSearchCV(RF, param, cv = kf, n_jobs = -1, scoring = 'f1_weighted')\n",
    "GS.fit(X_RF, Y_RF)"
   ]
  },
  {
   "cell_type": "code",
   "execution_count": 52,
   "metadata": {},
   "outputs": [
    {
     "data": {
      "text/plain": [
       "{'criterion': 'gini', 'min_samples_leaf': 2, 'n_estimators': 200, 'n_jobs': -1}"
      ]
     },
     "execution_count": 52,
     "metadata": {},
     "output_type": "execute_result"
    }
   ],
   "source": [
    "GS.best_params_"
   ]
  },
  {
   "cell_type": "code",
   "execution_count": 19,
   "metadata": {},
   "outputs": [
    {
     "data": {
      "text/plain": [
       "GridSearchCV(cv=KFold(n_splits=5, random_state=0, shuffle=True),\n",
       "             estimator=RandomForestClassifier(), n_jobs=-1,\n",
       "             param_grid={'criterion': ['entropy', 'gini'],\n",
       "                         'min_samples_leaf': range(2, 4),\n",
       "                         'n_estimators': [200, 220, 250, 280, 300],\n",
       "                         'n_jobs': [-1]},\n",
       "             scoring='f1_weighted')"
      ]
     },
     "execution_count": 19,
     "metadata": {},
     "output_type": "execute_result"
    }
   ],
   "source": [
    "RF = RandomForestClassifier()\n",
    "param = {'n_estimators' : [200, 220, 250, 280, 300], 'criterion' : ['entropy', 'gini'], 'min_samples_leaf' : range(2,4), 'n_jobs' : [-1]}\n",
    "GS = GridSearchCV(RF, param, cv = kf, n_jobs = -1, scoring = 'f1_weighted')\n",
    "GS.fit(X_RF, Y_RF)"
   ]
  },
  {
   "cell_type": "code",
   "execution_count": 20,
   "metadata": {},
   "outputs": [
    {
     "data": {
      "text/plain": [
       "{'criterion': 'gini', 'min_samples_leaf': 2, 'n_estimators': 300, 'n_jobs': -1}"
      ]
     },
     "execution_count": 20,
     "metadata": {},
     "output_type": "execute_result"
    }
   ],
   "source": [
    "GS.best_params_"
   ]
  },
  {
   "cell_type": "code",
   "execution_count": 22,
   "metadata": {},
   "outputs": [
    {
     "data": {
      "text/plain": [
       "GridSearchCV(cv=KFold(n_splits=5, random_state=0, shuffle=True),\n",
       "             estimator=RandomForestClassifier(), n_jobs=-1,\n",
       "             param_grid={'criterion': ['entropy', 'gini'],\n",
       "                         'min_samples_leaf': [2],\n",
       "                         'n_estimators': [300, 320, 350, 380, 400],\n",
       "                         'n_jobs': [-1]},\n",
       "             scoring='f1_weighted')"
      ]
     },
     "execution_count": 22,
     "metadata": {},
     "output_type": "execute_result"
    }
   ],
   "source": [
    "RF = RandomForestClassifier()\n",
    "param = {'n_estimators' : [300, 320, 350, 380, 400], 'criterion' : ['entropy', 'gini'], 'min_samples_leaf' : [2], 'n_jobs' : [-1]}\n",
    "GS = GridSearchCV(RF, param, cv = kf, n_jobs = -1, scoring = 'f1_weighted')\n",
    "GS.fit(X_RF, Y_RF)"
   ]
  },
  {
   "cell_type": "code",
   "execution_count": 23,
   "metadata": {},
   "outputs": [
    {
     "data": {
      "text/plain": [
       "{'criterion': 'gini', 'min_samples_leaf': 2, 'n_estimators': 320, 'n_jobs': -1}"
      ]
     },
     "execution_count": 23,
     "metadata": {},
     "output_type": "execute_result"
    }
   ],
   "source": [
    "GS.best_params_"
   ]
  },
  {
   "cell_type": "code",
   "execution_count": 20,
   "metadata": {},
   "outputs": [
    {
     "data": {
      "text/plain": [
       "RandomForestClassifier(min_samples_leaf=2, n_estimators=320, n_jobs=-1)"
      ]
     },
     "execution_count": 20,
     "metadata": {},
     "output_type": "execute_result"
    }
   ],
   "source": [
    "RF = RandomForestClassifier(n_estimators = 320, criterion = 'gini', min_samples_leaf = 2, n_jobs = -1)\n",
    "RF.fit(X_RF, Y_RF)"
   ]
  },
  {
   "cell_type": "code",
   "execution_count": 21,
   "metadata": {},
   "outputs": [
    {
     "data": {
      "text/plain": [
       "0.9035137246850423"
      ]
     },
     "execution_count": 21,
     "metadata": {},
     "output_type": "execute_result"
    }
   ],
   "source": [
    "RF.score(X_RF, Y_RF)"
   ]
  },
  {
   "cell_type": "code",
   "execution_count": 22,
   "metadata": {},
   "outputs": [
    {
     "data": {
      "text/plain": [
       "0.12924500801632416"
      ]
     },
     "execution_count": 22,
     "metadata": {},
     "output_type": "execute_result"
    }
   ],
   "source": [
    "RF.score(Xtest_RF, Ytest_RF)"
   ]
  },
  {
   "cell_type": "code",
   "execution_count": 25,
   "metadata": {},
   "outputs": [],
   "source": [
    "pt = PowerTransformer()\n",
    "xtn = pt.fit_transform(X_RF)\n",
    "xtt = pt.transform(Xtest_RF)"
   ]
  },
  {
   "cell_type": "code",
   "execution_count": 26,
   "metadata": {},
   "outputs": [
    {
     "data": {
      "text/plain": [
       "GridSearchCV(cv=KFold(n_splits=5, random_state=0, shuffle=True),\n",
       "             estimator=RandomForestClassifier(), n_jobs=-1,\n",
       "             param_grid={'criterion': ['entropy', 'gini'],\n",
       "                         'min_samples_leaf': [2],\n",
       "                         'n_estimators': [200, 250, 280, 300, 320, 350],\n",
       "                         'n_jobs': [-1]},\n",
       "             scoring='f1_weighted')"
      ]
     },
     "execution_count": 26,
     "metadata": {},
     "output_type": "execute_result"
    }
   ],
   "source": [
    "RF = RandomForestClassifier()\n",
    "param = {'n_estimators' : [200, 250, 280, 300, 320, 350], 'criterion' : ['entropy', 'gini'], 'min_samples_leaf' : [2], 'n_jobs' : [-1]}\n",
    "GS = GridSearchCV(RF, param, cv = kf, n_jobs = -1, scoring = 'f1_weighted')\n",
    "GS.fit(xtn, Y_RF)"
   ]
  },
  {
   "cell_type": "code",
   "execution_count": 27,
   "metadata": {},
   "outputs": [
    {
     "data": {
      "text/plain": [
       "{'criterion': 'gini', 'min_samples_leaf': 2, 'n_estimators': 320, 'n_jobs': -1}"
      ]
     },
     "execution_count": 27,
     "metadata": {},
     "output_type": "execute_result"
    }
   ],
   "source": [
    "GS.best_params_"
   ]
  },
  {
   "cell_type": "code",
   "execution_count": 28,
   "metadata": {},
   "outputs": [
    {
     "data": {
      "text/plain": [
       "RandomForestClassifier(min_samples_leaf=2, n_estimators=320, n_jobs=-1)"
      ]
     },
     "execution_count": 28,
     "metadata": {},
     "output_type": "execute_result"
    }
   ],
   "source": [
    "RF = RandomForestClassifier(n_estimators = 320, criterion = 'gini', min_samples_leaf = 2, n_jobs = -1)\n",
    "RF.fit(xtn, Y_RF)"
   ]
  },
  {
   "cell_type": "code",
   "execution_count": 29,
   "metadata": {},
   "outputs": [
    {
     "data": {
      "text/plain": [
       "0.9035935691024917"
      ]
     },
     "execution_count": 29,
     "metadata": {},
     "output_type": "execute_result"
    }
   ],
   "source": [
    "RF.score(xtn, Y_RF)"
   ]
  },
  {
   "cell_type": "code",
   "execution_count": 30,
   "metadata": {},
   "outputs": [
    {
     "data": {
      "text/plain": [
       "0.14287275907302144"
      ]
     },
     "execution_count": 30,
     "metadata": {},
     "output_type": "execute_result"
    }
   ],
   "source": [
    "RF.score(xtt, Ytest_RF)"
   ]
  },
  {
   "cell_type": "markdown",
   "metadata": {},
   "source": [
    "## ---------------------------------------------------------------------------------------------"
   ]
  },
  {
   "cell_type": "code",
   "execution_count": 19,
   "metadata": {},
   "outputs": [
    {
     "data": {
      "text/plain": [
       "{'Normal': 0,\n",
       " 'Generic': 1,\n",
       " 'Exploits': 2,\n",
       " 'Fuzzers': 3,\n",
       " 'DoS': 4,\n",
       " 'Reconnaissance': 5,\n",
       " 'Analysis': 6,\n",
       " 'Backdoor': 7,\n",
       " 'Shellcode': 8,\n",
       " 'Worms': 9}"
      ]
     },
     "execution_count": 19,
     "metadata": {},
     "output_type": "execute_result"
    }
   ],
   "source": [
    "atk_lab"
   ]
  },
  {
   "cell_type": "code",
   "execution_count": 20,
   "metadata": {},
   "outputs": [
    {
     "data": {
      "text/plain": [
       "Normal            56000\n",
       "Generic           40000\n",
       "Exploits          33393\n",
       "Fuzzers           18184\n",
       "DoS               12264\n",
       "Reconnaissance    10491\n",
       "Analysis           2000\n",
       "Backdoor           1746\n",
       "Shellcode          1133\n",
       "Worms               130\n",
       "Name: attack_cat, dtype: int64"
      ]
     },
     "execution_count": 20,
     "metadata": {},
     "output_type": "execute_result"
    }
   ],
   "source": [
    "df['attack_cat'].value_counts()"
   ]
  },
  {
   "cell_type": "code",
   "execution_count": 21,
   "metadata": {},
   "outputs": [],
   "source": [
    "df['attack_label'] = df['attack_label'].replace({9 : 4, 6 : 5, 8 : 7})\n",
    "test['attack_label'] = test['attack_label'].replace({9 : 4, 6 : 5, 8 : 7})"
   ]
  },
  {
   "cell_type": "code",
   "execution_count": 22,
   "metadata": {},
   "outputs": [],
   "source": [
    "df['attack_label'] = df['attack_label'].replace({7:6})\n",
    "test['attack_label'] = test['attack_label'].replace({7:6})"
   ]
  },
  {
   "cell_type": "code",
   "execution_count": 23,
   "metadata": {},
   "outputs": [
    {
     "data": {
      "text/plain": [
       "0    56000\n",
       "1    40000\n",
       "2    33393\n",
       "3    18184\n",
       "5    12491\n",
       "4    12394\n",
       "6     2879\n",
       "Name: attack_label, dtype: int64"
      ]
     },
     "execution_count": 23,
     "metadata": {},
     "output_type": "execute_result"
    }
   ],
   "source": [
    "df['attack_label'].value_counts()"
   ]
  },
  {
   "cell_type": "code",
   "execution_count": 24,
   "metadata": {},
   "outputs": [],
   "source": [
    "Xtrain = df.drop(['attack_cat', 'attack_label'], axis = 1)\n",
    "Ytrain = df['attack_label']\n",
    "Xtest = test.drop(['attack_cat', 'attack_label'], axis = 1)\n",
    "Ytest = test['attack_label']"
   ]
  },
  {
   "cell_type": "code",
   "execution_count": 25,
   "metadata": {},
   "outputs": [],
   "source": [
    "Xtr_cols = Xtrain.columns\n",
    "Xtest = Xtest.loc[:, Xtr_cols]"
   ]
  },
  {
   "cell_type": "code",
   "execution_count": 26,
   "metadata": {},
   "outputs": [
    {
     "data": {
      "text/plain": [
       "((175341, 43), (82332, 43))"
      ]
     },
     "execution_count": 26,
     "metadata": {},
     "output_type": "execute_result"
    }
   ],
   "source": [
    "Xtrain.shape, Xtest.shape"
   ]
  },
  {
   "cell_type": "raw",
   "metadata": {},
   "source": [
    "pt = PowerTransformer()\n",
    "Xtrain = pt.fit_transform(Xtrain)\n",
    "Xtest = pt.transform(Xtest)"
   ]
  },
  {
   "cell_type": "raw",
   "metadata": {},
   "source": [
    "pca = PCA()\n",
    "Xtrain_pca = pca.fit_transform(Xtrain)\n",
    "Xtest_pca = pca.transform(Xtest)"
   ]
  },
  {
   "cell_type": "raw",
   "metadata": {},
   "source": [
    "pca_exp = pca.explained_variance_ratio_\n",
    "pca_exp"
   ]
  },
  {
   "cell_type": "raw",
   "metadata": {},
   "source": [
    "pca_cum = np.cumsum(pca_exp)*100\n",
    "pca_cum"
   ]
  },
  {
   "cell_type": "raw",
   "metadata": {},
   "source": [
    "pca = PCA(n_components = 0.9999)\n",
    "Xtrain_pca = pca.fit_transform(Xtrain)\n",
    "Xtest_pca = pca.transform(Xtest)"
   ]
  },
  {
   "cell_type": "raw",
   "metadata": {},
   "source": [
    "Xtrain_pca = pd.DataFrame(Xtrain_pca)\n",
    "Xtrain_pca.shape"
   ]
  },
  {
   "cell_type": "raw",
   "metadata": {},
   "source": [
    "Xtest_pca = pd.DataFrame(Xtest_pca)\n",
    "Xtest_pca.shape"
   ]
  },
  {
   "cell_type": "code",
   "execution_count": 24,
   "metadata": {},
   "outputs": [
    {
     "data": {
      "text/plain": [
       "XGBClassifier(base_score=0.5, booster='gbtree', colsample_bylevel=1,\n",
       "              colsample_bynode=1, colsample_bytree=1, gamma=0, gpu_id=-1,\n",
       "              importance_type='gain', interaction_constraints='',\n",
       "              learning_rate=0.300000012, max_delta_step=0, max_depth=6,\n",
       "              min_child_weight=1, missing=nan, monotone_constraints='()',\n",
       "              n_estimators=100, n_jobs=0, num_parallel_tree=1,\n",
       "              objective='multi:softprob', random_state=0, reg_alpha=0,\n",
       "              reg_lambda=1, scale_pos_weight=None, subsample=1,\n",
       "              tree_method='exact', validate_parameters=1, verbosity=None)"
      ]
     },
     "execution_count": 24,
     "metadata": {},
     "output_type": "execute_result"
    }
   ],
   "source": [
    "xgb = XGBClassifier(random_state = 0)\n",
    "xgb.fit(Xtrain, Ytrain)"
   ]
  },
  {
   "cell_type": "code",
   "execution_count": 25,
   "metadata": {},
   "outputs": [
    {
     "data": {
      "text/plain": [
       "0.8913887795780793"
      ]
     },
     "execution_count": 25,
     "metadata": {},
     "output_type": "execute_result"
    }
   ],
   "source": [
    "xgb.score(Xtrain, Ytrain)"
   ]
  },
  {
   "cell_type": "code",
   "execution_count": 26,
   "metadata": {},
   "outputs": [
    {
     "data": {
      "text/plain": [
       "0.8870062673079726"
      ]
     },
     "execution_count": 26,
     "metadata": {},
     "output_type": "execute_result"
    }
   ],
   "source": [
    "xgb.score(Xtest, Ytest)"
   ]
  },
  {
   "cell_type": "code",
   "execution_count": 27,
   "metadata": {},
   "outputs": [],
   "source": [
    "ypred_train = xgb.predict(Xtrain)\n",
    "ypred_test = xgb.predict(Xtest)"
   ]
  },
  {
   "cell_type": "code",
   "execution_count": 28,
   "metadata": {},
   "outputs": [
    {
     "data": {
      "text/plain": [
       "0    56000\n",
       "2    50585\n",
       "1    39549\n",
       "3    16808\n",
       "5     9248\n",
       "6     1660\n",
       "4     1491\n",
       "dtype: int64"
      ]
     },
     "execution_count": 28,
     "metadata": {},
     "output_type": "execute_result"
    }
   ],
   "source": [
    "pd.Series(ypred_train).value_counts()"
   ]
  },
  {
   "cell_type": "code",
   "execution_count": 29,
   "metadata": {},
   "outputs": [
    {
     "data": {
      "text/plain": [
       "0    37000\n",
       "1    18367\n",
       "2    15364\n",
       "3     4919\n",
       "5     3608\n",
       "6     2269\n",
       "4      805\n",
       "dtype: int64"
      ]
     },
     "execution_count": 29,
     "metadata": {},
     "output_type": "execute_result"
    }
   ],
   "source": [
    "pd.Series(ypred_test).value_counts()"
   ]
  },
  {
   "cell_type": "code",
   "execution_count": 30,
   "metadata": {},
   "outputs": [
    {
     "data": {
      "text/plain": [
       "array([[56000,     0,     0,     0,     0,     0,     0],\n",
       "       [    0, 39515,   442,    18,    12,     2,    11],\n",
       "       [    0,    18, 32704,   180,    83,   307,   101],\n",
       "       [    0,     8,  1607, 16490,     5,    17,    57],\n",
       "       [    0,     8, 10821,    64,  1376,    50,    75],\n",
       "       [    0,     0,  3594,     4,    11,  8839,    43],\n",
       "       [    0,     0,  1417,    52,     4,    33,  1373]], dtype=int64)"
      ]
     },
     "execution_count": 30,
     "metadata": {},
     "output_type": "execute_result"
    }
   ],
   "source": [
    "confusion_matrix(Ytrain, ypred_train)"
   ]
  },
  {
   "cell_type": "code",
   "execution_count": 31,
   "metadata": {},
   "outputs": [
    {
     "data": {
      "text/plain": [
       "array([[37000,     0,     0,     0,     0,     0,     0],\n",
       "       [    0, 18322,   464,    28,    26,     4,    27],\n",
       "       [    0,    21,  9647,   244,   174,   400,   646],\n",
       "       [    0,     9,  1108,  4370,    98,    86,   391],\n",
       "       [    0,    14,  2751,   113,   415,   212,   628],\n",
       "       [    0,     1,   998,    74,    50,  2874,   176],\n",
       "       [    0,     0,   396,    90,    42,    32,   401]], dtype=int64)"
      ]
     },
     "execution_count": 31,
     "metadata": {},
     "output_type": "execute_result"
    }
   ],
   "source": [
    "confusion_matrix(Ytest, ypred_test)"
   ]
  },
  {
   "cell_type": "code",
   "execution_count": 32,
   "metadata": {},
   "outputs": [
    {
     "name": "stdout",
     "output_type": "stream",
     "text": [
      "Train Accuracy\t: 0.8913887795780793\n",
      "Test Accuracy \t: 0.8870062673079726\n"
     ]
    }
   ],
   "source": [
    "# Accuracy\n",
    "print('Train Accuracy\\t:', accuracy_score(Ytrain, ypred_train))\n",
    "print('Test Accuracy \\t:', accuracy_score(Ytest, ypred_test))"
   ]
  },
  {
   "cell_type": "code",
   "execution_count": 33,
   "metadata": {},
   "outputs": [
    {
     "name": "stdout",
     "output_type": "stream",
     "text": [
      "Train Precision\t: 0.9190808685935375\n",
      "Test Precision \t: 0.8966685163233752\n"
     ]
    }
   ],
   "source": [
    "# Precision\n",
    "print('Train Precision\\t:', precision_score(Ytrain, ypred_train, average = 'weighted'))\n",
    "print('Test Precision \\t:', precision_score(Ytest, ypred_test, average = 'weighted'))"
   ]
  },
  {
   "cell_type": "code",
   "execution_count": 34,
   "metadata": {},
   "outputs": [
    {
     "name": "stdout",
     "output_type": "stream",
     "text": [
      "Train Recall\t: 0.8913887795780793\n",
      "Test Recall \t: 0.8870062673079726\n"
     ]
    }
   ],
   "source": [
    "# Recall\n",
    "print('Train Recall\\t:', recall_score(Ytrain, ypred_train, average = 'weighted'))\n",
    "print('Test Recall \\t:', recall_score(Ytest, ypred_test, average = 'weighted'))"
   ]
  },
  {
   "cell_type": "code",
   "execution_count": 35,
   "metadata": {},
   "outputs": [
    {
     "name": "stdout",
     "output_type": "stream",
     "text": [
      "Train f1 score\t: 0.8739662083916955\n",
      "Test f1 score \t: 0.8807875830346257\n"
     ]
    }
   ],
   "source": [
    "# F1 Score\n",
    "print('Train f1 score\\t:', f1_score(Ytrain, ypred_train, average = 'weighted'))\n",
    "print('Test f1 score \\t:', f1_score(Ytest, ypred_test, average = 'weighted'))"
   ]
  },
  {
   "cell_type": "code",
   "execution_count": null,
   "metadata": {},
   "outputs": [],
   "source": []
  },
  {
   "cell_type": "code",
   "execution_count": 128,
   "metadata": {},
   "outputs": [],
   "source": [
    "kf = KFold(n_splits = 5, shuffle = True, random_state = 0)"
   ]
  },
  {
   "cell_type": "code",
   "execution_count": 131,
   "metadata": {},
   "outputs": [
    {
     "name": "stdout",
     "output_type": "stream",
     "text": [
      "Estimators: 30\n",
      "Estimators: 50\n",
      "Estimators: 70\n",
      "Estimators: 90\n",
      "Estimators: 100\n",
      "Estimators: 120\n",
      "Estimators: 150\n"
     ]
    }
   ],
   "source": [
    "RF_ve = []\n",
    "for i in [30, 50, 70, 90, 100, 120, 150]:\n",
    "    print('Estimators:', i)\n",
    "    RF = RandomForestClassifier(n_estimators = i, criterion = 'gini', min_samples_leaf = 2,\n",
    "                                random_state = 0, n_jobs = -1)\n",
    "    score = cross_val_score(RF, Xtrain, Ytrain, cv = kf, scoring = 'f1_weighted')\n",
    "    RF_ve.append(np.std(score, ddof = 1))"
   ]
  },
  {
   "cell_type": "code",
   "execution_count": 132,
   "metadata": {},
   "outputs": [
    {
     "data": {
      "text/plain": [
       "[0.0016698294379546208,\n",
       " 0.0017922672069872736,\n",
       " 0.0015381311603907234,\n",
       " 0.0015258795935522854,\n",
       " 0.0015146774448038032,\n",
       " 0.0014256054062656794,\n",
       " 0.0015782141129033372]"
      ]
     },
     "execution_count": 132,
     "metadata": {},
     "output_type": "execute_result"
    }
   ],
   "source": [
    "RF_ve"
   ]
  },
  {
   "cell_type": "code",
   "execution_count": null,
   "metadata": {},
   "outputs": [],
   "source": [
    "np.min(RF_ve), np.argmin(RF_ve)"
   ]
  },
  {
   "cell_type": "code",
   "execution_count": 135,
   "metadata": {},
   "outputs": [
    {
     "name": "stdout",
     "output_type": "stream",
     "text": [
      "Estimators: 30\n",
      "Estimators: 50\n",
      "Estimators: 70\n",
      "Estimators: 90\n",
      "Estimators: 100\n",
      "Estimators: 120\n",
      "Estimators: 150\n"
     ]
    }
   ],
   "source": [
    "RF_ve = []\n",
    "for i in [30, 50, 70, 90, 100, 120, 150]:\n",
    "    print('Estimators:', i)\n",
    "    RF = RandomForestClassifier(n_estimators = i, criterion = 'entropy', min_samples_leaf = 2,\n",
    "                                random_state = 0, n_jobs = -1)\n",
    "    score = cross_val_score(RF, Xtrain, Ytrain, cv = kf, scoring = 'f1_weighted')\n",
    "    RF_ve.append(np.std(score, ddof = 1))"
   ]
  },
  {
   "cell_type": "code",
   "execution_count": 136,
   "metadata": {},
   "outputs": [
    {
     "data": {
      "text/plain": [
       "[0.001541637704575045,\n",
       " 0.0018272541475145277,\n",
       " 0.0017674244712371757,\n",
       " 0.0019505149670482496,\n",
       " 0.0018696519396394604,\n",
       " 0.00173091691647347,\n",
       " 0.0016975117155327507]"
      ]
     },
     "execution_count": 136,
     "metadata": {},
     "output_type": "execute_result"
    }
   ],
   "source": [
    "RF_ve"
   ]
  },
  {
   "cell_type": "code",
   "execution_count": 138,
   "metadata": {},
   "outputs": [
    {
     "data": {
      "text/plain": [
       "(0.001541637704575045, 0)"
      ]
     },
     "execution_count": 138,
     "metadata": {},
     "output_type": "execute_result"
    }
   ],
   "source": [
    "np.min(RF_ve), np.argmin(RF_ve)"
   ]
  },
  {
   "cell_type": "code",
   "execution_count": 37,
   "metadata": {},
   "outputs": [
    {
     "data": {
      "text/plain": [
       "AdaBoostClassifier(random_state=0)"
      ]
     },
     "execution_count": 37,
     "metadata": {},
     "output_type": "execute_result"
    }
   ],
   "source": [
    "RF = RandomForestClassifier(n_estimators = 120, criterion = 'gini', min_samples_leaf = 2,\n",
    "                           random_state = 0, n_jobs = -1)\n",
    "ada = AdaBoostClassifier(random_state = 0)\n",
    "ada.fit(Xtrain, Ytrain)"
   ]
  },
  {
   "cell_type": "code",
   "execution_count": 38,
   "metadata": {},
   "outputs": [
    {
     "data": {
      "text/plain": [
       "0.8286538801535294"
      ]
     },
     "execution_count": 38,
     "metadata": {},
     "output_type": "execute_result"
    }
   ],
   "source": [
    "ada.score(Xtrain, Ytrain)"
   ]
  },
  {
   "cell_type": "code",
   "execution_count": 39,
   "metadata": {},
   "outputs": [
    {
     "data": {
      "text/plain": [
       "0.7887698586211922"
      ]
     },
     "execution_count": 39,
     "metadata": {},
     "output_type": "execute_result"
    }
   ],
   "source": [
    "ada.score(Xtest, Ytest)"
   ]
  },
  {
   "cell_type": "code",
   "execution_count": 40,
   "metadata": {},
   "outputs": [],
   "source": [
    "ypred_train = ada.predict(Xtrain)\n",
    "ypred_test = ada.predict(Xtest)"
   ]
  },
  {
   "cell_type": "code",
   "execution_count": 41,
   "metadata": {},
   "outputs": [
    {
     "data": {
      "text/plain": [
       "0    56000\n",
       "2    49324\n",
       "1    39138\n",
       "3    18994\n",
       "5    11394\n",
       "4      480\n",
       "6       11\n",
       "dtype: int64"
      ]
     },
     "execution_count": 41,
     "metadata": {},
     "output_type": "execute_result"
    }
   ],
   "source": [
    "pd.Series(ypred_train).value_counts()"
   ]
  },
  {
   "cell_type": "code",
   "execution_count": 42,
   "metadata": {},
   "outputs": [
    {
     "data": {
      "text/plain": [
       "0    37000\n",
       "2    17381\n",
       "1    13436\n",
       "3    10102\n",
       "5     4268\n",
       "4      133\n",
       "6       12\n",
       "dtype: int64"
      ]
     },
     "execution_count": 42,
     "metadata": {},
     "output_type": "execute_result"
    }
   ],
   "source": [
    "pd.Series(ypred_test).value_counts()"
   ]
  },
  {
   "cell_type": "code",
   "execution_count": 43,
   "metadata": {},
   "outputs": [
    {
     "data": {
      "text/plain": [
       "array([[56000,     0,     0,     0,     0,     0,     0],\n",
       "       [    0, 37498,   746,  1721,    11,    24,     0],\n",
       "       [    0,   436, 29559,  1554,   202,  1637,     5],\n",
       "       [    0,   833,  2335, 14328,    28,   660,     0],\n",
       "       [    0,   228, 11235,   344,   175,   411,     1],\n",
       "       [    0,    75,  3765,   877,    42,  7732,     0],\n",
       "       [    0,    68,  1684,   170,    22,   930,     5]], dtype=int64)"
      ]
     },
     "execution_count": 43,
     "metadata": {},
     "output_type": "execute_result"
    }
   ],
   "source": [
    "confusion_matrix(Ytrain, ypred_train)"
   ]
  },
  {
   "cell_type": "code",
   "execution_count": 44,
   "metadata": {},
   "outputs": [
    {
     "data": {
      "text/plain": [
       "array([[37000,     0,     0,     0,     0,     0,     0],\n",
       "       [    0, 12205,   595,  6046,     5,    19,     1],\n",
       "       [    0,   273,  9722,   496,    66,   570,     5],\n",
       "       [    0,   517,  2005,  3140,     3,   397,     0],\n",
       "       [    0,   216,  3573,   139,    48,   155,     2],\n",
       "       [    0,   113,   998,   228,    10,  2823,     1],\n",
       "       [    0,   112,   488,    53,     1,   304,     3]], dtype=int64)"
      ]
     },
     "execution_count": 44,
     "metadata": {},
     "output_type": "execute_result"
    }
   ],
   "source": [
    "confusion_matrix(Ytest, ypred_test)"
   ]
  },
  {
   "cell_type": "code",
   "execution_count": 45,
   "metadata": {},
   "outputs": [
    {
     "name": "stdout",
     "output_type": "stream",
     "text": [
      "Train Accuracy\t: 0.8286538801535294\n",
      "Test Accuracy \t: 0.7887698586211922\n"
     ]
    }
   ],
   "source": [
    "# Accuracy\n",
    "print('Train Accuracy\\t:', accuracy_score(Ytrain, ypred_train))\n",
    "print('Test Accuracy \\t:', accuracy_score(Ytest, ypred_test))"
   ]
  },
  {
   "cell_type": "code",
   "execution_count": 46,
   "metadata": {},
   "outputs": [
    {
     "name": "stdout",
     "output_type": "stream",
     "text": [
      "Train Precision\t: 0.811883156595748\n",
      "Test Precision \t: 0.8106807023558884\n"
     ]
    }
   ],
   "source": [
    "# Precision\n",
    "print('Train Precision\\t:', precision_score(Ytrain, ypred_train, average = 'weighted'))\n",
    "print('Test Precision \\t:', precision_score(Ytest, ypred_test, average = 'weighted'))"
   ]
  },
  {
   "cell_type": "code",
   "execution_count": 47,
   "metadata": {},
   "outputs": [
    {
     "name": "stdout",
     "output_type": "stream",
     "text": [
      "Train Recall\t: 0.8286538801535294\n",
      "Test Recall \t: 0.7887698586211922\n"
     ]
    }
   ],
   "source": [
    "# Recall\n",
    "print('Train Recall\\t:', recall_score(Ytrain, ypred_train, average = 'weighted'))\n",
    "print('Test Recall \\t:', recall_score(Ytest, ypred_test, average = 'weighted'))"
   ]
  },
  {
   "cell_type": "code",
   "execution_count": 48,
   "metadata": {},
   "outputs": [
    {
     "name": "stdout",
     "output_type": "stream",
     "text": [
      "Train f1 score\t: 0.7997122704229718\n",
      "Test f1 score \t: 0.7784931219435302\n"
     ]
    }
   ],
   "source": [
    "# F1 Score\n",
    "print('Train f1 score\\t:', f1_score(Ytrain, ypred_train, average = 'weighted'))\n",
    "print('Test f1 score \\t:', f1_score(Ytest, ypred_test, average = 'weighted'))"
   ]
  },
  {
   "cell_type": "code",
   "execution_count": null,
   "metadata": {},
   "outputs": [],
   "source": []
  },
  {
   "cell_type": "code",
   "execution_count": 65,
   "metadata": {},
   "outputs": [
    {
     "data": {
      "image/png": "[encoded data removed]",
      "text/plain": [
       "<Figure size 432x288 with 1 Axes>"
      ]
     },
     "metadata": {
      "needs_background": "light"
     },
     "output_type": "display_data"
    }
   ],
   "source": [
    "wcss = []\n",
    "for i in range(1,15):\n",
    "    kmeans = KMeans(n_clusters = i, random_state = 0)\n",
    "    kmeans.fit(Xtrain)\n",
    "    wcss.append(kmeans.inertia_)\n",
    "    \n",
    "plt.plot(range(1,15), wcss, marker = 'o')\n",
    "plt.xlabel('Number of clusters')\n",
    "plt.ylabel('Inertia')\n",
    "plt.show()"
   ]
  },
  {
   "cell_type": "code",
   "execution_count": 66,
   "metadata": {},
   "outputs": [
    {
     "name": "stdout",
     "output_type": "stream",
     "text": [
      "Moving from 1 clusters to 2 clusters\t: -4.459625905597795e+23\n",
      "Moving from 2 clusters to 3 clusters\t: -7.61553933131612e+22\n",
      "Moving from 3 clusters to 4 clusters\t: -4.642513251450458e+22\n",
      "Moving from 4 clusters to 5 clusters\t: -2.0066997166230563e+22\n",
      "Moving from 5 clusters to 6 clusters\t: -9.004353147282248e+21\n",
      "Moving from 6 clusters to 7 clusters\t: -8.721162537074373e+21\n",
      "Moving from 7 clusters to 8 clusters\t: -7.125502127040507e+21\n",
      "Moving from 8 clusters to 9 clusters\t: -3.549009426629754e+21\n",
      "Moving from 9 clusters to 10 clusters\t: -3.219202136845509e+21\n",
      "Moving from 10 clusters to 11 clusters\t: -3.2053884106723903e+21\n",
      "Moving from 11 clusters to 12 clusters\t: -2.96057196442968e+21\n"
     ]
    }
   ],
   "source": [
    "for i in range(1,12):\n",
    "    print('Moving from', i, 'clusters to', i+1, 'clusters\\t:', wcss[i] - wcss[i-1])"
   ]
  },
  {
   "cell_type": "code",
   "execution_count": 67,
   "metadata": {},
   "outputs": [
    {
     "data": {
      "image/png": "[encoded data removed]",
      "text/plain": [
       "<Figure size 432x288 with 1 Axes>"
      ]
     },
     "metadata": {
      "needs_background": "light"
     },
     "output_type": "display_data"
    }
   ],
   "source": [
    "wcss = []\n",
    "for i in range(2,15):\n",
    "    kmeans = KMeans(n_clusters = i, random_state = 0)\n",
    "    kmeans.fit(Xtrain)\n",
    "    wcss.append(kmeans.inertia_)\n",
    "    \n",
    "plt.plot(range(2,15), wcss, marker = 'o')\n",
    "plt.xlabel('Number of clusters')\n",
    "plt.ylabel('Inertia')\n",
    "plt.show()"
   ]
  },
  {
   "cell_type": "code",
   "execution_count": 68,
   "metadata": {},
   "outputs": [
    {
     "name": "stdout",
     "output_type": "stream",
     "text": [
      "Moving from 2 clusters to 3 clusters\t: -7.615539331316114e+22\n",
      "Moving from 3 clusters to 4 clusters\t: -4.64251325145046e+22\n",
      "Moving from 4 clusters to 5 clusters\t: -2.0066997166230555e+22\n",
      "Moving from 5 clusters to 6 clusters\t: -9.00435314728224e+21\n",
      "Moving from 6 clusters to 7 clusters\t: -8.721162537074365e+21\n",
      "Moving from 7 clusters to 8 clusters\t: -7.125502127040507e+21\n",
      "Moving from 8 clusters to 9 clusters\t: -3.5490094266297667e+21\n",
      "Moving from 9 clusters to 10 clusters\t: -3.2192021368454964e+21\n",
      "Moving from 10 clusters to 11 clusters\t: -3.205388410672403e+21\n",
      "Moving from 11 clusters to 12 clusters\t: -2.96057196442968e+21\n",
      "Moving from 12 clusters to 13 clusters\t: -1.7360565480587012e+21\n"
     ]
    }
   ],
   "source": [
    "for i in range(1,12):\n",
    "    print('Moving from', i+1, 'clusters to', i+2, 'clusters\\t:', wcss[i] - wcss[i-1])"
   ]
  },
  {
   "cell_type": "code",
   "execution_count": 69,
   "metadata": {},
   "outputs": [
    {
     "data": {
      "image/png": "[encoded data removed]",
      "text/plain": [
       "<Figure size 432x288 with 1 Axes>"
      ]
     },
     "metadata": {
      "needs_background": "light"
     },
     "output_type": "display_data"
    }
   ],
   "source": [
    "plt.plot(range(3,15), wcss[1:], marker = 'o')\n",
    "plt.xlabel('Number of clusters')\n",
    "plt.ylabel('Inertia')\n",
    "plt.show()"
   ]
  },
  {
   "cell_type": "raw",
   "metadata": {},
   "source": [
    "for i in ['single', 'complete', 'average']:\n",
    "    print('Linkage is', i)\n",
    "    for j in ['euclidean', 'cityblock', 'cosine']:\n",
    "        Z = linkage(Xtrain, method = i, metric = j)\n",
    "        c, coph_dis = cophenet(Z, pdist(Xtrain))\n",
    "        print('Cophenetic Distance Correlation Coefficient for', j, 'distance is\\t:', c)\n",
    "    print()\n",
    "\n",
    "Z = linkage(Xtrain, 'ward')\n",
    "c, coph_dis = cophenet(Z, pdist(Xtrain))\n",
    "print('Cophenetic Distance Correlation Coefficient for ward linkgae is\\t\\t:', c)"
   ]
  },
  {
   "cell_type": "code",
   "execution_count": 73,
   "metadata": {},
   "outputs": [
    {
     "ename": "MemoryError",
     "evalue": "Unable to allocate 115. GiB for an array with shape (15372145470,) and data type float64",
     "output_type": "error",
     "traceback": [
      "\u001b[1;31m---------------------------------------------------------------------------\u001b[0m",
      "\u001b[1;31mMemoryError\u001b[0m                               Traceback (most recent call last)",
      "\u001b[1;32m<ipython-input-73-3d04ae7342ab>\u001b[0m in \u001b[0;36m<module>\u001b[1;34m\u001b[0m\n\u001b[1;32m----> 1\u001b[1;33m \u001b[0mZ\u001b[0m \u001b[1;33m=\u001b[0m \u001b[0mlinkage\u001b[0m\u001b[1;33m(\u001b[0m\u001b[0mXtrain\u001b[0m\u001b[1;33m,\u001b[0m \u001b[1;34m'ward'\u001b[0m\u001b[1;33m)\u001b[0m\u001b[1;33m\u001b[0m\u001b[1;33m\u001b[0m\u001b[0m\n\u001b[0m\u001b[0;32m      2\u001b[0m \u001b[0mdendrogram\u001b[0m\u001b[1;33m(\u001b[0m\u001b[0mZ\u001b[0m\u001b[1;33m,\u001b[0m \u001b[0mleaf_rotation\u001b[0m \u001b[1;33m=\u001b[0m \u001b[1;36m90\u001b[0m\u001b[1;33m,\u001b[0m \u001b[0mtruncate_mode\u001b[0m \u001b[1;33m=\u001b[0m \u001b[1;34m'level'\u001b[0m\u001b[1;33m,\u001b[0m \u001b[0mp\u001b[0m \u001b[1;33m=\u001b[0m \u001b[1;36m5\u001b[0m\u001b[1;33m)\u001b[0m\u001b[1;33m\u001b[0m\u001b[1;33m\u001b[0m\u001b[0m\n\u001b[0;32m      3\u001b[0m \u001b[0mplt\u001b[0m\u001b[1;33m.\u001b[0m\u001b[0mshow\u001b[0m\u001b[1;33m(\u001b[0m\u001b[1;33m)\u001b[0m\u001b[1;33m\u001b[0m\u001b[1;33m\u001b[0m\u001b[0m\n",
      "\u001b[1;32m~\\Anaconda3\\lib\\site-packages\\scipy\\cluster\\hierarchy.py\u001b[0m in \u001b[0;36mlinkage\u001b[1;34m(y, method, metric, optimal_ordering)\u001b[0m\n\u001b[0;32m   1050\u001b[0m                          \u001b[1;34m'matrix looks suspiciously like an uncondensed '\u001b[0m\u001b[1;33m\u001b[0m\u001b[1;33m\u001b[0m\u001b[0m\n\u001b[0;32m   1051\u001b[0m                          'distance matrix')\n\u001b[1;32m-> 1052\u001b[1;33m         \u001b[0my\u001b[0m \u001b[1;33m=\u001b[0m \u001b[0mdistance\u001b[0m\u001b[1;33m.\u001b[0m\u001b[0mpdist\u001b[0m\u001b[1;33m(\u001b[0m\u001b[0my\u001b[0m\u001b[1;33m,\u001b[0m \u001b[0mmetric\u001b[0m\u001b[1;33m)\u001b[0m\u001b[1;33m\u001b[0m\u001b[1;33m\u001b[0m\u001b[0m\n\u001b[0m\u001b[0;32m   1053\u001b[0m     \u001b[1;32melse\u001b[0m\u001b[1;33m:\u001b[0m\u001b[1;33m\u001b[0m\u001b[1;33m\u001b[0m\u001b[0m\n\u001b[0;32m   1054\u001b[0m         \u001b[1;32mraise\u001b[0m \u001b[0mValueError\u001b[0m\u001b[1;33m(\u001b[0m\u001b[1;34m\"`y` must be 1 or 2 dimensional.\"\u001b[0m\u001b[1;33m)\u001b[0m\u001b[1;33m\u001b[0m\u001b[1;33m\u001b[0m\u001b[0m\n",
      "\u001b[1;32m~\\Anaconda3\\lib\\site-packages\\scipy\\spatial\\distance.py\u001b[0m in \u001b[0;36mpdist\u001b[1;34m(X, metric, *args, **kwargs)\u001b[0m\n\u001b[0;32m   1992\u001b[0m     \u001b[0mout\u001b[0m \u001b[1;33m=\u001b[0m \u001b[0mkwargs\u001b[0m\u001b[1;33m.\u001b[0m\u001b[0mpop\u001b[0m\u001b[1;33m(\u001b[0m\u001b[1;34m\"out\"\u001b[0m\u001b[1;33m,\u001b[0m \u001b[1;32mNone\u001b[0m\u001b[1;33m)\u001b[0m\u001b[1;33m\u001b[0m\u001b[1;33m\u001b[0m\u001b[0m\n\u001b[0;32m   1993\u001b[0m     \u001b[1;32mif\u001b[0m \u001b[0mout\u001b[0m \u001b[1;32mis\u001b[0m \u001b[1;32mNone\u001b[0m\u001b[1;33m:\u001b[0m\u001b[1;33m\u001b[0m\u001b[1;33m\u001b[0m\u001b[0m\n\u001b[1;32m-> 1994\u001b[1;33m         \u001b[0mdm\u001b[0m \u001b[1;33m=\u001b[0m \u001b[0mnp\u001b[0m\u001b[1;33m.\u001b[0m\u001b[0mempty\u001b[0m\u001b[1;33m(\u001b[0m\u001b[1;33m(\u001b[0m\u001b[0mm\u001b[0m \u001b[1;33m*\u001b[0m \u001b[1;33m(\u001b[0m\u001b[0mm\u001b[0m \u001b[1;33m-\u001b[0m \u001b[1;36m1\u001b[0m\u001b[1;33m)\u001b[0m\u001b[1;33m)\u001b[0m \u001b[1;33m//\u001b[0m \u001b[1;36m2\u001b[0m\u001b[1;33m,\u001b[0m \u001b[0mdtype\u001b[0m\u001b[1;33m=\u001b[0m\u001b[0mnp\u001b[0m\u001b[1;33m.\u001b[0m\u001b[0mdouble\u001b[0m\u001b[1;33m)\u001b[0m\u001b[1;33m\u001b[0m\u001b[1;33m\u001b[0m\u001b[0m\n\u001b[0m\u001b[0;32m   1995\u001b[0m     \u001b[1;32melse\u001b[0m\u001b[1;33m:\u001b[0m\u001b[1;33m\u001b[0m\u001b[1;33m\u001b[0m\u001b[0m\n\u001b[0;32m   1996\u001b[0m         \u001b[1;32mif\u001b[0m \u001b[0mout\u001b[0m\u001b[1;33m.\u001b[0m\u001b[0mshape\u001b[0m \u001b[1;33m!=\u001b[0m \u001b[1;33m(\u001b[0m\u001b[0mm\u001b[0m \u001b[1;33m*\u001b[0m \u001b[1;33m(\u001b[0m\u001b[0mm\u001b[0m \u001b[1;33m-\u001b[0m \u001b[1;36m1\u001b[0m\u001b[1;33m)\u001b[0m \u001b[1;33m//\u001b[0m \u001b[1;36m2\u001b[0m\u001b[1;33m,\u001b[0m\u001b[1;33m)\u001b[0m\u001b[1;33m:\u001b[0m\u001b[1;33m\u001b[0m\u001b[1;33m\u001b[0m\u001b[0m\n",
      "\u001b[1;31mMemoryError\u001b[0m: Unable to allocate 115. GiB for an array with shape (15372145470,) and data type float64"
     ]
    }
   ],
   "source": [
    "Z = linkage(Xtrain, 'ward')\n",
    "dendrogram(Z, leaf_rotation = 90, truncate_mode = 'level', p = 5)\n",
    "plt.show()"
   ]
  },
  {
   "cell_type": "code",
   "execution_count": 74,
   "metadata": {},
   "outputs": [
    {
     "ename": "MemoryError",
     "evalue": "Unable to allocate 25.3 GiB for an array with shape (3389237946,) and data type float64",
     "output_type": "error",
     "traceback": [
      "\u001b[1;31m---------------------------------------------------------------------------\u001b[0m",
      "\u001b[1;31mMemoryError\u001b[0m                               Traceback (most recent call last)",
      "\u001b[1;32m<ipython-input-74-e0d3e4047dac>\u001b[0m in \u001b[0;36m<module>\u001b[1;34m\u001b[0m\n\u001b[1;32m----> 1\u001b[1;33m \u001b[0mZ\u001b[0m \u001b[1;33m=\u001b[0m \u001b[0mlinkage\u001b[0m\u001b[1;33m(\u001b[0m\u001b[0mXtest\u001b[0m\u001b[1;33m,\u001b[0m \u001b[1;34m'ward'\u001b[0m\u001b[1;33m)\u001b[0m\u001b[1;33m\u001b[0m\u001b[1;33m\u001b[0m\u001b[0m\n\u001b[0m\u001b[0;32m      2\u001b[0m \u001b[0mdendrogram\u001b[0m\u001b[1;33m(\u001b[0m\u001b[0mZ\u001b[0m\u001b[1;33m,\u001b[0m \u001b[0mleaf_rotation\u001b[0m \u001b[1;33m=\u001b[0m \u001b[1;36m90\u001b[0m\u001b[1;33m,\u001b[0m \u001b[0mtruncate_mode\u001b[0m \u001b[1;33m=\u001b[0m \u001b[1;34m'level'\u001b[0m\u001b[1;33m,\u001b[0m \u001b[0mp\u001b[0m \u001b[1;33m=\u001b[0m \u001b[1;36m5\u001b[0m\u001b[1;33m)\u001b[0m\u001b[1;33m\u001b[0m\u001b[1;33m\u001b[0m\u001b[0m\n\u001b[0;32m      3\u001b[0m \u001b[0mplt\u001b[0m\u001b[1;33m.\u001b[0m\u001b[0mshow\u001b[0m\u001b[1;33m(\u001b[0m\u001b[1;33m)\u001b[0m\u001b[1;33m\u001b[0m\u001b[1;33m\u001b[0m\u001b[0m\n",
      "\u001b[1;32m~\\Anaconda3\\lib\\site-packages\\scipy\\cluster\\hierarchy.py\u001b[0m in \u001b[0;36mlinkage\u001b[1;34m(y, method, metric, optimal_ordering)\u001b[0m\n\u001b[0;32m   1050\u001b[0m                          \u001b[1;34m'matrix looks suspiciously like an uncondensed '\u001b[0m\u001b[1;33m\u001b[0m\u001b[1;33m\u001b[0m\u001b[0m\n\u001b[0;32m   1051\u001b[0m                          'distance matrix')\n\u001b[1;32m-> 1052\u001b[1;33m         \u001b[0my\u001b[0m \u001b[1;33m=\u001b[0m \u001b[0mdistance\u001b[0m\u001b[1;33m.\u001b[0m\u001b[0mpdist\u001b[0m\u001b[1;33m(\u001b[0m\u001b[0my\u001b[0m\u001b[1;33m,\u001b[0m \u001b[0mmetric\u001b[0m\u001b[1;33m)\u001b[0m\u001b[1;33m\u001b[0m\u001b[1;33m\u001b[0m\u001b[0m\n\u001b[0m\u001b[0;32m   1053\u001b[0m     \u001b[1;32melse\u001b[0m\u001b[1;33m:\u001b[0m\u001b[1;33m\u001b[0m\u001b[1;33m\u001b[0m\u001b[0m\n\u001b[0;32m   1054\u001b[0m         \u001b[1;32mraise\u001b[0m \u001b[0mValueError\u001b[0m\u001b[1;33m(\u001b[0m\u001b[1;34m\"`y` must be 1 or 2 dimensional.\"\u001b[0m\u001b[1;33m)\u001b[0m\u001b[1;33m\u001b[0m\u001b[1;33m\u001b[0m\u001b[0m\n",
      "\u001b[1;32m~\\Anaconda3\\lib\\site-packages\\scipy\\spatial\\distance.py\u001b[0m in \u001b[0;36mpdist\u001b[1;34m(X, metric, *args, **kwargs)\u001b[0m\n\u001b[0;32m   1992\u001b[0m     \u001b[0mout\u001b[0m \u001b[1;33m=\u001b[0m \u001b[0mkwargs\u001b[0m\u001b[1;33m.\u001b[0m\u001b[0mpop\u001b[0m\u001b[1;33m(\u001b[0m\u001b[1;34m\"out\"\u001b[0m\u001b[1;33m,\u001b[0m \u001b[1;32mNone\u001b[0m\u001b[1;33m)\u001b[0m\u001b[1;33m\u001b[0m\u001b[1;33m\u001b[0m\u001b[0m\n\u001b[0;32m   1993\u001b[0m     \u001b[1;32mif\u001b[0m \u001b[0mout\u001b[0m \u001b[1;32mis\u001b[0m \u001b[1;32mNone\u001b[0m\u001b[1;33m:\u001b[0m\u001b[1;33m\u001b[0m\u001b[1;33m\u001b[0m\u001b[0m\n\u001b[1;32m-> 1994\u001b[1;33m         \u001b[0mdm\u001b[0m \u001b[1;33m=\u001b[0m \u001b[0mnp\u001b[0m\u001b[1;33m.\u001b[0m\u001b[0mempty\u001b[0m\u001b[1;33m(\u001b[0m\u001b[1;33m(\u001b[0m\u001b[0mm\u001b[0m \u001b[1;33m*\u001b[0m \u001b[1;33m(\u001b[0m\u001b[0mm\u001b[0m \u001b[1;33m-\u001b[0m \u001b[1;36m1\u001b[0m\u001b[1;33m)\u001b[0m\u001b[1;33m)\u001b[0m \u001b[1;33m//\u001b[0m \u001b[1;36m2\u001b[0m\u001b[1;33m,\u001b[0m \u001b[0mdtype\u001b[0m\u001b[1;33m=\u001b[0m\u001b[0mnp\u001b[0m\u001b[1;33m.\u001b[0m\u001b[0mdouble\u001b[0m\u001b[1;33m)\u001b[0m\u001b[1;33m\u001b[0m\u001b[1;33m\u001b[0m\u001b[0m\n\u001b[0m\u001b[0;32m   1995\u001b[0m     \u001b[1;32melse\u001b[0m\u001b[1;33m:\u001b[0m\u001b[1;33m\u001b[0m\u001b[1;33m\u001b[0m\u001b[0m\n\u001b[0;32m   1996\u001b[0m         \u001b[1;32mif\u001b[0m \u001b[0mout\u001b[0m\u001b[1;33m.\u001b[0m\u001b[0mshape\u001b[0m \u001b[1;33m!=\u001b[0m \u001b[1;33m(\u001b[0m\u001b[0mm\u001b[0m \u001b[1;33m*\u001b[0m \u001b[1;33m(\u001b[0m\u001b[0mm\u001b[0m \u001b[1;33m-\u001b[0m \u001b[1;36m1\u001b[0m\u001b[1;33m)\u001b[0m \u001b[1;33m//\u001b[0m \u001b[1;36m2\u001b[0m\u001b[1;33m,\u001b[0m\u001b[1;33m)\u001b[0m\u001b[1;33m:\u001b[0m\u001b[1;33m\u001b[0m\u001b[1;33m\u001b[0m\u001b[0m\n",
      "\u001b[1;31mMemoryError\u001b[0m: Unable to allocate 25.3 GiB for an array with shape (3389237946,) and data type float64"
     ]
    }
   ],
   "source": [
    "Z = linkage(Xtest, 'ward')\n",
    "dendrogram(Z, leaf_rotation = 90, truncate_mode = 'level', p = 5)\n",
    "plt.show()"
   ]
  },
  {
   "cell_type": "code",
   "execution_count": 75,
   "metadata": {},
   "outputs": [
    {
     "data": {
      "text/plain": [
       "(82332, 43)"
      ]
     },
     "execution_count": 75,
     "metadata": {},
     "output_type": "execute_result"
    }
   ],
   "source": [
    "Xtest.shape"
   ]
  },
  {
   "cell_type": "markdown",
   "metadata": {},
   "source": [
    "## ------------------------------------------------------------------------------------------------------"
   ]
  },
  {
   "cell_type": "code",
   "execution_count": 30,
   "metadata": {},
   "outputs": [
    {
     "name": "stderr",
     "output_type": "stream",
     "text": [
      "C:\\Users\\anura\\Anaconda3\\lib\\site-packages\\joblib\\externals\\loky\\process_executor.py:688: UserWarning: A worker stopped while some jobs were given to the executor. This can be caused by a too short worker timeout or by a memory leak.\n",
      "  warnings.warn(\n"
     ]
    }
   ],
   "source": [
    "# Backward Elimination - Logistic Regression\n",
    "LR = LogisticRegression(max_iter = 300, random_state = 0, n_jobs = -1)\n",
    "back_mod = sfs(estimator = LR, k_features = 'best', forward = False, scoring = 'r2', n_jobs = -1)\n",
    "back_feat = back_mod.fit(Xtrain, Ytrain)\n",
    "back_feat_names = list(back_feat.k_feature_names_)"
   ]
  },
  {
   "cell_type": "code",
   "execution_count": 34,
   "metadata": {},
   "outputs": [
    {
     "name": "stdout",
     "output_type": "stream",
     "text": [
      "Number of features: 4\n",
      "['sbytes', 'dload', 'sinpkt', 'stcpb']\n",
      "0.15917146499835924\n"
     ]
    }
   ],
   "source": [
    "print('Number of features:', len(back_feat_names))\n",
    "print(back_feat_names)\n",
    "print(back_feat.k_score_)"
   ]
  },
  {
   "cell_type": "markdown",
   "metadata": {},
   "source": [
    "## -----------------------------------------------------------------------------------------"
   ]
  },
  {
   "cell_type": "code",
   "execution_count": 26,
   "metadata": {},
   "outputs": [
    {
     "data": {
      "text/plain": [
       "0    56000\n",
       "1    40000\n",
       "2    33393\n",
       "3    18184\n",
       "5    12491\n",
       "4    12394\n",
       "6     2879\n",
       "Name: attack_label, dtype: int64"
      ]
     },
     "execution_count": 26,
     "metadata": {},
     "output_type": "execute_result"
    }
   ],
   "source": [
    "Ytrain.value_counts()"
   ]
  },
  {
   "cell_type": "code",
   "execution_count": 27,
   "metadata": {},
   "outputs": [
    {
     "data": {
      "text/plain": [
       "0    56000\n",
       "1    40000\n",
       "2    33393\n",
       "3    20000\n",
       "5    14000\n",
       "4    13900\n",
       "6     6000\n",
       "Name: attack_label, dtype: int64"
      ]
     },
     "execution_count": 27,
     "metadata": {},
     "output_type": "execute_result"
    }
   ],
   "source": [
    "over = SMOTE(sampling_strategy = {3 : 20000, 4 : 13900, 5 : 14000, 6 : 6000})\n",
    "X, y = over.fit_resample(Xtrain, Ytrain)\n",
    "y.value_counts()"
   ]
  },
  {
   "cell_type": "code",
   "execution_count": 28,
   "metadata": {},
   "outputs": [
    {
     "data": {
      "text/plain": [
       "XGBClassifier(base_score=0.5, booster='gbtree', colsample_bylevel=1,\n",
       "              colsample_bynode=1, colsample_bytree=1, gamma=0, gpu_id=-1,\n",
       "              importance_type='gain', interaction_constraints='',\n",
       "              learning_rate=0.300000012, max_delta_step=0, max_depth=6,\n",
       "              min_child_weight=1, missing=nan, monotone_constraints='()',\n",
       "              n_estimators=100, n_jobs=0, num_parallel_tree=1,\n",
       "              objective='multi:softprob', random_state=0, reg_alpha=0,\n",
       "              reg_lambda=1, scale_pos_weight=None, subsample=1,\n",
       "              tree_method='exact', validate_parameters=1, verbosity=None)"
      ]
     },
     "execution_count": 28,
     "metadata": {},
     "output_type": "execute_result"
    }
   ],
   "source": [
    "xgb = XGBClassifier(random_state = 0)\n",
    "xgb.fit(X,y)"
   ]
  },
  {
   "cell_type": "code",
   "execution_count": 29,
   "metadata": {},
   "outputs": [
    {
     "data": {
      "text/plain": [
       "(0.881555760449117, 0.8713622892678424)"
      ]
     },
     "execution_count": 29,
     "metadata": {},
     "output_type": "execute_result"
    }
   ],
   "source": [
    "xgb.score(X,y), xgb.score(Xtest, Ytest)"
   ]
  },
  {
   "cell_type": "code",
   "execution_count": 30,
   "metadata": {},
   "outputs": [],
   "source": [
    "ypred_train = xgb.predict(X)\n",
    "ypred_test = xgb.predict(Xtest)"
   ]
  },
  {
   "cell_type": "code",
   "execution_count": 31,
   "metadata": {},
   "outputs": [
    {
     "name": "stdout",
     "output_type": "stream",
     "text": [
      "              precision    recall  f1-score   support\n",
      "\n",
      "           0       1.00      1.00      1.00     56000\n",
      "           1       1.00      0.99      0.99     40000\n",
      "           2       0.65      0.91      0.76     33393\n",
      "           3       0.98      0.91      0.94     20000\n",
      "           4       0.51      0.28      0.36     13900\n",
      "           5       0.95      0.71      0.81     14000\n",
      "           6       0.85      0.61      0.71      6000\n",
      "\n",
      "    accuracy                           0.88    183293\n",
      "   macro avg       0.85      0.77      0.80    183293\n",
      "weighted avg       0.89      0.88      0.88    183293\n",
      "\n"
     ]
    }
   ],
   "source": [
    "print(classification_report(y, ypred_train))"
   ]
  },
  {
   "cell_type": "code",
   "execution_count": 32,
   "metadata": {},
   "outputs": [
    {
     "name": "stdout",
     "output_type": "stream",
     "text": [
      "              precision    recall  f1-score   support\n",
      "\n",
      "           0       1.00      1.00      1.00     37000\n",
      "           1       1.00      0.97      0.98     18871\n",
      "           2       0.73      0.73      0.73     11132\n",
      "           3       0.96      0.69      0.80      6062\n",
      "           4       0.44      0.14      0.21      4133\n",
      "           5       0.91      0.68      0.78      4173\n",
      "           6       0.10      0.74      0.18       961\n",
      "\n",
      "    accuracy                           0.87     82332\n",
      "   macro avg       0.73      0.71      0.67     82332\n",
      "weighted avg       0.92      0.87      0.88     82332\n",
      "\n"
     ]
    }
   ],
   "source": [
    "print(classification_report(Ytest, ypred_test))"
   ]
  },
  {
   "cell_type": "code",
   "execution_count": 33,
   "metadata": {},
   "outputs": [
    {
     "data": {
      "text/plain": [
       "0    51000\n",
       "1    37000\n",
       "2    31000\n",
       "3    20000\n",
       "5    14000\n",
       "4    13900\n",
       "6     6000\n",
       "Name: attack_label, dtype: int64"
      ]
     },
     "execution_count": 33,
     "metadata": {},
     "output_type": "execute_result"
    }
   ],
   "source": [
    "under = RandomUnderSampler(sampling_strategy = {0 : 51000, 1 : 37000, 2 : 31000})\n",
    "X, y = under.fit_resample(X, y)\n",
    "y.value_counts()"
   ]
  },
  {
   "cell_type": "code",
   "execution_count": 34,
   "metadata": {},
   "outputs": [
    {
     "data": {
      "text/plain": [
       "XGBClassifier(base_score=0.5, booster='gbtree', colsample_bylevel=1,\n",
       "              colsample_bynode=1, colsample_bytree=1, gamma=0, gpu_id=-1,\n",
       "              importance_type='gain', interaction_constraints='',\n",
       "              learning_rate=0.300000012, max_delta_step=0, max_depth=6,\n",
       "              min_child_weight=1, missing=nan, monotone_constraints='()',\n",
       "              n_estimators=100, n_jobs=0, num_parallel_tree=1,\n",
       "              objective='multi:softprob', random_state=0, reg_alpha=0,\n",
       "              reg_lambda=1, scale_pos_weight=None, subsample=1,\n",
       "              tree_method='exact', validate_parameters=1, verbosity=None)"
      ]
     },
     "execution_count": 34,
     "metadata": {},
     "output_type": "execute_result"
    }
   ],
   "source": [
    "xgb = XGBClassifier(random_state = 0)\n",
    "xgb.fit(X,y)"
   ]
  },
  {
   "cell_type": "code",
   "execution_count": 35,
   "metadata": {},
   "outputs": [
    {
     "data": {
      "text/plain": [
       "(0.8780046269519953, 0.8713501433221591)"
      ]
     },
     "execution_count": 35,
     "metadata": {},
     "output_type": "execute_result"
    }
   ],
   "source": [
    "xgb.score(X,y), xgb.score(Xtest, Ytest)"
   ]
  },
  {
   "cell_type": "code",
   "execution_count": 36,
   "metadata": {},
   "outputs": [],
   "source": [
    "ypred_train = xgb.predict(X)\n",
    "ypred_test = xgb.predict(Xtest)"
   ]
  },
  {
   "cell_type": "code",
   "execution_count": 37,
   "metadata": {},
   "outputs": [
    {
     "name": "stdout",
     "output_type": "stream",
     "text": [
      "              precision    recall  f1-score   support\n",
      "\n",
      "           0       1.00      1.00      1.00     51000\n",
      "           1       1.00      0.99      0.99     37000\n",
      "           2       0.66      0.87      0.75     31000\n",
      "           3       0.98      0.91      0.94     20000\n",
      "           4       0.48      0.39      0.43     13900\n",
      "           5       0.96      0.71      0.82     14000\n",
      "           6       0.85      0.61      0.71      6000\n",
      "\n",
      "    accuracy                           0.88    172900\n",
      "   macro avg       0.85      0.78      0.81    172900\n",
      "weighted avg       0.89      0.88      0.88    172900\n",
      "\n"
     ]
    }
   ],
   "source": [
    "print(classification_report(y, ypred_train))"
   ]
  },
  {
   "cell_type": "code",
   "execution_count": 38,
   "metadata": {},
   "outputs": [
    {
     "name": "stdout",
     "output_type": "stream",
     "text": [
      "              precision    recall  f1-score   support\n",
      "\n",
      "           0       1.00      1.00      1.00     37000\n",
      "           1       1.00      0.97      0.98     18871\n",
      "           2       0.78      0.68      0.73     11132\n",
      "           3       0.95      0.70      0.81      6062\n",
      "           4       0.43      0.27      0.33      4133\n",
      "           5       0.88      0.68      0.77      4173\n",
      "           6       0.10      0.76      0.18       961\n",
      "\n",
      "    accuracy                           0.87     82332\n",
      "   macro avg       0.74      0.72      0.69     82332\n",
      "weighted avg       0.92      0.87      0.89     82332\n",
      "\n"
     ]
    }
   ],
   "source": [
    "print(classification_report(Ytest, ypred_test))"
   ]
  },
  {
   "cell_type": "code",
   "execution_count": 39,
   "metadata": {},
   "outputs": [
    {
     "ename": "KeyboardInterrupt",
     "evalue": "",
     "output_type": "error",
     "traceback": [
      "\u001b[1;31m---------------------------------------------------------------------------\u001b[0m",
      "\u001b[1;31mKeyboardInterrupt\u001b[0m                         Traceback (most recent call last)",
      "\u001b[1;32m<ipython-input-39-1f9b44668411>\u001b[0m in \u001b[0;36m<module>\u001b[1;34m\u001b[0m\n\u001b[0;32m      1\u001b[0m \u001b[0mxgb\u001b[0m \u001b[1;33m=\u001b[0m \u001b[0mXGBClassifier\u001b[0m\u001b[1;33m(\u001b[0m\u001b[0mrandom_state\u001b[0m \u001b[1;33m=\u001b[0m \u001b[1;36m0\u001b[0m\u001b[1;33m)\u001b[0m\u001b[1;33m\u001b[0m\u001b[1;33m\u001b[0m\u001b[0m\n\u001b[1;32m----> 2\u001b[1;33m \u001b[0mxgb\u001b[0m\u001b[1;33m.\u001b[0m\u001b[0mfit\u001b[0m\u001b[1;33m(\u001b[0m\u001b[0mX\u001b[0m\u001b[1;33m,\u001b[0m\u001b[0my\u001b[0m\u001b[1;33m)\u001b[0m\u001b[1;33m\u001b[0m\u001b[1;33m\u001b[0m\u001b[0m\n\u001b[0m",
      "\u001b[1;32m~\\Anaconda3\\lib\\site-packages\\xgboost\\sklearn.py\u001b[0m in \u001b[0;36mfit\u001b[1;34m(self, X, y, sample_weight, base_margin, eval_set, eval_metric, early_stopping_rounds, verbose, xgb_model, sample_weight_eval_set, callbacks)\u001b[0m\n\u001b[0;32m    826\u001b[0m                                 missing=self.missing, nthread=self.n_jobs)\n\u001b[0;32m    827\u001b[0m \u001b[1;33m\u001b[0m\u001b[0m\n\u001b[1;32m--> 828\u001b[1;33m         self._Booster = train(xgb_options, train_dmatrix,\n\u001b[0m\u001b[0;32m    829\u001b[0m                               \u001b[0mself\u001b[0m\u001b[1;33m.\u001b[0m\u001b[0mget_num_boosting_rounds\u001b[0m\u001b[1;33m(\u001b[0m\u001b[1;33m)\u001b[0m\u001b[1;33m,\u001b[0m\u001b[1;33m\u001b[0m\u001b[1;33m\u001b[0m\u001b[0m\n\u001b[0;32m    830\u001b[0m                               \u001b[0mevals\u001b[0m\u001b[1;33m=\u001b[0m\u001b[0mevals\u001b[0m\u001b[1;33m,\u001b[0m\u001b[1;33m\u001b[0m\u001b[1;33m\u001b[0m\u001b[0m\n",
      "\u001b[1;32m~\\Anaconda3\\lib\\site-packages\\xgboost\\training.py\u001b[0m in \u001b[0;36mtrain\u001b[1;34m(params, dtrain, num_boost_round, evals, obj, feval, maximize, early_stopping_rounds, evals_result, verbose_eval, xgb_model, callbacks)\u001b[0m\n\u001b[0;32m    206\u001b[0m         \u001b[0mcallbacks\u001b[0m\u001b[1;33m.\u001b[0m\u001b[0mappend\u001b[0m\u001b[1;33m(\u001b[0m\u001b[0mcallback\u001b[0m\u001b[1;33m.\u001b[0m\u001b[0mrecord_evaluation\u001b[0m\u001b[1;33m(\u001b[0m\u001b[0mevals_result\u001b[0m\u001b[1;33m)\u001b[0m\u001b[1;33m)\u001b[0m\u001b[1;33m\u001b[0m\u001b[1;33m\u001b[0m\u001b[0m\n\u001b[0;32m    207\u001b[0m \u001b[1;33m\u001b[0m\u001b[0m\n\u001b[1;32m--> 208\u001b[1;33m     return _train_internal(params, dtrain,\n\u001b[0m\u001b[0;32m    209\u001b[0m                            \u001b[0mnum_boost_round\u001b[0m\u001b[1;33m=\u001b[0m\u001b[0mnum_boost_round\u001b[0m\u001b[1;33m,\u001b[0m\u001b[1;33m\u001b[0m\u001b[1;33m\u001b[0m\u001b[0m\n\u001b[0;32m    210\u001b[0m                            \u001b[0mevals\u001b[0m\u001b[1;33m=\u001b[0m\u001b[0mevals\u001b[0m\u001b[1;33m,\u001b[0m\u001b[1;33m\u001b[0m\u001b[1;33m\u001b[0m\u001b[0m\n",
      "\u001b[1;32m~\\Anaconda3\\lib\\site-packages\\xgboost\\training.py\u001b[0m in \u001b[0;36m_train_internal\u001b[1;34m(params, dtrain, num_boost_round, evals, obj, feval, xgb_model, callbacks)\u001b[0m\n\u001b[0;32m     73\u001b[0m         \u001b[1;31m# Skip the first update if it is a recovery step.\u001b[0m\u001b[1;33m\u001b[0m\u001b[1;33m\u001b[0m\u001b[1;33m\u001b[0m\u001b[0m\n\u001b[0;32m     74\u001b[0m         \u001b[1;32mif\u001b[0m \u001b[0mversion\u001b[0m \u001b[1;33m%\u001b[0m \u001b[1;36m2\u001b[0m \u001b[1;33m==\u001b[0m \u001b[1;36m0\u001b[0m\u001b[1;33m:\u001b[0m\u001b[1;33m\u001b[0m\u001b[1;33m\u001b[0m\u001b[0m\n\u001b[1;32m---> 75\u001b[1;33m             \u001b[0mbst\u001b[0m\u001b[1;33m.\u001b[0m\u001b[0mupdate\u001b[0m\u001b[1;33m(\u001b[0m\u001b[0mdtrain\u001b[0m\u001b[1;33m,\u001b[0m \u001b[0mi\u001b[0m\u001b[1;33m,\u001b[0m \u001b[0mobj\u001b[0m\u001b[1;33m)\u001b[0m\u001b[1;33m\u001b[0m\u001b[1;33m\u001b[0m\u001b[0m\n\u001b[0m\u001b[0;32m     76\u001b[0m             \u001b[0mbst\u001b[0m\u001b[1;33m.\u001b[0m\u001b[0msave_rabit_checkpoint\u001b[0m\u001b[1;33m(\u001b[0m\u001b[1;33m)\u001b[0m\u001b[1;33m\u001b[0m\u001b[1;33m\u001b[0m\u001b[0m\n\u001b[0;32m     77\u001b[0m             \u001b[0mversion\u001b[0m \u001b[1;33m+=\u001b[0m \u001b[1;36m1\u001b[0m\u001b[1;33m\u001b[0m\u001b[1;33m\u001b[0m\u001b[0m\n",
      "\u001b[1;32m~\\Anaconda3\\lib\\site-packages\\xgboost\\core.py\u001b[0m in \u001b[0;36mupdate\u001b[1;34m(self, dtrain, iteration, fobj)\u001b[0m\n\u001b[0;32m   1157\u001b[0m \u001b[1;33m\u001b[0m\u001b[0m\n\u001b[0;32m   1158\u001b[0m         \u001b[1;32mif\u001b[0m \u001b[0mfobj\u001b[0m \u001b[1;32mis\u001b[0m \u001b[1;32mNone\u001b[0m\u001b[1;33m:\u001b[0m\u001b[1;33m\u001b[0m\u001b[1;33m\u001b[0m\u001b[0m\n\u001b[1;32m-> 1159\u001b[1;33m             _check_call(_LIB.XGBoosterUpdateOneIter(self.handle,\n\u001b[0m\u001b[0;32m   1160\u001b[0m                                                     \u001b[0mctypes\u001b[0m\u001b[1;33m.\u001b[0m\u001b[0mc_int\u001b[0m\u001b[1;33m(\u001b[0m\u001b[0miteration\u001b[0m\u001b[1;33m)\u001b[0m\u001b[1;33m,\u001b[0m\u001b[1;33m\u001b[0m\u001b[1;33m\u001b[0m\u001b[0m\n\u001b[0;32m   1161\u001b[0m                                                     dtrain.handle))\n",
      "\u001b[1;31mKeyboardInterrupt\u001b[0m: "
     ]
    }
   ],
   "source": [
    "xgb = XGBClassifier(random_state = 0)\n",
    "xgb.fit(X,y)"
   ]
  },
  {
   "cell_type": "markdown",
   "metadata": {},
   "source": [
    "## -------------------------------------------------------------------------------"
   ]
  },
  {
   "cell_type": "code",
   "execution_count": 27,
   "metadata": {},
   "outputs": [
    {
     "data": {
      "text/plain": [
       "0    56000\n",
       "1    40000\n",
       "2    33393\n",
       "3    18184\n",
       "5    12491\n",
       "4    12394\n",
       "6     2879\n",
       "Name: attack_label, dtype: int64"
      ]
     },
     "execution_count": 27,
     "metadata": {},
     "output_type": "execute_result"
    }
   ],
   "source": [
    "Ytrain.value_counts()"
   ]
  },
  {
   "cell_type": "code",
   "execution_count": 28,
   "metadata": {},
   "outputs": [
    {
     "data": {
      "text/plain": [
       "Index(['dur', 'spkts', 'dpkts', 'sbytes', 'dbytes', 'rate', 'sttl', 'dttl',\n",
       "       'sload', 'dload', 'sloss', 'dloss', 'sinpkt', 'dinpkt', 'sjit', 'djit',\n",
       "       'swin', 'stcpb', 'dtcpb', 'dwin', 'tcprtt', 'synack', 'ackdat', 'smean',\n",
       "       'dmean', 'trans_depth', 'response_body_len', 'ct_srv_src',\n",
       "       'ct_state_ttl', 'ct_dst_ltm', 'ct_src_dport_ltm', 'ct_dst_sport_ltm',\n",
       "       'ct_dst_src_ltm', 'is_ftp_login', 'ct_ftp_cmd', 'ct_flw_http_mthd',\n",
       "       'ct_src_ltm', 'ct_srv_dst', 'is_sm_ips_ports', 'label', 'proto',\n",
       "       'service', 'state'],\n",
       "      dtype='object')"
      ]
     },
     "execution_count": 28,
     "metadata": {},
     "output_type": "execute_result"
    }
   ],
   "source": [
    "Xtrain.columns"
   ]
  },
  {
   "cell_type": "code",
   "execution_count": 29,
   "metadata": {},
   "outputs": [
    {
     "data": {
      "text/plain": [
       "0    56000\n",
       "1    40000\n",
       "2    33393\n",
       "3    20000\n",
       "5    14000\n",
       "4    13900\n",
       "6     6000\n",
       "Name: attack_label, dtype: int64"
      ]
     },
     "execution_count": 29,
     "metadata": {},
     "output_type": "execute_result"
    }
   ],
   "source": [
    "over = SMOTE(sampling_strategy = {3 : 20000, 4 : 13900, 5 : 14000, 6 : 6000})\n",
    "X, y = over.fit_resample(Xtrain, Ytrain)\n",
    "y.value_counts()"
   ]
  },
  {
   "cell_type": "code",
   "execution_count": 30,
   "metadata": {},
   "outputs": [
    {
     "data": {
      "text/plain": [
       "0    50000\n",
       "1    36000\n",
       "2    30000\n",
       "3    20000\n",
       "5    14000\n",
       "4    13900\n",
       "6     6000\n",
       "Name: attack_label, dtype: int64"
      ]
     },
     "execution_count": 30,
     "metadata": {},
     "output_type": "execute_result"
    }
   ],
   "source": [
    "under = RandomUnderSampler(sampling_strategy = {0 : 50000, 1 : 36000, 2 : 30000})\n",
    "X, y = under.fit_resample(X, y)\n",
    "y.value_counts()"
   ]
  },
  {
   "cell_type": "code",
   "execution_count": 31,
   "metadata": {},
   "outputs": [
    {
     "data": {
      "text/plain": [
       "0    17755\n",
       "1    12868\n",
       "2    10409\n",
       "3     7064\n",
       "4     4900\n",
       "5     4860\n",
       "6     2144\n",
       "Name: attack_label, dtype: int64"
      ]
     },
     "execution_count": 31,
     "metadata": {},
     "output_type": "execute_result"
    }
   ],
   "source": [
    "resample(y, n_samples = 60000).value_counts()"
   ]
  },
  {
   "cell_type": "code",
   "execution_count": 32,
   "metadata": {},
   "outputs": [],
   "source": [
    "df_smpl = pd.concat([X,y], axis = 1)"
   ]
  },
  {
   "cell_type": "code",
   "execution_count": 33,
   "metadata": {},
   "outputs": [
    {
     "data": {
      "text/html": [
       "<div>\n",
       "<style scoped>\n",
       "    .dataframe tbody tr th:only-of-type {\n",
       "        vertical-align: middle;\n",
       "    }\n",
       "\n",
       "    .dataframe tbody tr th {\n",
       "        vertical-align: top;\n",
       "    }\n",
       "\n",
       "    .dataframe thead th {\n",
       "        text-align: right;\n",
       "    }\n",
       "</style>\n",
       "<table border=\"1\" class=\"dataframe\">\n",
       "  <thead>\n",
       "    <tr style=\"text-align: right;\">\n",
       "      <th></th>\n",
       "      <th>dur</th>\n",
       "      <th>spkts</th>\n",
       "      <th>dpkts</th>\n",
       "      <th>sbytes</th>\n",
       "      <th>dbytes</th>\n",
       "      <th>rate</th>\n",
       "      <th>sttl</th>\n",
       "      <th>dttl</th>\n",
       "      <th>sload</th>\n",
       "      <th>dload</th>\n",
       "      <th>...</th>\n",
       "      <th>ct_ftp_cmd</th>\n",
       "      <th>ct_flw_http_mthd</th>\n",
       "      <th>ct_src_ltm</th>\n",
       "      <th>ct_srv_dst</th>\n",
       "      <th>is_sm_ips_ports</th>\n",
       "      <th>label</th>\n",
       "      <th>proto</th>\n",
       "      <th>service</th>\n",
       "      <th>state</th>\n",
       "      <th>attack_label</th>\n",
       "    </tr>\n",
       "  </thead>\n",
       "  <tbody>\n",
       "    <tr>\n",
       "      <th>0</th>\n",
       "      <td>0.000009</td>\n",
       "      <td>2</td>\n",
       "      <td>0</td>\n",
       "      <td>114</td>\n",
       "      <td>0</td>\n",
       "      <td>111111.107200</td>\n",
       "      <td>254</td>\n",
       "      <td>0</td>\n",
       "      <td>5.066666e+07</td>\n",
       "      <td>0.000000e+00</td>\n",
       "      <td>...</td>\n",
       "      <td>0</td>\n",
       "      <td>0</td>\n",
       "      <td>17</td>\n",
       "      <td>31</td>\n",
       "      <td>0</td>\n",
       "      <td>1</td>\n",
       "      <td>0.360914</td>\n",
       "      <td>0.269726</td>\n",
       "      <td>0.469229</td>\n",
       "      <td>1</td>\n",
       "    </tr>\n",
       "    <tr>\n",
       "      <th>1</th>\n",
       "      <td>0.000010</td>\n",
       "      <td>2</td>\n",
       "      <td>0</td>\n",
       "      <td>200</td>\n",
       "      <td>0</td>\n",
       "      <td>100000.002500</td>\n",
       "      <td>254</td>\n",
       "      <td>0</td>\n",
       "      <td>8.000000e+07</td>\n",
       "      <td>0.000000e+00</td>\n",
       "      <td>...</td>\n",
       "      <td>0</td>\n",
       "      <td>0</td>\n",
       "      <td>4</td>\n",
       "      <td>4</td>\n",
       "      <td>0</td>\n",
       "      <td>1</td>\n",
       "      <td>0.006559</td>\n",
       "      <td>0.537056</td>\n",
       "      <td>0.469229</td>\n",
       "      <td>2</td>\n",
       "    </tr>\n",
       "    <tr>\n",
       "      <th>2</th>\n",
       "      <td>0.000004</td>\n",
       "      <td>2</td>\n",
       "      <td>0</td>\n",
       "      <td>114</td>\n",
       "      <td>0</td>\n",
       "      <td>250000.000600</td>\n",
       "      <td>254</td>\n",
       "      <td>0</td>\n",
       "      <td>1.140000e+08</td>\n",
       "      <td>0.000000e+00</td>\n",
       "      <td>...</td>\n",
       "      <td>0</td>\n",
       "      <td>0</td>\n",
       "      <td>16</td>\n",
       "      <td>16</td>\n",
       "      <td>0</td>\n",
       "      <td>1</td>\n",
       "      <td>0.360914</td>\n",
       "      <td>0.269726</td>\n",
       "      <td>0.469229</td>\n",
       "      <td>1</td>\n",
       "    </tr>\n",
       "    <tr>\n",
       "      <th>3</th>\n",
       "      <td>0.031383</td>\n",
       "      <td>54</td>\n",
       "      <td>42</td>\n",
       "      <td>37808</td>\n",
       "      <td>3380</td>\n",
       "      <td>3027.116561</td>\n",
       "      <td>31</td>\n",
       "      <td>29</td>\n",
       "      <td>9.459389e+06</td>\n",
       "      <td>8.412198e+05</td>\n",
       "      <td>...</td>\n",
       "      <td>0</td>\n",
       "      <td>0</td>\n",
       "      <td>11</td>\n",
       "      <td>2</td>\n",
       "      <td>0</td>\n",
       "      <td>0</td>\n",
       "      <td>0.455946</td>\n",
       "      <td>0.028847</td>\n",
       "      <td>0.443849</td>\n",
       "      <td>0</td>\n",
       "    </tr>\n",
       "    <tr>\n",
       "      <th>4</th>\n",
       "      <td>0.140161</td>\n",
       "      <td>48</td>\n",
       "      <td>50</td>\n",
       "      <td>2958</td>\n",
       "      <td>33044</td>\n",
       "      <td>692.061308</td>\n",
       "      <td>31</td>\n",
       "      <td>29</td>\n",
       "      <td>1.653527e+05</td>\n",
       "      <td>1.848389e+06</td>\n",
       "      <td>...</td>\n",
       "      <td>0</td>\n",
       "      <td>0</td>\n",
       "      <td>5</td>\n",
       "      <td>9</td>\n",
       "      <td>0</td>\n",
       "      <td>0</td>\n",
       "      <td>0.455946</td>\n",
       "      <td>0.537056</td>\n",
       "      <td>0.443849</td>\n",
       "      <td>0</td>\n",
       "    </tr>\n",
       "    <tr>\n",
       "      <th>...</th>\n",
       "      <td>...</td>\n",
       "      <td>...</td>\n",
       "      <td>...</td>\n",
       "      <td>...</td>\n",
       "      <td>...</td>\n",
       "      <td>...</td>\n",
       "      <td>...</td>\n",
       "      <td>...</td>\n",
       "      <td>...</td>\n",
       "      <td>...</td>\n",
       "      <td>...</td>\n",
       "      <td>...</td>\n",
       "      <td>...</td>\n",
       "      <td>...</td>\n",
       "      <td>...</td>\n",
       "      <td>...</td>\n",
       "      <td>...</td>\n",
       "      <td>...</td>\n",
       "      <td>...</td>\n",
       "      <td>...</td>\n",
       "      <td>...</td>\n",
       "    </tr>\n",
       "    <tr>\n",
       "      <th>49995</th>\n",
       "      <td>2.014740</td>\n",
       "      <td>36</td>\n",
       "      <td>132</td>\n",
       "      <td>1654</td>\n",
       "      <td>152418</td>\n",
       "      <td>82.889108</td>\n",
       "      <td>62</td>\n",
       "      <td>252</td>\n",
       "      <td>6.388914e+03</td>\n",
       "      <td>6.006294e+05</td>\n",
       "      <td>...</td>\n",
       "      <td>0</td>\n",
       "      <td>0</td>\n",
       "      <td>1</td>\n",
       "      <td>1</td>\n",
       "      <td>0</td>\n",
       "      <td>1</td>\n",
       "      <td>0.455946</td>\n",
       "      <td>0.006302</td>\n",
       "      <td>0.443849</td>\n",
       "      <td>2</td>\n",
       "    </tr>\n",
       "    <tr>\n",
       "      <th>49996</th>\n",
       "      <td>0.785462</td>\n",
       "      <td>10</td>\n",
       "      <td>7</td>\n",
       "      <td>1751</td>\n",
       "      <td>339</td>\n",
       "      <td>26.988247</td>\n",
       "      <td>254</td>\n",
       "      <td>252</td>\n",
       "      <td>1.944125e+04</td>\n",
       "      <td>3.640838e+03</td>\n",
       "      <td>...</td>\n",
       "      <td>0</td>\n",
       "      <td>0</td>\n",
       "      <td>4</td>\n",
       "      <td>1</td>\n",
       "      <td>0</td>\n",
       "      <td>1</td>\n",
       "      <td>0.455946</td>\n",
       "      <td>0.537056</td>\n",
       "      <td>0.443849</td>\n",
       "      <td>6</td>\n",
       "    </tr>\n",
       "    <tr>\n",
       "      <th>49997</th>\n",
       "      <td>8.061390</td>\n",
       "      <td>74</td>\n",
       "      <td>338</td>\n",
       "      <td>3282</td>\n",
       "      <td>434489</td>\n",
       "      <td>50.983764</td>\n",
       "      <td>62</td>\n",
       "      <td>252</td>\n",
       "      <td>3.213342e+03</td>\n",
       "      <td>4.299050e+05</td>\n",
       "      <td>...</td>\n",
       "      <td>0</td>\n",
       "      <td>0</td>\n",
       "      <td>3</td>\n",
       "      <td>1</td>\n",
       "      <td>0</td>\n",
       "      <td>1</td>\n",
       "      <td>0.455946</td>\n",
       "      <td>0.006302</td>\n",
       "      <td>0.443849</td>\n",
       "      <td>2</td>\n",
       "    </tr>\n",
       "    <tr>\n",
       "      <th>49998</th>\n",
       "      <td>1.459901</td>\n",
       "      <td>10</td>\n",
       "      <td>8</td>\n",
       "      <td>848</td>\n",
       "      <td>354</td>\n",
       "      <td>11.644625</td>\n",
       "      <td>254</td>\n",
       "      <td>252</td>\n",
       "      <td>4.186585e+03</td>\n",
       "      <td>1.698745e+03</td>\n",
       "      <td>...</td>\n",
       "      <td>0</td>\n",
       "      <td>1</td>\n",
       "      <td>2</td>\n",
       "      <td>1</td>\n",
       "      <td>0</td>\n",
       "      <td>1</td>\n",
       "      <td>0.455946</td>\n",
       "      <td>0.106786</td>\n",
       "      <td>0.443849</td>\n",
       "      <td>2</td>\n",
       "    </tr>\n",
       "    <tr>\n",
       "      <th>49999</th>\n",
       "      <td>0.000010</td>\n",
       "      <td>2</td>\n",
       "      <td>0</td>\n",
       "      <td>168</td>\n",
       "      <td>0</td>\n",
       "      <td>100000.002500</td>\n",
       "      <td>254</td>\n",
       "      <td>0</td>\n",
       "      <td>6.720000e+07</td>\n",
       "      <td>0.000000e+00</td>\n",
       "      <td>...</td>\n",
       "      <td>0</td>\n",
       "      <td>0</td>\n",
       "      <td>1</td>\n",
       "      <td>1</td>\n",
       "      <td>0</td>\n",
       "      <td>1</td>\n",
       "      <td>0.360914</td>\n",
       "      <td>0.537056</td>\n",
       "      <td>0.469229</td>\n",
       "      <td>5</td>\n",
       "    </tr>\n",
       "  </tbody>\n",
       "</table>\n",
       "<p>50000 rows × 44 columns</p>\n",
       "</div>"
      ],
      "text/plain": [
       "            dur  spkts  dpkts  sbytes  dbytes           rate  sttl  dttl  \\\n",
       "0      0.000009      2      0     114       0  111111.107200   254     0   \n",
       "1      0.000010      2      0     200       0  100000.002500   254     0   \n",
       "2      0.000004      2      0     114       0  250000.000600   254     0   \n",
       "3      0.031383     54     42   37808    3380    3027.116561    31    29   \n",
       "4      0.140161     48     50    2958   33044     692.061308    31    29   \n",
       "...         ...    ...    ...     ...     ...            ...   ...   ...   \n",
       "49995  2.014740     36    132    1654  152418      82.889108    62   252   \n",
       "49996  0.785462     10      7    1751     339      26.988247   254   252   \n",
       "49997  8.061390     74    338    3282  434489      50.983764    62   252   \n",
       "49998  1.459901     10      8     848     354      11.644625   254   252   \n",
       "49999  0.000010      2      0     168       0  100000.002500   254     0   \n",
       "\n",
       "              sload         dload  ...  ct_ftp_cmd  ct_flw_http_mthd  \\\n",
       "0      5.066666e+07  0.000000e+00  ...           0                 0   \n",
       "1      8.000000e+07  0.000000e+00  ...           0                 0   \n",
       "2      1.140000e+08  0.000000e+00  ...           0                 0   \n",
       "3      9.459389e+06  8.412198e+05  ...           0                 0   \n",
       "4      1.653527e+05  1.848389e+06  ...           0                 0   \n",
       "...             ...           ...  ...         ...               ...   \n",
       "49995  6.388914e+03  6.006294e+05  ...           0                 0   \n",
       "49996  1.944125e+04  3.640838e+03  ...           0                 0   \n",
       "49997  3.213342e+03  4.299050e+05  ...           0                 0   \n",
       "49998  4.186585e+03  1.698745e+03  ...           0                 1   \n",
       "49999  6.720000e+07  0.000000e+00  ...           0                 0   \n",
       "\n",
       "       ct_src_ltm  ct_srv_dst  is_sm_ips_ports  label     proto   service  \\\n",
       "0              17          31                0      1  0.360914  0.269726   \n",
       "1               4           4                0      1  0.006559  0.537056   \n",
       "2              16          16                0      1  0.360914  0.269726   \n",
       "3              11           2                0      0  0.455946  0.028847   \n",
       "4               5           9                0      0  0.455946  0.537056   \n",
       "...           ...         ...              ...    ...       ...       ...   \n",
       "49995           1           1                0      1  0.455946  0.006302   \n",
       "49996           4           1                0      1  0.455946  0.537056   \n",
       "49997           3           1                0      1  0.455946  0.006302   \n",
       "49998           2           1                0      1  0.455946  0.106786   \n",
       "49999           1           1                0      1  0.360914  0.537056   \n",
       "\n",
       "          state  attack_label  \n",
       "0      0.469229             1  \n",
       "1      0.469229             2  \n",
       "2      0.469229             1  \n",
       "3      0.443849             0  \n",
       "4      0.443849             0  \n",
       "...         ...           ...  \n",
       "49995  0.443849             2  \n",
       "49996  0.443849             6  \n",
       "49997  0.443849             2  \n",
       "49998  0.443849             2  \n",
       "49999  0.469229             5  \n",
       "\n",
       "[50000 rows x 44 columns]"
      ]
     },
     "execution_count": 33,
     "metadata": {},
     "output_type": "execute_result"
    }
   ],
   "source": [
    "df_smpl = resample(df_smpl, n_samples = 50000).reset_index(drop = True)\n",
    "df_smpl"
   ]
  },
  {
   "cell_type": "code",
   "execution_count": 34,
   "metadata": {},
   "outputs": [],
   "source": [
    "X = df_smpl.drop('attack_label', axis = 1)\n",
    "y = df_smpl['attack_label']"
   ]
  },
  {
   "cell_type": "code",
   "execution_count": 40,
   "metadata": {},
   "outputs": [],
   "source": [
    "def modl(modl_nm, X_tr, y_tr, X_ts, y_ts):\n",
    "    modl_nm.fit(X_tr, y_tr)\n",
    "    print('Train model')\n",
    "    ypred_train = modl_nm.predict(X_tr)\n",
    "    ypred_test = modl_nm.predict(X_ts)\n",
    "    print(classification_report(y_tr, ypred_train))\n",
    "    print('_'*70)\n",
    "    print('Test model')\n",
    "    print(classification_report(y_ts, ypred_test))\n",
    "    print('_'*70)\n",
    "    display(pd.DataFrame({'imp' : modl_nm.feature_importances_,\n",
    "                          'feature' : X_tr.columns}).sort_values(by = 'imp').head())"
   ]
  },
  {
   "cell_type": "code",
   "execution_count": 65,
   "metadata": {},
   "outputs": [],
   "source": [
    "xgb = XGBClassifier(random_state = 0, nthread = 8)"
   ]
  },
  {
   "cell_type": "code",
   "execution_count": 64,
   "metadata": {},
   "outputs": [],
   "source": [
    "Xd = X.drop('label', axis = 1)\n",
    "Xdt = Xtest.drop('label', axis = 1)"
   ]
  },
  {
   "cell_type": "code",
   "execution_count": 66,
   "metadata": {},
   "outputs": [
    {
     "name": "stdout",
     "output_type": "stream",
     "text": [
      "Train model\n",
      "              precision    recall  f1-score   support\n",
      "\n",
      "           0       0.98      0.96      0.97     14657\n",
      "           1       1.00      0.99      1.00     10395\n",
      "           2       0.68      0.91      0.78      9081\n",
      "           3       0.90      0.87      0.89      5807\n",
      "           4       0.58      0.46      0.52      4121\n",
      "           5       0.98      0.74      0.84      4185\n",
      "           6       0.91      0.62      0.74      1754\n",
      "\n",
      "    accuracy                           0.88     50000\n",
      "   macro avg       0.86      0.79      0.82     50000\n",
      "weighted avg       0.89      0.88      0.88     50000\n",
      "\n",
      "______________________________________________________________________\n",
      "Test model\n",
      "              precision    recall  f1-score   support\n",
      "\n",
      "           0       0.96      0.74      0.84     37000\n",
      "           1       1.00      0.97      0.98     18871\n",
      "           2       0.70      0.69      0.70     11132\n",
      "           3       0.30      0.56      0.39      6062\n",
      "           4       0.34      0.22      0.27      4133\n",
      "           5       0.68      0.69      0.68      4173\n",
      "           6       0.10      0.64      0.18       961\n",
      "\n",
      "    accuracy                           0.74     82332\n",
      "   macro avg       0.58      0.64      0.58     82332\n",
      "weighted avg       0.83      0.74      0.77     82332\n",
      "\n",
      "______________________________________________________________________\n"
     ]
    },
    {
     "data": {
      "text/html": [
       "<div>\n",
       "<style scoped>\n",
       "    .dataframe tbody tr th:only-of-type {\n",
       "        vertical-align: middle;\n",
       "    }\n",
       "\n",
       "    .dataframe tbody tr th {\n",
       "        vertical-align: top;\n",
       "    }\n",
       "\n",
       "    .dataframe thead th {\n",
       "        text-align: right;\n",
       "    }\n",
       "</style>\n",
       "<table border=\"1\" class=\"dataframe\">\n",
       "  <thead>\n",
       "    <tr style=\"text-align: right;\">\n",
       "      <th></th>\n",
       "      <th>imp</th>\n",
       "      <th>feature</th>\n",
       "    </tr>\n",
       "  </thead>\n",
       "  <tbody>\n",
       "    <tr>\n",
       "      <th>34</th>\n",
       "      <td>0.000000</td>\n",
       "      <td>ct_ftp_cmd</td>\n",
       "    </tr>\n",
       "    <tr>\n",
       "      <th>19</th>\n",
       "      <td>0.000000</td>\n",
       "      <td>dwin</td>\n",
       "    </tr>\n",
       "    <tr>\n",
       "      <th>33</th>\n",
       "      <td>0.000682</td>\n",
       "      <td>is_ftp_login</td>\n",
       "    </tr>\n",
       "    <tr>\n",
       "      <th>29</th>\n",
       "      <td>0.001084</td>\n",
       "      <td>ct_dst_ltm</td>\n",
       "    </tr>\n",
       "    <tr>\n",
       "      <th>36</th>\n",
       "      <td>0.001205</td>\n",
       "      <td>ct_src_ltm</td>\n",
       "    </tr>\n",
       "    <tr>\n",
       "      <th>18</th>\n",
       "      <td>0.001223</td>\n",
       "      <td>dtcpb</td>\n",
       "    </tr>\n",
       "    <tr>\n",
       "      <th>17</th>\n",
       "      <td>0.001305</td>\n",
       "      <td>stcpb</td>\n",
       "    </tr>\n",
       "    <tr>\n",
       "      <th>12</th>\n",
       "      <td>0.001361</td>\n",
       "      <td>sinpkt</td>\n",
       "    </tr>\n",
       "    <tr>\n",
       "      <th>22</th>\n",
       "      <td>0.001396</td>\n",
       "      <td>ackdat</td>\n",
       "    </tr>\n",
       "    <tr>\n",
       "      <th>0</th>\n",
       "      <td>0.001524</td>\n",
       "      <td>dur</td>\n",
       "    </tr>\n",
       "    <tr>\n",
       "      <th>13</th>\n",
       "      <td>0.001524</td>\n",
       "      <td>dinpkt</td>\n",
       "    </tr>\n",
       "    <tr>\n",
       "      <th>41</th>\n",
       "      <td>0.001723</td>\n",
       "      <td>state</td>\n",
       "    </tr>\n",
       "    <tr>\n",
       "      <th>15</th>\n",
       "      <td>0.001824</td>\n",
       "      <td>djit</td>\n",
       "    </tr>\n",
       "    <tr>\n",
       "      <th>25</th>\n",
       "      <td>0.002037</td>\n",
       "      <td>trans_depth</td>\n",
       "    </tr>\n",
       "    <tr>\n",
       "      <th>9</th>\n",
       "      <td>0.002072</td>\n",
       "      <td>dload</td>\n",
       "    </tr>\n",
       "    <tr>\n",
       "      <th>30</th>\n",
       "      <td>0.002356</td>\n",
       "      <td>ct_src_dport_ltm</td>\n",
       "    </tr>\n",
       "    <tr>\n",
       "      <th>8</th>\n",
       "      <td>0.002365</td>\n",
       "      <td>sload</td>\n",
       "    </tr>\n",
       "    <tr>\n",
       "      <th>5</th>\n",
       "      <td>0.002503</td>\n",
       "      <td>rate</td>\n",
       "    </tr>\n",
       "    <tr>\n",
       "      <th>14</th>\n",
       "      <td>0.002545</td>\n",
       "      <td>sjit</td>\n",
       "    </tr>\n",
       "    <tr>\n",
       "      <th>2</th>\n",
       "      <td>0.002691</td>\n",
       "      <td>dpkts</td>\n",
       "    </tr>\n",
       "    <tr>\n",
       "      <th>20</th>\n",
       "      <td>0.002699</td>\n",
       "      <td>tcprtt</td>\n",
       "    </tr>\n",
       "    <tr>\n",
       "      <th>1</th>\n",
       "      <td>0.002935</td>\n",
       "      <td>spkts</td>\n",
       "    </tr>\n",
       "    <tr>\n",
       "      <th>26</th>\n",
       "      <td>0.003052</td>\n",
       "      <td>response_body_len</td>\n",
       "    </tr>\n",
       "    <tr>\n",
       "      <th>28</th>\n",
       "      <td>0.003363</td>\n",
       "      <td>ct_state_ttl</td>\n",
       "    </tr>\n",
       "    <tr>\n",
       "      <th>27</th>\n",
       "      <td>0.003505</td>\n",
       "      <td>ct_srv_src</td>\n",
       "    </tr>\n",
       "    <tr>\n",
       "      <th>35</th>\n",
       "      <td>0.004558</td>\n",
       "      <td>ct_flw_http_mthd</td>\n",
       "    </tr>\n",
       "    <tr>\n",
       "      <th>11</th>\n",
       "      <td>0.004867</td>\n",
       "      <td>dloss</td>\n",
       "    </tr>\n",
       "    <tr>\n",
       "      <th>21</th>\n",
       "      <td>0.008087</td>\n",
       "      <td>synack</td>\n",
       "    </tr>\n",
       "    <tr>\n",
       "      <th>32</th>\n",
       "      <td>0.009286</td>\n",
       "      <td>ct_dst_src_ltm</td>\n",
       "    </tr>\n",
       "    <tr>\n",
       "      <th>23</th>\n",
       "      <td>0.010019</td>\n",
       "      <td>smean</td>\n",
       "    </tr>\n",
       "    <tr>\n",
       "      <th>4</th>\n",
       "      <td>0.010612</td>\n",
       "      <td>dbytes</td>\n",
       "    </tr>\n",
       "    <tr>\n",
       "      <th>10</th>\n",
       "      <td>0.012878</td>\n",
       "      <td>sloss</td>\n",
       "    </tr>\n",
       "    <tr>\n",
       "      <th>24</th>\n",
       "      <td>0.016186</td>\n",
       "      <td>dmean</td>\n",
       "    </tr>\n",
       "    <tr>\n",
       "      <th>3</th>\n",
       "      <td>0.019841</td>\n",
       "      <td>sbytes</td>\n",
       "    </tr>\n",
       "    <tr>\n",
       "      <th>37</th>\n",
       "      <td>0.022652</td>\n",
       "      <td>ct_srv_dst</td>\n",
       "    </tr>\n",
       "    <tr>\n",
       "      <th>40</th>\n",
       "      <td>0.023691</td>\n",
       "      <td>service</td>\n",
       "    </tr>\n",
       "    <tr>\n",
       "      <th>39</th>\n",
       "      <td>0.026278</td>\n",
       "      <td>proto</td>\n",
       "    </tr>\n",
       "    <tr>\n",
       "      <th>16</th>\n",
       "      <td>0.043422</td>\n",
       "      <td>swin</td>\n",
       "    </tr>\n",
       "    <tr>\n",
       "      <th>38</th>\n",
       "      <td>0.063622</td>\n",
       "      <td>is_sm_ips_ports</td>\n",
       "    </tr>\n",
       "    <tr>\n",
       "      <th>31</th>\n",
       "      <td>0.186104</td>\n",
       "      <td>ct_dst_sport_ltm</td>\n",
       "    </tr>\n",
       "    <tr>\n",
       "      <th>6</th>\n",
       "      <td>0.188103</td>\n",
       "      <td>sttl</td>\n",
       "    </tr>\n",
       "    <tr>\n",
       "      <th>7</th>\n",
       "      <td>0.302817</td>\n",
       "      <td>dttl</td>\n",
       "    </tr>\n",
       "  </tbody>\n",
       "</table>\n",
       "</div>"
      ],
      "text/plain": [
       "         imp            feature\n",
       "34  0.000000         ct_ftp_cmd\n",
       "19  0.000000               dwin\n",
       "33  0.000682       is_ftp_login\n",
       "29  0.001084         ct_dst_ltm\n",
       "36  0.001205         ct_src_ltm\n",
       "18  0.001223              dtcpb\n",
       "17  0.001305              stcpb\n",
       "12  0.001361             sinpkt\n",
       "22  0.001396             ackdat\n",
       "0   0.001524                dur\n",
       "13  0.001524             dinpkt\n",
       "41  0.001723              state\n",
       "15  0.001824               djit\n",
       "25  0.002037        trans_depth\n",
       "9   0.002072              dload\n",
       "30  0.002356   ct_src_dport_ltm\n",
       "8   0.002365              sload\n",
       "5   0.002503               rate\n",
       "14  0.002545               sjit\n",
       "2   0.002691              dpkts\n",
       "20  0.002699             tcprtt\n",
       "1   0.002935              spkts\n",
       "26  0.003052  response_body_len\n",
       "28  0.003363       ct_state_ttl\n",
       "27  0.003505         ct_srv_src\n",
       "35  0.004558   ct_flw_http_mthd\n",
       "11  0.004867              dloss\n",
       "21  0.008087             synack\n",
       "32  0.009286     ct_dst_src_ltm\n",
       "23  0.010019              smean\n",
       "4   0.010612             dbytes\n",
       "10  0.012878              sloss\n",
       "24  0.016186              dmean\n",
       "3   0.019841             sbytes\n",
       "37  0.022652         ct_srv_dst\n",
       "40  0.023691            service\n",
       "39  0.026278              proto\n",
       "16  0.043422               swin\n",
       "38  0.063622    is_sm_ips_ports\n",
       "31  0.186104   ct_dst_sport_ltm\n",
       "6   0.188103               sttl\n",
       "7   0.302817               dttl"
      ]
     },
     "metadata": {},
     "output_type": "display_data"
    }
   ],
   "source": [
    "modl(xgb, Xd, y, Xdt, Ytest)"
   ]
  },
  {
   "cell_type": "code",
   "execution_count": 68,
   "metadata": {},
   "outputs": [],
   "source": [
    "inp = Xd.drop(['ct_ftp_cmd', 'dwin'], axis = 1)\n",
    "inpt = Xdt.drop(['ct_ftp_cmd', 'dwin'], axis = 1)"
   ]
  },
  {
   "cell_type": "code",
   "execution_count": 69,
   "metadata": {},
   "outputs": [
    {
     "name": "stdout",
     "output_type": "stream",
     "text": [
      "Train model\n",
      "              precision    recall  f1-score   support\n",
      "\n",
      "           0       0.98      0.96      0.97     14657\n",
      "           1       1.00      0.99      1.00     10395\n",
      "           2       0.68      0.91      0.78      9081\n",
      "           3       0.90      0.87      0.89      5807\n",
      "           4       0.58      0.46      0.52      4121\n",
      "           5       0.98      0.74      0.84      4185\n",
      "           6       0.91      0.62      0.74      1754\n",
      "\n",
      "    accuracy                           0.88     50000\n",
      "   macro avg       0.86      0.79      0.82     50000\n",
      "weighted avg       0.89      0.88      0.88     50000\n",
      "\n",
      "______________________________________________________________________\n",
      "Test model\n",
      "              precision    recall  f1-score   support\n",
      "\n",
      "           0       0.96      0.74      0.84     37000\n",
      "           1       1.00      0.97      0.98     18871\n",
      "           2       0.70      0.69      0.70     11132\n",
      "           3       0.30      0.56      0.39      6062\n",
      "           4       0.34      0.22      0.27      4133\n",
      "           5       0.68      0.69      0.68      4173\n",
      "           6       0.10      0.64      0.18       961\n",
      "\n",
      "    accuracy                           0.74     82332\n",
      "   macro avg       0.58      0.64      0.58     82332\n",
      "weighted avg       0.83      0.74      0.77     82332\n",
      "\n",
      "______________________________________________________________________\n"
     ]
    },
    {
     "data": {
      "text/html": [
       "<div>\n",
       "<style scoped>\n",
       "    .dataframe tbody tr th:only-of-type {\n",
       "        vertical-align: middle;\n",
       "    }\n",
       "\n",
       "    .dataframe tbody tr th {\n",
       "        vertical-align: top;\n",
       "    }\n",
       "\n",
       "    .dataframe thead th {\n",
       "        text-align: right;\n",
       "    }\n",
       "</style>\n",
       "<table border=\"1\" class=\"dataframe\">\n",
       "  <thead>\n",
       "    <tr style=\"text-align: right;\">\n",
       "      <th></th>\n",
       "      <th>imp</th>\n",
       "      <th>feature</th>\n",
       "    </tr>\n",
       "  </thead>\n",
       "  <tbody>\n",
       "    <tr>\n",
       "      <th>32</th>\n",
       "      <td>0.000682</td>\n",
       "      <td>is_ftp_login</td>\n",
       "    </tr>\n",
       "    <tr>\n",
       "      <th>28</th>\n",
       "      <td>0.001084</td>\n",
       "      <td>ct_dst_ltm</td>\n",
       "    </tr>\n",
       "    <tr>\n",
       "      <th>34</th>\n",
       "      <td>0.001205</td>\n",
       "      <td>ct_src_ltm</td>\n",
       "    </tr>\n",
       "    <tr>\n",
       "      <th>18</th>\n",
       "      <td>0.001223</td>\n",
       "      <td>dtcpb</td>\n",
       "    </tr>\n",
       "    <tr>\n",
       "      <th>17</th>\n",
       "      <td>0.001305</td>\n",
       "      <td>stcpb</td>\n",
       "    </tr>\n",
       "    <tr>\n",
       "      <th>12</th>\n",
       "      <td>0.001361</td>\n",
       "      <td>sinpkt</td>\n",
       "    </tr>\n",
       "    <tr>\n",
       "      <th>21</th>\n",
       "      <td>0.001396</td>\n",
       "      <td>ackdat</td>\n",
       "    </tr>\n",
       "    <tr>\n",
       "      <th>0</th>\n",
       "      <td>0.001524</td>\n",
       "      <td>dur</td>\n",
       "    </tr>\n",
       "    <tr>\n",
       "      <th>13</th>\n",
       "      <td>0.001524</td>\n",
       "      <td>dinpkt</td>\n",
       "    </tr>\n",
       "    <tr>\n",
       "      <th>39</th>\n",
       "      <td>0.001723</td>\n",
       "      <td>state</td>\n",
       "    </tr>\n",
       "    <tr>\n",
       "      <th>15</th>\n",
       "      <td>0.001824</td>\n",
       "      <td>djit</td>\n",
       "    </tr>\n",
       "    <tr>\n",
       "      <th>24</th>\n",
       "      <td>0.002037</td>\n",
       "      <td>trans_depth</td>\n",
       "    </tr>\n",
       "    <tr>\n",
       "      <th>9</th>\n",
       "      <td>0.002072</td>\n",
       "      <td>dload</td>\n",
       "    </tr>\n",
       "    <tr>\n",
       "      <th>29</th>\n",
       "      <td>0.002356</td>\n",
       "      <td>ct_src_dport_ltm</td>\n",
       "    </tr>\n",
       "    <tr>\n",
       "      <th>8</th>\n",
       "      <td>0.002365</td>\n",
       "      <td>sload</td>\n",
       "    </tr>\n",
       "    <tr>\n",
       "      <th>5</th>\n",
       "      <td>0.002503</td>\n",
       "      <td>rate</td>\n",
       "    </tr>\n",
       "    <tr>\n",
       "      <th>14</th>\n",
       "      <td>0.002545</td>\n",
       "      <td>sjit</td>\n",
       "    </tr>\n",
       "    <tr>\n",
       "      <th>2</th>\n",
       "      <td>0.002691</td>\n",
       "      <td>dpkts</td>\n",
       "    </tr>\n",
       "    <tr>\n",
       "      <th>19</th>\n",
       "      <td>0.002699</td>\n",
       "      <td>tcprtt</td>\n",
       "    </tr>\n",
       "    <tr>\n",
       "      <th>1</th>\n",
       "      <td>0.002935</td>\n",
       "      <td>spkts</td>\n",
       "    </tr>\n",
       "    <tr>\n",
       "      <th>25</th>\n",
       "      <td>0.003052</td>\n",
       "      <td>response_body_len</td>\n",
       "    </tr>\n",
       "    <tr>\n",
       "      <th>27</th>\n",
       "      <td>0.003363</td>\n",
       "      <td>ct_state_ttl</td>\n",
       "    </tr>\n",
       "    <tr>\n",
       "      <th>26</th>\n",
       "      <td>0.003505</td>\n",
       "      <td>ct_srv_src</td>\n",
       "    </tr>\n",
       "    <tr>\n",
       "      <th>33</th>\n",
       "      <td>0.004558</td>\n",
       "      <td>ct_flw_http_mthd</td>\n",
       "    </tr>\n",
       "    <tr>\n",
       "      <th>11</th>\n",
       "      <td>0.004867</td>\n",
       "      <td>dloss</td>\n",
       "    </tr>\n",
       "    <tr>\n",
       "      <th>20</th>\n",
       "      <td>0.008087</td>\n",
       "      <td>synack</td>\n",
       "    </tr>\n",
       "    <tr>\n",
       "      <th>31</th>\n",
       "      <td>0.009286</td>\n",
       "      <td>ct_dst_src_ltm</td>\n",
       "    </tr>\n",
       "    <tr>\n",
       "      <th>22</th>\n",
       "      <td>0.010019</td>\n",
       "      <td>smean</td>\n",
       "    </tr>\n",
       "    <tr>\n",
       "      <th>4</th>\n",
       "      <td>0.010612</td>\n",
       "      <td>dbytes</td>\n",
       "    </tr>\n",
       "    <tr>\n",
       "      <th>10</th>\n",
       "      <td>0.012878</td>\n",
       "      <td>sloss</td>\n",
       "    </tr>\n",
       "    <tr>\n",
       "      <th>23</th>\n",
       "      <td>0.016186</td>\n",
       "      <td>dmean</td>\n",
       "    </tr>\n",
       "    <tr>\n",
       "      <th>3</th>\n",
       "      <td>0.019841</td>\n",
       "      <td>sbytes</td>\n",
       "    </tr>\n",
       "    <tr>\n",
       "      <th>35</th>\n",
       "      <td>0.022652</td>\n",
       "      <td>ct_srv_dst</td>\n",
       "    </tr>\n",
       "    <tr>\n",
       "      <th>38</th>\n",
       "      <td>0.023691</td>\n",
       "      <td>service</td>\n",
       "    </tr>\n",
       "    <tr>\n",
       "      <th>37</th>\n",
       "      <td>0.026278</td>\n",
       "      <td>proto</td>\n",
       "    </tr>\n",
       "    <tr>\n",
       "      <th>16</th>\n",
       "      <td>0.043422</td>\n",
       "      <td>swin</td>\n",
       "    </tr>\n",
       "    <tr>\n",
       "      <th>36</th>\n",
       "      <td>0.063622</td>\n",
       "      <td>is_sm_ips_ports</td>\n",
       "    </tr>\n",
       "    <tr>\n",
       "      <th>30</th>\n",
       "      <td>0.186104</td>\n",
       "      <td>ct_dst_sport_ltm</td>\n",
       "    </tr>\n",
       "    <tr>\n",
       "      <th>6</th>\n",
       "      <td>0.188103</td>\n",
       "      <td>sttl</td>\n",
       "    </tr>\n",
       "    <tr>\n",
       "      <th>7</th>\n",
       "      <td>0.302817</td>\n",
       "      <td>dttl</td>\n",
       "    </tr>\n",
       "  </tbody>\n",
       "</table>\n",
       "</div>"
      ],
      "text/plain": [
       "         imp            feature\n",
       "32  0.000682       is_ftp_login\n",
       "28  0.001084         ct_dst_ltm\n",
       "34  0.001205         ct_src_ltm\n",
       "18  0.001223              dtcpb\n",
       "17  0.001305              stcpb\n",
       "12  0.001361             sinpkt\n",
       "21  0.001396             ackdat\n",
       "0   0.001524                dur\n",
       "13  0.001524             dinpkt\n",
       "39  0.001723              state\n",
       "15  0.001824               djit\n",
       "24  0.002037        trans_depth\n",
       "9   0.002072              dload\n",
       "29  0.002356   ct_src_dport_ltm\n",
       "8   0.002365              sload\n",
       "5   0.002503               rate\n",
       "14  0.002545               sjit\n",
       "2   0.002691              dpkts\n",
       "19  0.002699             tcprtt\n",
       "1   0.002935              spkts\n",
       "25  0.003052  response_body_len\n",
       "27  0.003363       ct_state_ttl\n",
       "26  0.003505         ct_srv_src\n",
       "33  0.004558   ct_flw_http_mthd\n",
       "11  0.004867              dloss\n",
       "20  0.008087             synack\n",
       "31  0.009286     ct_dst_src_ltm\n",
       "22  0.010019              smean\n",
       "4   0.010612             dbytes\n",
       "10  0.012878              sloss\n",
       "23  0.016186              dmean\n",
       "3   0.019841             sbytes\n",
       "35  0.022652         ct_srv_dst\n",
       "38  0.023691            service\n",
       "37  0.026278              proto\n",
       "16  0.043422               swin\n",
       "36  0.063622    is_sm_ips_ports\n",
       "30  0.186104   ct_dst_sport_ltm\n",
       "6   0.188103               sttl\n",
       "7   0.302817               dttl"
      ]
     },
     "metadata": {},
     "output_type": "display_data"
    }
   ],
   "source": [
    "xgb = XGBClassifier(random_state = 0, nthread = 8)\n",
    "modl(xgb, inp, y, inpt, Ytest)"
   ]
  },
  {
   "cell_type": "code",
   "execution_count": 70,
   "metadata": {},
   "outputs": [],
   "source": [
    "inp = inp.drop(['is_ftp_login', 'ct_dst_ltm', 'ct_src_ltm'], axis = 1)\n",
    "inpt = inpt.drop(['is_ftp_login', 'ct_dst_ltm', 'ct_src_ltm'], axis = 1)"
   ]
  },
  {
   "cell_type": "code",
   "execution_count": 71,
   "metadata": {},
   "outputs": [
    {
     "name": "stdout",
     "output_type": "stream",
     "text": [
      "Train model\n",
      "              precision    recall  f1-score   support\n",
      "\n",
      "           0       0.98      0.96      0.97     14657\n",
      "           1       1.00      0.99      1.00     10395\n",
      "           2       0.67      0.91      0.77      9081\n",
      "           3       0.90      0.87      0.88      5807\n",
      "           4       0.58      0.42      0.49      4121\n",
      "           5       0.97      0.74      0.84      4185\n",
      "           6       0.90      0.60      0.72      1754\n",
      "\n",
      "    accuracy                           0.87     50000\n",
      "   macro avg       0.86      0.79      0.81     50000\n",
      "weighted avg       0.88      0.87      0.87     50000\n",
      "\n",
      "______________________________________________________________________\n",
      "Test model\n",
      "              precision    recall  f1-score   support\n",
      "\n",
      "           0       0.97      0.75      0.84     37000\n",
      "           1       1.00      0.97      0.98     18871\n",
      "           2       0.68      0.70      0.69     11132\n",
      "           3       0.30      0.58      0.40      6062\n",
      "           4       0.35      0.23      0.28      4133\n",
      "           5       0.68      0.69      0.69      4173\n",
      "           6       0.11      0.62      0.19       961\n",
      "\n",
      "    accuracy                           0.75     82332\n",
      "   macro avg       0.58      0.65      0.58     82332\n",
      "weighted avg       0.83      0.75      0.78     82332\n",
      "\n",
      "______________________________________________________________________\n"
     ]
    },
    {
     "data": {
      "text/html": [
       "<div>\n",
       "<style scoped>\n",
       "    .dataframe tbody tr th:only-of-type {\n",
       "        vertical-align: middle;\n",
       "    }\n",
       "\n",
       "    .dataframe tbody tr th {\n",
       "        vertical-align: top;\n",
       "    }\n",
       "\n",
       "    .dataframe thead th {\n",
       "        text-align: right;\n",
       "    }\n",
       "</style>\n",
       "<table border=\"1\" class=\"dataframe\">\n",
       "  <thead>\n",
       "    <tr style=\"text-align: right;\">\n",
       "      <th></th>\n",
       "      <th>imp</th>\n",
       "      <th>feature</th>\n",
       "    </tr>\n",
       "  </thead>\n",
       "  <tbody>\n",
       "    <tr>\n",
       "      <th>18</th>\n",
       "      <td>0.001186</td>\n",
       "      <td>dtcpb</td>\n",
       "    </tr>\n",
       "    <tr>\n",
       "      <th>12</th>\n",
       "      <td>0.001277</td>\n",
       "      <td>sinpkt</td>\n",
       "    </tr>\n",
       "    <tr>\n",
       "      <th>17</th>\n",
       "      <td>0.001354</td>\n",
       "      <td>stcpb</td>\n",
       "    </tr>\n",
       "    <tr>\n",
       "      <th>21</th>\n",
       "      <td>0.001395</td>\n",
       "      <td>ackdat</td>\n",
       "    </tr>\n",
       "    <tr>\n",
       "      <th>0</th>\n",
       "      <td>0.001488</td>\n",
       "      <td>dur</td>\n",
       "    </tr>\n",
       "    <tr>\n",
       "      <th>13</th>\n",
       "      <td>0.001501</td>\n",
       "      <td>dinpkt</td>\n",
       "    </tr>\n",
       "    <tr>\n",
       "      <th>36</th>\n",
       "      <td>0.001608</td>\n",
       "      <td>state</td>\n",
       "    </tr>\n",
       "    <tr>\n",
       "      <th>28</th>\n",
       "      <td>0.001750</td>\n",
       "      <td>ct_src_dport_ltm</td>\n",
       "    </tr>\n",
       "    <tr>\n",
       "      <th>15</th>\n",
       "      <td>0.001849</td>\n",
       "      <td>djit</td>\n",
       "    </tr>\n",
       "    <tr>\n",
       "      <th>9</th>\n",
       "      <td>0.002083</td>\n",
       "      <td>dload</td>\n",
       "    </tr>\n",
       "    <tr>\n",
       "      <th>14</th>\n",
       "      <td>0.002367</td>\n",
       "      <td>sjit</td>\n",
       "    </tr>\n",
       "    <tr>\n",
       "      <th>8</th>\n",
       "      <td>0.002455</td>\n",
       "      <td>sload</td>\n",
       "    </tr>\n",
       "    <tr>\n",
       "      <th>2</th>\n",
       "      <td>0.002499</td>\n",
       "      <td>dpkts</td>\n",
       "    </tr>\n",
       "    <tr>\n",
       "      <th>19</th>\n",
       "      <td>0.002508</td>\n",
       "      <td>tcprtt</td>\n",
       "    </tr>\n",
       "    <tr>\n",
       "      <th>5</th>\n",
       "      <td>0.002584</td>\n",
       "      <td>rate</td>\n",
       "    </tr>\n",
       "    <tr>\n",
       "      <th>24</th>\n",
       "      <td>0.002606</td>\n",
       "      <td>trans_depth</td>\n",
       "    </tr>\n",
       "    <tr>\n",
       "      <th>1</th>\n",
       "      <td>0.002908</td>\n",
       "      <td>spkts</td>\n",
       "    </tr>\n",
       "    <tr>\n",
       "      <th>26</th>\n",
       "      <td>0.003026</td>\n",
       "      <td>ct_srv_src</td>\n",
       "    </tr>\n",
       "    <tr>\n",
       "      <th>25</th>\n",
       "      <td>0.003082</td>\n",
       "      <td>response_body_len</td>\n",
       "    </tr>\n",
       "    <tr>\n",
       "      <th>27</th>\n",
       "      <td>0.003577</td>\n",
       "      <td>ct_state_ttl</td>\n",
       "    </tr>\n",
       "    <tr>\n",
       "      <th>11</th>\n",
       "      <td>0.004530</td>\n",
       "      <td>dloss</td>\n",
       "    </tr>\n",
       "    <tr>\n",
       "      <th>31</th>\n",
       "      <td>0.004536</td>\n",
       "      <td>ct_flw_http_mthd</td>\n",
       "    </tr>\n",
       "    <tr>\n",
       "      <th>20</th>\n",
       "      <td>0.007767</td>\n",
       "      <td>synack</td>\n",
       "    </tr>\n",
       "    <tr>\n",
       "      <th>30</th>\n",
       "      <td>0.008492</td>\n",
       "      <td>ct_dst_src_ltm</td>\n",
       "    </tr>\n",
       "    <tr>\n",
       "      <th>4</th>\n",
       "      <td>0.010298</td>\n",
       "      <td>dbytes</td>\n",
       "    </tr>\n",
       "    <tr>\n",
       "      <th>22</th>\n",
       "      <td>0.010342</td>\n",
       "      <td>smean</td>\n",
       "    </tr>\n",
       "    <tr>\n",
       "      <th>10</th>\n",
       "      <td>0.013135</td>\n",
       "      <td>sloss</td>\n",
       "    </tr>\n",
       "    <tr>\n",
       "      <th>23</th>\n",
       "      <td>0.016856</td>\n",
       "      <td>dmean</td>\n",
       "    </tr>\n",
       "    <tr>\n",
       "      <th>3</th>\n",
       "      <td>0.018564</td>\n",
       "      <td>sbytes</td>\n",
       "    </tr>\n",
       "    <tr>\n",
       "      <th>32</th>\n",
       "      <td>0.021084</td>\n",
       "      <td>ct_srv_dst</td>\n",
       "    </tr>\n",
       "    <tr>\n",
       "      <th>35</th>\n",
       "      <td>0.023065</td>\n",
       "      <td>service</td>\n",
       "    </tr>\n",
       "    <tr>\n",
       "      <th>34</th>\n",
       "      <td>0.025633</td>\n",
       "      <td>proto</td>\n",
       "    </tr>\n",
       "    <tr>\n",
       "      <th>33</th>\n",
       "      <td>0.061164</td>\n",
       "      <td>is_sm_ips_ports</td>\n",
       "    </tr>\n",
       "    <tr>\n",
       "      <th>16</th>\n",
       "      <td>0.082389</td>\n",
       "      <td>swin</td>\n",
       "    </tr>\n",
       "    <tr>\n",
       "      <th>29</th>\n",
       "      <td>0.168471</td>\n",
       "      <td>ct_dst_sport_ltm</td>\n",
       "    </tr>\n",
       "    <tr>\n",
       "      <th>6</th>\n",
       "      <td>0.196785</td>\n",
       "      <td>sttl</td>\n",
       "    </tr>\n",
       "    <tr>\n",
       "      <th>7</th>\n",
       "      <td>0.283784</td>\n",
       "      <td>dttl</td>\n",
       "    </tr>\n",
       "  </tbody>\n",
       "</table>\n",
       "</div>"
      ],
      "text/plain": [
       "         imp            feature\n",
       "18  0.001186              dtcpb\n",
       "12  0.001277             sinpkt\n",
       "17  0.001354              stcpb\n",
       "21  0.001395             ackdat\n",
       "0   0.001488                dur\n",
       "13  0.001501             dinpkt\n",
       "36  0.001608              state\n",
       "28  0.001750   ct_src_dport_ltm\n",
       "15  0.001849               djit\n",
       "9   0.002083              dload\n",
       "14  0.002367               sjit\n",
       "8   0.002455              sload\n",
       "2   0.002499              dpkts\n",
       "19  0.002508             tcprtt\n",
       "5   0.002584               rate\n",
       "24  0.002606        trans_depth\n",
       "1   0.002908              spkts\n",
       "26  0.003026         ct_srv_src\n",
       "25  0.003082  response_body_len\n",
       "27  0.003577       ct_state_ttl\n",
       "11  0.004530              dloss\n",
       "31  0.004536   ct_flw_http_mthd\n",
       "20  0.007767             synack\n",
       "30  0.008492     ct_dst_src_ltm\n",
       "4   0.010298             dbytes\n",
       "22  0.010342              smean\n",
       "10  0.013135              sloss\n",
       "23  0.016856              dmean\n",
       "3   0.018564             sbytes\n",
       "32  0.021084         ct_srv_dst\n",
       "35  0.023065            service\n",
       "34  0.025633              proto\n",
       "33  0.061164    is_sm_ips_ports\n",
       "16  0.082389               swin\n",
       "29  0.168471   ct_dst_sport_ltm\n",
       "6   0.196785               sttl\n",
       "7   0.283784               dttl"
      ]
     },
     "metadata": {},
     "output_type": "display_data"
    }
   ],
   "source": [
    "xgb = XGBClassifier(random_state = 0, nthread = 8)\n",
    "modl(xgb, inp, y, inpt, Ytest)"
   ]
  },
  {
   "cell_type": "code",
   "execution_count": 72,
   "metadata": {},
   "outputs": [],
   "source": [
    "inp = inp.drop(['dtcpb', 'sinpkt', 'stcpb'], axis = 1)\n",
    "inpt = inpt.drop(['dtcpb', 'sinpkt', 'stcpb'], axis = 1)"
   ]
  },
  {
   "cell_type": "code",
   "execution_count": 73,
   "metadata": {},
   "outputs": [
    {
     "name": "stdout",
     "output_type": "stream",
     "text": [
      "Train model\n",
      "              precision    recall  f1-score   support\n",
      "\n",
      "           0       0.98      0.96      0.97     14657\n",
      "           1       1.00      0.99      1.00     10395\n",
      "           2       0.67      0.91      0.77      9081\n",
      "           3       0.89      0.86      0.87      5807\n",
      "           4       0.59      0.42      0.49      4121\n",
      "           5       0.97      0.73      0.84      4185\n",
      "           6       0.91      0.60      0.72      1754\n",
      "\n",
      "    accuracy                           0.87     50000\n",
      "   macro avg       0.86      0.78      0.81     50000\n",
      "weighted avg       0.88      0.87      0.87     50000\n",
      "\n",
      "______________________________________________________________________\n",
      "Test model\n",
      "              precision    recall  f1-score   support\n",
      "\n",
      "           0       0.97      0.75      0.84     37000\n",
      "           1       1.00      0.97      0.98     18871\n",
      "           2       0.69      0.69      0.69     11132\n",
      "           3       0.30      0.58      0.40      6062\n",
      "           4       0.34      0.26      0.29      4133\n",
      "           5       0.66      0.69      0.68      4173\n",
      "           6       0.11      0.62      0.19       961\n",
      "\n",
      "    accuracy                           0.75     82332\n",
      "   macro avg       0.58      0.65      0.58     82332\n",
      "weighted avg       0.83      0.75      0.78     82332\n",
      "\n",
      "______________________________________________________________________\n"
     ]
    },
    {
     "data": {
      "text/html": [
       "<div>\n",
       "<style scoped>\n",
       "    .dataframe tbody tr th:only-of-type {\n",
       "        vertical-align: middle;\n",
       "    }\n",
       "\n",
       "    .dataframe tbody tr th {\n",
       "        vertical-align: top;\n",
       "    }\n",
       "\n",
       "    .dataframe thead th {\n",
       "        text-align: right;\n",
       "    }\n",
       "</style>\n",
       "<table border=\"1\" class=\"dataframe\">\n",
       "  <thead>\n",
       "    <tr style=\"text-align: right;\">\n",
       "      <th></th>\n",
       "      <th>imp</th>\n",
       "      <th>feature</th>\n",
       "    </tr>\n",
       "  </thead>\n",
       "  <tbody>\n",
       "    <tr>\n",
       "      <th>18</th>\n",
       "      <td>0.001397</td>\n",
       "      <td>ackdat</td>\n",
       "    </tr>\n",
       "    <tr>\n",
       "      <th>0</th>\n",
       "      <td>0.001531</td>\n",
       "      <td>dur</td>\n",
       "    </tr>\n",
       "    <tr>\n",
       "      <th>12</th>\n",
       "      <td>0.001694</td>\n",
       "      <td>dinpkt</td>\n",
       "    </tr>\n",
       "    <tr>\n",
       "      <th>14</th>\n",
       "      <td>0.001786</td>\n",
       "      <td>djit</td>\n",
       "    </tr>\n",
       "    <tr>\n",
       "      <th>25</th>\n",
       "      <td>0.001787</td>\n",
       "      <td>ct_src_dport_ltm</td>\n",
       "    </tr>\n",
       "    <tr>\n",
       "      <th>33</th>\n",
       "      <td>0.001964</td>\n",
       "      <td>state</td>\n",
       "    </tr>\n",
       "    <tr>\n",
       "      <th>13</th>\n",
       "      <td>0.002281</td>\n",
       "      <td>sjit</td>\n",
       "    </tr>\n",
       "    <tr>\n",
       "      <th>9</th>\n",
       "      <td>0.002288</td>\n",
       "      <td>dload</td>\n",
       "    </tr>\n",
       "    <tr>\n",
       "      <th>21</th>\n",
       "      <td>0.002313</td>\n",
       "      <td>trans_depth</td>\n",
       "    </tr>\n",
       "    <tr>\n",
       "      <th>5</th>\n",
       "      <td>0.002396</td>\n",
       "      <td>rate</td>\n",
       "    </tr>\n",
       "    <tr>\n",
       "      <th>8</th>\n",
       "      <td>0.002411</td>\n",
       "      <td>sload</td>\n",
       "    </tr>\n",
       "    <tr>\n",
       "      <th>2</th>\n",
       "      <td>0.002435</td>\n",
       "      <td>dpkts</td>\n",
       "    </tr>\n",
       "    <tr>\n",
       "      <th>16</th>\n",
       "      <td>0.002455</td>\n",
       "      <td>tcprtt</td>\n",
       "    </tr>\n",
       "    <tr>\n",
       "      <th>1</th>\n",
       "      <td>0.003012</td>\n",
       "      <td>spkts</td>\n",
       "    </tr>\n",
       "    <tr>\n",
       "      <th>22</th>\n",
       "      <td>0.003078</td>\n",
       "      <td>response_body_len</td>\n",
       "    </tr>\n",
       "    <tr>\n",
       "      <th>23</th>\n",
       "      <td>0.003176</td>\n",
       "      <td>ct_srv_src</td>\n",
       "    </tr>\n",
       "    <tr>\n",
       "      <th>24</th>\n",
       "      <td>0.003447</td>\n",
       "      <td>ct_state_ttl</td>\n",
       "    </tr>\n",
       "    <tr>\n",
       "      <th>11</th>\n",
       "      <td>0.004780</td>\n",
       "      <td>dloss</td>\n",
       "    </tr>\n",
       "    <tr>\n",
       "      <th>28</th>\n",
       "      <td>0.005005</td>\n",
       "      <td>ct_flw_http_mthd</td>\n",
       "    </tr>\n",
       "    <tr>\n",
       "      <th>17</th>\n",
       "      <td>0.007350</td>\n",
       "      <td>synack</td>\n",
       "    </tr>\n",
       "    <tr>\n",
       "      <th>27</th>\n",
       "      <td>0.008386</td>\n",
       "      <td>ct_dst_src_ltm</td>\n",
       "    </tr>\n",
       "    <tr>\n",
       "      <th>4</th>\n",
       "      <td>0.010135</td>\n",
       "      <td>dbytes</td>\n",
       "    </tr>\n",
       "    <tr>\n",
       "      <th>19</th>\n",
       "      <td>0.010183</td>\n",
       "      <td>smean</td>\n",
       "    </tr>\n",
       "    <tr>\n",
       "      <th>10</th>\n",
       "      <td>0.013580</td>\n",
       "      <td>sloss</td>\n",
       "    </tr>\n",
       "    <tr>\n",
       "      <th>20</th>\n",
       "      <td>0.017069</td>\n",
       "      <td>dmean</td>\n",
       "    </tr>\n",
       "    <tr>\n",
       "      <th>3</th>\n",
       "      <td>0.019608</td>\n",
       "      <td>sbytes</td>\n",
       "    </tr>\n",
       "    <tr>\n",
       "      <th>29</th>\n",
       "      <td>0.023340</td>\n",
       "      <td>ct_srv_dst</td>\n",
       "    </tr>\n",
       "    <tr>\n",
       "      <th>32</th>\n",
       "      <td>0.023765</td>\n",
       "      <td>service</td>\n",
       "    </tr>\n",
       "    <tr>\n",
       "      <th>31</th>\n",
       "      <td>0.027699</td>\n",
       "      <td>proto</td>\n",
       "    </tr>\n",
       "    <tr>\n",
       "      <th>15</th>\n",
       "      <td>0.045964</td>\n",
       "      <td>swin</td>\n",
       "    </tr>\n",
       "    <tr>\n",
       "      <th>30</th>\n",
       "      <td>0.064880</td>\n",
       "      <td>is_sm_ips_ports</td>\n",
       "    </tr>\n",
       "    <tr>\n",
       "      <th>6</th>\n",
       "      <td>0.191847</td>\n",
       "      <td>sttl</td>\n",
       "    </tr>\n",
       "    <tr>\n",
       "      <th>26</th>\n",
       "      <td>0.193233</td>\n",
       "      <td>ct_dst_sport_ltm</td>\n",
       "    </tr>\n",
       "    <tr>\n",
       "      <th>7</th>\n",
       "      <td>0.293724</td>\n",
       "      <td>dttl</td>\n",
       "    </tr>\n",
       "  </tbody>\n",
       "</table>\n",
       "</div>"
      ],
      "text/plain": [
       "         imp            feature\n",
       "18  0.001397             ackdat\n",
       "0   0.001531                dur\n",
       "12  0.001694             dinpkt\n",
       "14  0.001786               djit\n",
       "25  0.001787   ct_src_dport_ltm\n",
       "33  0.001964              state\n",
       "13  0.002281               sjit\n",
       "9   0.002288              dload\n",
       "21  0.002313        trans_depth\n",
       "5   0.002396               rate\n",
       "8   0.002411              sload\n",
       "2   0.002435              dpkts\n",
       "16  0.002455             tcprtt\n",
       "1   0.003012              spkts\n",
       "22  0.003078  response_body_len\n",
       "23  0.003176         ct_srv_src\n",
       "24  0.003447       ct_state_ttl\n",
       "11  0.004780              dloss\n",
       "28  0.005005   ct_flw_http_mthd\n",
       "17  0.007350             synack\n",
       "27  0.008386     ct_dst_src_ltm\n",
       "4   0.010135             dbytes\n",
       "19  0.010183              smean\n",
       "10  0.013580              sloss\n",
       "20  0.017069              dmean\n",
       "3   0.019608             sbytes\n",
       "29  0.023340         ct_srv_dst\n",
       "32  0.023765            service\n",
       "31  0.027699              proto\n",
       "15  0.045964               swin\n",
       "30  0.064880    is_sm_ips_ports\n",
       "6   0.191847               sttl\n",
       "26  0.193233   ct_dst_sport_ltm\n",
       "7   0.293724               dttl"
      ]
     },
     "metadata": {},
     "output_type": "display_data"
    }
   ],
   "source": [
    "xgb = XGBClassifier(random_state = 0, nthread = 8)\n",
    "modl(xgb, inp, y, inpt, Ytest)"
   ]
  },
  {
   "cell_type": "code",
   "execution_count": 74,
   "metadata": {},
   "outputs": [],
   "source": [
    "inp = inp.drop(['ackdat', 'dur', 'dinpkt'], axis = 1)\n",
    "inpt = inpt.drop(['ackdat', 'dur', 'dinpkt'], axis = 1)"
   ]
  },
  {
   "cell_type": "code",
   "execution_count": 75,
   "metadata": {},
   "outputs": [
    {
     "name": "stdout",
     "output_type": "stream",
     "text": [
      "Train model\n",
      "              precision    recall  f1-score   support\n",
      "\n",
      "           0       0.98      0.96      0.97     14657\n",
      "           1       1.00      0.99      1.00     10395\n",
      "           2       0.66      0.92      0.77      9081\n",
      "           3       0.89      0.86      0.87      5807\n",
      "           4       0.58      0.40      0.47      4121\n",
      "           5       0.97      0.74      0.84      4185\n",
      "           6       0.91      0.59      0.72      1754\n",
      "\n",
      "    accuracy                           0.87     50000\n",
      "   macro avg       0.86      0.78      0.81     50000\n",
      "weighted avg       0.88      0.87      0.87     50000\n",
      "\n",
      "______________________________________________________________________\n",
      "Test model\n",
      "              precision    recall  f1-score   support\n",
      "\n",
      "           0       0.96      0.75      0.84     37000\n",
      "           1       1.00      0.97      0.98     18871\n",
      "           2       0.69      0.70      0.70     11132\n",
      "           3       0.30      0.56      0.39      6062\n",
      "           4       0.37      0.23      0.28      4133\n",
      "           5       0.64      0.70      0.67      4173\n",
      "           6       0.12      0.69      0.20       961\n",
      "\n",
      "    accuracy                           0.75     82332\n",
      "   macro avg       0.58      0.66      0.58     82332\n",
      "weighted avg       0.83      0.75      0.78     82332\n",
      "\n",
      "______________________________________________________________________\n"
     ]
    },
    {
     "data": {
      "text/html": [
       "<div>\n",
       "<style scoped>\n",
       "    .dataframe tbody tr th:only-of-type {\n",
       "        vertical-align: middle;\n",
       "    }\n",
       "\n",
       "    .dataframe tbody tr th {\n",
       "        vertical-align: top;\n",
       "    }\n",
       "\n",
       "    .dataframe thead th {\n",
       "        text-align: right;\n",
       "    }\n",
       "</style>\n",
       "<table border=\"1\" class=\"dataframe\">\n",
       "  <thead>\n",
       "    <tr style=\"text-align: right;\">\n",
       "      <th></th>\n",
       "      <th>imp</th>\n",
       "      <th>feature</th>\n",
       "    </tr>\n",
       "  </thead>\n",
       "  <tbody>\n",
       "    <tr>\n",
       "      <th>22</th>\n",
       "      <td>0.001593</td>\n",
       "      <td>ct_src_dport_ltm</td>\n",
       "    </tr>\n",
       "    <tr>\n",
       "      <th>4</th>\n",
       "      <td>0.001750</td>\n",
       "      <td>rate</td>\n",
       "    </tr>\n",
       "    <tr>\n",
       "      <th>30</th>\n",
       "      <td>0.001843</td>\n",
       "      <td>state</td>\n",
       "    </tr>\n",
       "    <tr>\n",
       "      <th>12</th>\n",
       "      <td>0.001865</td>\n",
       "      <td>djit</td>\n",
       "    </tr>\n",
       "    <tr>\n",
       "      <th>11</th>\n",
       "      <td>0.001971</td>\n",
       "      <td>sjit</td>\n",
       "    </tr>\n",
       "    <tr>\n",
       "      <th>8</th>\n",
       "      <td>0.002073</td>\n",
       "      <td>dload</td>\n",
       "    </tr>\n",
       "    <tr>\n",
       "      <th>14</th>\n",
       "      <td>0.002193</td>\n",
       "      <td>tcprtt</td>\n",
       "    </tr>\n",
       "    <tr>\n",
       "      <th>7</th>\n",
       "      <td>0.002291</td>\n",
       "      <td>sload</td>\n",
       "    </tr>\n",
       "    <tr>\n",
       "      <th>18</th>\n",
       "      <td>0.002519</td>\n",
       "      <td>trans_depth</td>\n",
       "    </tr>\n",
       "    <tr>\n",
       "      <th>0</th>\n",
       "      <td>0.002606</td>\n",
       "      <td>spkts</td>\n",
       "    </tr>\n",
       "    <tr>\n",
       "      <th>1</th>\n",
       "      <td>0.002713</td>\n",
       "      <td>dpkts</td>\n",
       "    </tr>\n",
       "    <tr>\n",
       "      <th>19</th>\n",
       "      <td>0.003029</td>\n",
       "      <td>response_body_len</td>\n",
       "    </tr>\n",
       "    <tr>\n",
       "      <th>20</th>\n",
       "      <td>0.003226</td>\n",
       "      <td>ct_srv_src</td>\n",
       "    </tr>\n",
       "    <tr>\n",
       "      <th>21</th>\n",
       "      <td>0.003490</td>\n",
       "      <td>ct_state_ttl</td>\n",
       "    </tr>\n",
       "    <tr>\n",
       "      <th>10</th>\n",
       "      <td>0.004154</td>\n",
       "      <td>dloss</td>\n",
       "    </tr>\n",
       "    <tr>\n",
       "      <th>25</th>\n",
       "      <td>0.004589</td>\n",
       "      <td>ct_flw_http_mthd</td>\n",
       "    </tr>\n",
       "    <tr>\n",
       "      <th>15</th>\n",
       "      <td>0.006004</td>\n",
       "      <td>synack</td>\n",
       "    </tr>\n",
       "    <tr>\n",
       "      <th>24</th>\n",
       "      <td>0.008734</td>\n",
       "      <td>ct_dst_src_ltm</td>\n",
       "    </tr>\n",
       "    <tr>\n",
       "      <th>3</th>\n",
       "      <td>0.009708</td>\n",
       "      <td>dbytes</td>\n",
       "    </tr>\n",
       "    <tr>\n",
       "      <th>16</th>\n",
       "      <td>0.009750</td>\n",
       "      <td>smean</td>\n",
       "    </tr>\n",
       "    <tr>\n",
       "      <th>9</th>\n",
       "      <td>0.011626</td>\n",
       "      <td>sloss</td>\n",
       "    </tr>\n",
       "    <tr>\n",
       "      <th>17</th>\n",
       "      <td>0.016224</td>\n",
       "      <td>dmean</td>\n",
       "    </tr>\n",
       "    <tr>\n",
       "      <th>2</th>\n",
       "      <td>0.017706</td>\n",
       "      <td>sbytes</td>\n",
       "    </tr>\n",
       "    <tr>\n",
       "      <th>26</th>\n",
       "      <td>0.021535</td>\n",
       "      <td>ct_srv_dst</td>\n",
       "    </tr>\n",
       "    <tr>\n",
       "      <th>29</th>\n",
       "      <td>0.023414</td>\n",
       "      <td>service</td>\n",
       "    </tr>\n",
       "    <tr>\n",
       "      <th>28</th>\n",
       "      <td>0.026347</td>\n",
       "      <td>proto</td>\n",
       "    </tr>\n",
       "    <tr>\n",
       "      <th>27</th>\n",
       "      <td>0.070847</td>\n",
       "      <td>is_sm_ips_ports</td>\n",
       "    </tr>\n",
       "    <tr>\n",
       "      <th>13</th>\n",
       "      <td>0.091102</td>\n",
       "      <td>swin</td>\n",
       "    </tr>\n",
       "    <tr>\n",
       "      <th>23</th>\n",
       "      <td>0.174444</td>\n",
       "      <td>ct_dst_sport_ltm</td>\n",
       "    </tr>\n",
       "    <tr>\n",
       "      <th>5</th>\n",
       "      <td>0.195711</td>\n",
       "      <td>sttl</td>\n",
       "    </tr>\n",
       "    <tr>\n",
       "      <th>6</th>\n",
       "      <td>0.274942</td>\n",
       "      <td>dttl</td>\n",
       "    </tr>\n",
       "  </tbody>\n",
       "</table>\n",
       "</div>"
      ],
      "text/plain": [
       "         imp            feature\n",
       "22  0.001593   ct_src_dport_ltm\n",
       "4   0.001750               rate\n",
       "30  0.001843              state\n",
       "12  0.001865               djit\n",
       "11  0.001971               sjit\n",
       "8   0.002073              dload\n",
       "14  0.002193             tcprtt\n",
       "7   0.002291              sload\n",
       "18  0.002519        trans_depth\n",
       "0   0.002606              spkts\n",
       "1   0.002713              dpkts\n",
       "19  0.003029  response_body_len\n",
       "20  0.003226         ct_srv_src\n",
       "21  0.003490       ct_state_ttl\n",
       "10  0.004154              dloss\n",
       "25  0.004589   ct_flw_http_mthd\n",
       "15  0.006004             synack\n",
       "24  0.008734     ct_dst_src_ltm\n",
       "3   0.009708             dbytes\n",
       "16  0.009750              smean\n",
       "9   0.011626              sloss\n",
       "17  0.016224              dmean\n",
       "2   0.017706             sbytes\n",
       "26  0.021535         ct_srv_dst\n",
       "29  0.023414            service\n",
       "28  0.026347              proto\n",
       "27  0.070847    is_sm_ips_ports\n",
       "13  0.091102               swin\n",
       "23  0.174444   ct_dst_sport_ltm\n",
       "5   0.195711               sttl\n",
       "6   0.274942               dttl"
      ]
     },
     "metadata": {},
     "output_type": "display_data"
    }
   ],
   "source": [
    "xgb = XGBClassifier(random_state = 0, nthread = 8)\n",
    "modl(xgb, inp, y, inpt, Ytest)"
   ]
  },
  {
   "cell_type": "code",
   "execution_count": 76,
   "metadata": {},
   "outputs": [],
   "source": [
    "inp = inp.drop(['ct_src_dport_ltm', 'rate', 'state', 'djit', 'sjit',\n",
    "               'dload', 'tcprtt', 'sload'], axis = 1)\n",
    "inpt = inpt.drop(['ct_src_dport_ltm', 'rate', 'state', 'djit', 'sjit',\n",
    "                 'dload', 'tcprtt', 'sload'], axis = 1)"
   ]
  },
  {
   "cell_type": "code",
   "execution_count": 77,
   "metadata": {},
   "outputs": [
    {
     "name": "stdout",
     "output_type": "stream",
     "text": [
      "Train model\n",
      "              precision    recall  f1-score   support\n",
      "\n",
      "           0       0.97      0.94      0.96     14657\n",
      "           1       1.00      0.99      1.00     10395\n",
      "           2       0.65      0.90      0.76      9081\n",
      "           3       0.86      0.84      0.85      5807\n",
      "           4       0.55      0.38      0.45      4121\n",
      "           5       0.95      0.71      0.81      4185\n",
      "           6       0.88      0.58      0.70      1754\n",
      "\n",
      "    accuracy                           0.86     50000\n",
      "   macro avg       0.84      0.76      0.79     50000\n",
      "weighted avg       0.87      0.86      0.85     50000\n",
      "\n",
      "______________________________________________________________________\n",
      "Test model\n",
      "              precision    recall  f1-score   support\n",
      "\n",
      "           0       0.96      0.74      0.84     37000\n",
      "           1       0.99      0.97      0.98     18871\n",
      "           2       0.69      0.71      0.70     11132\n",
      "           3       0.30      0.56      0.39      6062\n",
      "           4       0.35      0.20      0.26      4133\n",
      "           5       0.63      0.70      0.66      4173\n",
      "           6       0.11      0.65      0.19       961\n",
      "\n",
      "    accuracy                           0.75     82332\n",
      "   macro avg       0.58      0.65      0.57     82332\n",
      "weighted avg       0.83      0.75      0.77     82332\n",
      "\n",
      "______________________________________________________________________\n"
     ]
    },
    {
     "data": {
      "text/html": [
       "<div>\n",
       "<style scoped>\n",
       "    .dataframe tbody tr th:only-of-type {\n",
       "        vertical-align: middle;\n",
       "    }\n",
       "\n",
       "    .dataframe tbody tr th {\n",
       "        vertical-align: top;\n",
       "    }\n",
       "\n",
       "    .dataframe thead th {\n",
       "        text-align: right;\n",
       "    }\n",
       "</style>\n",
       "<table border=\"1\" class=\"dataframe\">\n",
       "  <thead>\n",
       "    <tr style=\"text-align: right;\">\n",
       "      <th></th>\n",
       "      <th>imp</th>\n",
       "      <th>feature</th>\n",
       "    </tr>\n",
       "  </thead>\n",
       "  <tbody>\n",
       "    <tr>\n",
       "      <th>0</th>\n",
       "      <td>0.002648</td>\n",
       "      <td>spkts</td>\n",
       "    </tr>\n",
       "    <tr>\n",
       "      <th>12</th>\n",
       "      <td>0.002770</td>\n",
       "      <td>trans_depth</td>\n",
       "    </tr>\n",
       "    <tr>\n",
       "      <th>13</th>\n",
       "      <td>0.003333</td>\n",
       "      <td>response_body_len</td>\n",
       "    </tr>\n",
       "    <tr>\n",
       "      <th>14</th>\n",
       "      <td>0.004094</td>\n",
       "      <td>ct_srv_src</td>\n",
       "    </tr>\n",
       "    <tr>\n",
       "      <th>15</th>\n",
       "      <td>0.005342</td>\n",
       "      <td>ct_state_ttl</td>\n",
       "    </tr>\n",
       "    <tr>\n",
       "      <th>9</th>\n",
       "      <td>0.005681</td>\n",
       "      <td>synack</td>\n",
       "    </tr>\n",
       "    <tr>\n",
       "      <th>7</th>\n",
       "      <td>0.005917</td>\n",
       "      <td>dloss</td>\n",
       "    </tr>\n",
       "    <tr>\n",
       "      <th>1</th>\n",
       "      <td>0.006040</td>\n",
       "      <td>dpkts</td>\n",
       "    </tr>\n",
       "    <tr>\n",
       "      <th>18</th>\n",
       "      <td>0.006762</td>\n",
       "      <td>ct_flw_http_mthd</td>\n",
       "    </tr>\n",
       "    <tr>\n",
       "      <th>3</th>\n",
       "      <td>0.009532</td>\n",
       "      <td>dbytes</td>\n",
       "    </tr>\n",
       "    <tr>\n",
       "      <th>17</th>\n",
       "      <td>0.009733</td>\n",
       "      <td>ct_dst_src_ltm</td>\n",
       "    </tr>\n",
       "    <tr>\n",
       "      <th>10</th>\n",
       "      <td>0.010655</td>\n",
       "      <td>smean</td>\n",
       "    </tr>\n",
       "    <tr>\n",
       "      <th>6</th>\n",
       "      <td>0.014388</td>\n",
       "      <td>sloss</td>\n",
       "    </tr>\n",
       "    <tr>\n",
       "      <th>11</th>\n",
       "      <td>0.015964</td>\n",
       "      <td>dmean</td>\n",
       "    </tr>\n",
       "    <tr>\n",
       "      <th>2</th>\n",
       "      <td>0.019267</td>\n",
       "      <td>sbytes</td>\n",
       "    </tr>\n",
       "    <tr>\n",
       "      <th>8</th>\n",
       "      <td>0.021557</td>\n",
       "      <td>swin</td>\n",
       "    </tr>\n",
       "    <tr>\n",
       "      <th>19</th>\n",
       "      <td>0.026227</td>\n",
       "      <td>ct_srv_dst</td>\n",
       "    </tr>\n",
       "    <tr>\n",
       "      <th>22</th>\n",
       "      <td>0.029413</td>\n",
       "      <td>service</td>\n",
       "    </tr>\n",
       "    <tr>\n",
       "      <th>21</th>\n",
       "      <td>0.036016</td>\n",
       "      <td>proto</td>\n",
       "    </tr>\n",
       "    <tr>\n",
       "      <th>16</th>\n",
       "      <td>0.109764</td>\n",
       "      <td>ct_dst_sport_ltm</td>\n",
       "    </tr>\n",
       "    <tr>\n",
       "      <th>20</th>\n",
       "      <td>0.125640</td>\n",
       "      <td>is_sm_ips_ports</td>\n",
       "    </tr>\n",
       "    <tr>\n",
       "      <th>4</th>\n",
       "      <td>0.250752</td>\n",
       "      <td>sttl</td>\n",
       "    </tr>\n",
       "    <tr>\n",
       "      <th>5</th>\n",
       "      <td>0.278507</td>\n",
       "      <td>dttl</td>\n",
       "    </tr>\n",
       "  </tbody>\n",
       "</table>\n",
       "</div>"
      ],
      "text/plain": [
       "         imp            feature\n",
       "0   0.002648              spkts\n",
       "12  0.002770        trans_depth\n",
       "13  0.003333  response_body_len\n",
       "14  0.004094         ct_srv_src\n",
       "15  0.005342       ct_state_ttl\n",
       "9   0.005681             synack\n",
       "7   0.005917              dloss\n",
       "1   0.006040              dpkts\n",
       "18  0.006762   ct_flw_http_mthd\n",
       "3   0.009532             dbytes\n",
       "17  0.009733     ct_dst_src_ltm\n",
       "10  0.010655              smean\n",
       "6   0.014388              sloss\n",
       "11  0.015964              dmean\n",
       "2   0.019267             sbytes\n",
       "8   0.021557               swin\n",
       "19  0.026227         ct_srv_dst\n",
       "22  0.029413            service\n",
       "21  0.036016              proto\n",
       "16  0.109764   ct_dst_sport_ltm\n",
       "20  0.125640    is_sm_ips_ports\n",
       "4   0.250752               sttl\n",
       "5   0.278507               dttl"
      ]
     },
     "metadata": {},
     "output_type": "display_data"
    }
   ],
   "source": [
    "xgb = XGBClassifier(random_state = 0, nthread = 8)\n",
    "modl(xgb, inp, y, inpt, Ytest)"
   ]
  },
  {
   "cell_type": "raw",
   "metadata": {},
   "source": [
    "'ct_state_ttl', 'synack', 'dloss', 'dpkts', 'ct_flw_http_mthd', 'dbytes', 'ct_dst_src_ltm',\n",
    "'smean', 'sloss', 'dmean', 'sbytes', 'swin', 'ct_srv_dst', 'service', 'proto',\n",
    "'ct_dst_sport_ltm', 'is_sm_ips_ports', 'sttl', 'dttl'"
   ]
  },
  {
   "cell_type": "code",
   "execution_count": 78,
   "metadata": {},
   "outputs": [
    {
     "data": {
      "text/plain": [
       "(50000, 23)"
      ]
     },
     "execution_count": 78,
     "metadata": {},
     "output_type": "execute_result"
    }
   ],
   "source": [
    "inp.shape"
   ]
  },
  {
   "cell_type": "code",
   "execution_count": 39,
   "metadata": {},
   "outputs": [
    {
     "data": {
      "text/plain": [
       "(50000, 43)"
      ]
     },
     "execution_count": 39,
     "metadata": {},
     "output_type": "execute_result"
    }
   ],
   "source": [
    "X.shape"
   ]
  },
  {
   "cell_type": "code",
   "execution_count": 37,
   "metadata": {},
   "outputs": [],
   "source": [
    "kf = KFold(shuffle = True, n_splits = 3, random_state = 0)"
   ]
  },
  {
   "cell_type": "code",
   "execution_count": null,
   "metadata": {},
   "outputs": [
    {
     "name": "stdout",
     "output_type": "stream",
     "text": [
      "Features : 43\n"
     ]
    },
    {
     "name": "stderr",
     "output_type": "stream",
     "text": [
      "\n",
      "STOPPING EARLY DUE TO KEYBOARD INTERRUPT..."
     ]
    },
    {
     "name": "stdout",
     "output_type": "stream",
     "text": [
      "Train model\n",
      "              precision    recall  f1-score   support\n",
      "\n",
      "           0       1.00      1.00      1.00     14657\n",
      "           1       1.00      0.98      0.99     10395\n",
      "           2       0.51      0.93      0.66      9081\n",
      "           3       0.79      0.70      0.74      5807\n",
      "           4       0.69      0.05      0.09      4121\n",
      "           5       0.97      0.56      0.71      4185\n",
      "           6       0.63      0.27      0.38      1754\n",
      "\n",
      "    accuracy                           0.81     50000\n",
      "   macro avg       0.80      0.64      0.65     50000\n",
      "weighted avg       0.85      0.81      0.78     50000\n",
      "\n",
      "______________________________________________________________________\n",
      "Test model\n",
      "              precision    recall  f1-score   support\n",
      "\n",
      "           0       1.00      1.00      1.00     37000\n",
      "           1       1.00      0.96      0.98     18871\n",
      "           2       0.53      0.88      0.66     11132\n",
      "           3       0.67      0.57      0.62      6062\n",
      "           4       0.36      0.03      0.05      4133\n",
      "           5       0.95      0.62      0.75      4173\n",
      "           6       0.34      0.20      0.25       961\n",
      "\n",
      "    accuracy                           0.87     82332\n",
      "   macro avg       0.69      0.61      0.62     82332\n",
      "weighted avg       0.87      0.87      0.85     82332\n",
      "\n",
      "######################################################################\n",
      "Features : 42\n"
     ]
    }
   ],
   "source": [
    "for i in range(43, 20, -1):\n",
    "    print('Features :', i)\n",
    "    xgb = XGBClassifier(random_state = 0)\n",
    "    back_mod = sfs(estimator = xgb, k_features = i, forward = 'False',\n",
    "                   cv = kf, scoring = 'f1_weighted', n_jobs = -1)\n",
    "    back_mod.fit(X,y)\n",
    "    feat_back = list(back_mod.k_feature_names_)\n",
    "    modl(xgb, X[feat_back], y, Xtest[feat_back], Ytest)\n",
    "    print('#'*70)"
   ]
  },
  {
   "cell_type": "code",
   "execution_count": 38,
   "metadata": {},
   "outputs": [
    {
     "name": "stderr",
     "output_type": "stream",
     "text": [
      "[Parallel(n_jobs=-1)]: Using backend LokyBackend with 8 concurrent workers.\n",
      "[Parallel(n_jobs=-1)]: Done  25 tasks      | elapsed:  5.6min\n",
      "[Parallel(n_jobs=-1)]: Done  43 out of  43 | elapsed:  7.8min finished\n",
      "\n",
      "[2020-12-08 09:35:49] Features: 1/42 -- score: 0.7012648088497054[Parallel(n_jobs=-1)]: Using backend LokyBackend with 8 concurrent workers.\n",
      "[Parallel(n_jobs=-1)]: Done  25 tasks      | elapsed: 112.8min\n",
      "[Parallel(n_jobs=-1)]: Done  42 out of  42 | elapsed: 114.6min finished\n",
      "\n",
      "[2020-12-08 11:30:25] Features: 2/42 -- score: 0.7711453644455807[Parallel(n_jobs=-1)]: Using backend LokyBackend with 8 concurrent workers.\n",
      "[Parallel(n_jobs=-1)]: Done  25 tasks      | elapsed:  4.6min\n",
      "[Parallel(n_jobs=-1)]: Done  41 out of  41 | elapsed:  6.2min finished\n",
      "\n",
      "[2020-12-08 11:36:37] Features: 3/42 -- score: 0.8137314319931509[Parallel(n_jobs=-1)]: Using backend LokyBackend with 8 concurrent workers.\n",
      "[Parallel(n_jobs=-1)]: Done  25 tasks      | elapsed:  4.6min\n",
      "[Parallel(n_jobs=-1)]: Done  40 out of  40 | elapsed:  6.0min finished\n",
      "\n",
      "[2020-12-08 11:42:36] Features: 4/42 -- score: 0.8321025417352198[Parallel(n_jobs=-1)]: Using backend LokyBackend with 8 concurrent workers.\n",
      "[Parallel(n_jobs=-1)]: Done  39 out of  39 | elapsed:  7.5min finished\n",
      "\n",
      "[2020-12-08 11:50:07] Features: 5/42 -- score: 0.8402049975793293[Parallel(n_jobs=-1)]: Using backend LokyBackend with 8 concurrent workers.\n",
      "[Parallel(n_jobs=-1)]: Done  38 out of  38 | elapsed:  8.9min finished\n",
      "\n",
      "[2020-12-08 11:59:00] Features: 6/42 -- score: 0.8451540987993598[Parallel(n_jobs=-1)]: Using backend LokyBackend with 8 concurrent workers.\n",
      "[Parallel(n_jobs=-1)]: Done  37 out of  37 | elapsed:  8.5min finished\n",
      "\n",
      "[2020-12-08 12:07:29] Features: 7/42 -- score: 0.8505396666813972[Parallel(n_jobs=-1)]: Using backend LokyBackend with 8 concurrent workers.\n",
      "[Parallel(n_jobs=-1)]: Done  36 out of  36 | elapsed:  6.6min finished\n",
      "\n",
      "[2020-12-08 12:14:05] Features: 8/42 -- score: 0.8536042735159066[Parallel(n_jobs=-1)]: Using backend LokyBackend with 8 concurrent workers.\n",
      "[Parallel(n_jobs=-1)]: Done  35 out of  35 | elapsed:  9.1min finished\n",
      "\n",
      "[2020-12-08 12:23:09] Features: 9/42 -- score: 0.8550755839665515[Parallel(n_jobs=-1)]: Using backend LokyBackend with 8 concurrent workers.\n",
      "[Parallel(n_jobs=-1)]: Done  34 out of  34 | elapsed:  9.4min finished\n",
      "\n",
      "[2020-12-08 12:32:35] Features: 10/42 -- score: 0.8565679018773649[Parallel(n_jobs=-1)]: Using backend LokyBackend with 8 concurrent workers.\n",
      "[Parallel(n_jobs=-1)]: Done  33 out of  33 | elapsed:  9.7min finished\n",
      "\n",
      "[2020-12-08 12:42:16] Features: 11/42 -- score: 0.8571734082693127[Parallel(n_jobs=-1)]: Using backend LokyBackend with 8 concurrent workers.\n",
      "[Parallel(n_jobs=-1)]: Done  32 out of  32 | elapsed:  9.7min finished\n",
      "\n",
      "[2020-12-08 12:51:57] Features: 12/42 -- score: 0.8576449645430602[Parallel(n_jobs=-1)]: Using backend LokyBackend with 8 concurrent workers.\n",
      "[Parallel(n_jobs=-1)]: Done  31 out of  31 | elapsed: 10.5min finished\n",
      "\n",
      "[2020-12-08 13:02:25] Features: 13/42 -- score: 0.8580735949918775[Parallel(n_jobs=-1)]: Using backend LokyBackend with 8 concurrent workers.\n",
      "[Parallel(n_jobs=-1)]: Done  30 out of  30 | elapsed: 10.9min finished\n",
      "\n",
      "[2020-12-08 13:13:22] Features: 14/42 -- score: 0.8580735949918775[Parallel(n_jobs=-1)]: Using backend LokyBackend with 8 concurrent workers.\n",
      "[Parallel(n_jobs=-1)]: Done  29 out of  29 | elapsed: 11.0min remaining:    0.0s\n",
      "[Parallel(n_jobs=-1)]: Done  29 out of  29 | elapsed: 11.0min finished\n",
      "\n",
      "[2020-12-08 13:24:19] Features: 15/42 -- score: 0.8580735949918775[Parallel(n_jobs=-1)]: Using backend LokyBackend with 8 concurrent workers.\n",
      "[Parallel(n_jobs=-1)]: Done  28 out of  28 | elapsed: 10.9min remaining:    0.0s\n",
      "[Parallel(n_jobs=-1)]: Done  28 out of  28 | elapsed: 10.9min finished\n",
      "\n",
      "[2020-12-08 13:35:15] Features: 16/42 -- score: 0.8580735949918775[Parallel(n_jobs=-1)]: Using backend LokyBackend with 8 concurrent workers.\n",
      "[Parallel(n_jobs=-1)]: Done  27 out of  27 | elapsed: 10.8min finished\n",
      "\n",
      "[2020-12-08 13:46:04] Features: 17/42 -- score: 0.8583687746614647[Parallel(n_jobs=-1)]: Using backend LokyBackend with 8 concurrent workers.\n",
      "[Parallel(n_jobs=-1)]: Done  26 out of  26 | elapsed: 10.8min finished\n",
      "\n",
      "[2020-12-08 13:56:51] Features: 18/42 -- score: 0.8582693640585207[Parallel(n_jobs=-1)]: Using backend LokyBackend with 8 concurrent workers.\n",
      "[Parallel(n_jobs=-1)]: Done  23 out of  25 | elapsed: 10.3min remaining:   53.8s\n",
      "[Parallel(n_jobs=-1)]: Done  25 out of  25 | elapsed: 10.8min finished\n",
      "\n",
      "[2020-12-08 14:07:39] Features: 19/42 -- score: 0.8586373357108025[Parallel(n_jobs=-1)]: Using backend LokyBackend with 8 concurrent workers.\n",
      "[Parallel(n_jobs=-1)]: Done  22 out of  24 | elapsed: 11.1min remaining:  1.0min\n",
      "[Parallel(n_jobs=-1)]: Done  24 out of  24 | elapsed: 11.1min finished\n",
      "\n",
      "[2020-12-08 14:18:45] Features: 20/42 -- score: 0.8581786290979014[Parallel(n_jobs=-1)]: Using backend LokyBackend with 8 concurrent workers.\n",
      "[Parallel(n_jobs=-1)]: Done  20 out of  23 | elapsed: 11.4min remaining:  1.7min\n",
      "[Parallel(n_jobs=-1)]: Done  23 out of  23 | elapsed: 11.4min finished\n",
      "\n",
      "[2020-12-08 14:30:09] Features: 21/42 -- score: 0.8583473455266217[Parallel(n_jobs=-1)]: Using backend LokyBackend with 8 concurrent workers.\n",
      "[Parallel(n_jobs=-1)]: Done  19 out of  22 | elapsed: 11.6min remaining:  1.8min\n",
      "[Parallel(n_jobs=-1)]: Done  22 out of  22 | elapsed: 11.6min finished\n",
      "\n",
      "[2020-12-08 14:41:46] Features: 22/42 -- score: 0.8583906323876526[Parallel(n_jobs=-1)]: Using backend LokyBackend with 8 concurrent workers.\n",
      "[Parallel(n_jobs=-1)]: Done  17 out of  21 | elapsed: 11.2min remaining:  2.6min\n",
      "[Parallel(n_jobs=-1)]: Done  21 out of  21 | elapsed: 11.4min finished\n",
      "\n",
      "[2020-12-08 14:53:09] Features: 23/42 -- score: 0.8586259873527028[Parallel(n_jobs=-1)]: Using backend LokyBackend with 8 concurrent workers.\n",
      "[Parallel(n_jobs=-1)]: Done  16 out of  20 | elapsed:  8.9min remaining:  2.2min\n",
      "[Parallel(n_jobs=-1)]: Done  20 out of  20 | elapsed: 11.1min finished\n",
      "\n",
      "[2020-12-08 15:04:14] Features: 24/42 -- score: 0.8593598332582818[Parallel(n_jobs=-1)]: Using backend LokyBackend with 8 concurrent workers.\n",
      "[Parallel(n_jobs=-1)]: Done  14 out of  19 | elapsed:  9.4min remaining:  3.4min\n",
      "[Parallel(n_jobs=-1)]: Done  19 out of  19 | elapsed: 11.1min finished\n",
      "\n",
      "[2020-12-08 15:15:22] Features: 25/42 -- score: 0.859185429761084[Parallel(n_jobs=-1)]: Using backend LokyBackend with 8 concurrent workers.\n",
      "[Parallel(n_jobs=-1)]: Done  13 out of  18 | elapsed:  9.6min remaining:  3.7min\n",
      "[Parallel(n_jobs=-1)]: Done  18 out of  18 | elapsed: 10.8min finished\n",
      "\n",
      "[2020-12-08 15:26:12] Features: 26/42 -- score: 0.8589986677880893[Parallel(n_jobs=-1)]: Using backend LokyBackend with 8 concurrent workers.\n",
      "[Parallel(n_jobs=-1)]: Done  11 out of  17 | elapsed:  9.7min remaining:  5.3min\n",
      "[Parallel(n_jobs=-1)]: Done  17 out of  17 | elapsed: 10.4min finished\n",
      "\n",
      "[2020-12-08 15:36:38] Features: 27/42 -- score: 0.8588914181056309[Parallel(n_jobs=-1)]: Using backend LokyBackend with 8 concurrent workers.\n",
      "[Parallel(n_jobs=-1)]: Done  10 out of  16 | elapsed:  9.7min remaining:  5.8min\n",
      "[Parallel(n_jobs=-1)]: Done  16 out of  16 | elapsed:  9.9min finished\n",
      "\n",
      "[2020-12-08 15:46:34] Features: 28/42 -- score: 0.8587409806822838[Parallel(n_jobs=-1)]: Using backend LokyBackend with 8 concurrent workers.\n",
      "[Parallel(n_jobs=-1)]: Done   8 out of  15 | elapsed:  5.1min remaining:  4.4min\n",
      "[Parallel(n_jobs=-1)]: Done  15 out of  15 | elapsed:  9.5min finished\n",
      "\n",
      "[2020-12-08 15:56:05] Features: 29/42 -- score: 0.8591981364731739[Parallel(n_jobs=-1)]: Using backend LokyBackend with 8 concurrent workers.\n",
      "[Parallel(n_jobs=-1)]: Done   7 out of  14 | elapsed:  5.2min remaining:  5.2min\n",
      "[Parallel(n_jobs=-1)]: Done  14 out of  14 | elapsed:  9.1min finished\n",
      "\n",
      "[2020-12-08 16:05:10] Features: 30/42 -- score: 0.8591981364731739[Parallel(n_jobs=-1)]: Using backend LokyBackend with 8 concurrent workers.\n",
      "[Parallel(n_jobs=-1)]: Done   5 out of  13 | elapsed:  5.4min remaining:  8.6min\n",
      "[Parallel(n_jobs=-1)]: Done  13 out of  13 | elapsed:  8.7min finished\n",
      "\n",
      "[2020-12-08 16:13:50] Features: 31/42 -- score: 0.8587590952903484[Parallel(n_jobs=-1)]: Using backend LokyBackend with 8 concurrent workers.\n",
      "[Parallel(n_jobs=-1)]: Done   4 out of  12 | elapsed:  5.4min remaining: 10.8min\n"
     ]
    },
    {
     "name": "stderr",
     "output_type": "stream",
     "text": [
      "[Parallel(n_jobs=-1)]: Done  12 out of  12 | elapsed:  8.1min finished\n",
      "\n",
      "[2020-12-08 16:21:56] Features: 32/42 -- score: 0.8589165015656454[Parallel(n_jobs=-1)]: Using backend LokyBackend with 8 concurrent workers.\n",
      "[Parallel(n_jobs=-1)]: Done   2 out of  11 | elapsed:  5.3min remaining: 23.8min\n",
      "[Parallel(n_jobs=-1)]: Done   8 out of  11 | elapsed:  5.5min remaining:  2.1min\n",
      "[Parallel(n_jobs=-1)]: Done  11 out of  11 | elapsed:  7.7min finished\n",
      "\n",
      "[2020-12-08 16:29:41] Features: 33/42 -- score: 0.8591879948471797[Parallel(n_jobs=-1)]: Using backend LokyBackend with 8 concurrent workers.\n",
      "[Parallel(n_jobs=-1)]: Done   7 out of  10 | elapsed:  7.3min remaining:  3.1min\n",
      "[Parallel(n_jobs=-1)]: Done  10 out of  10 | elapsed:  8.7min finished\n",
      "\n",
      "[2020-12-08 16:38:20] Features: 34/42 -- score: 0.8587178866383285[Parallel(n_jobs=-1)]: Using backend LokyBackend with 8 concurrent workers.\n",
      "[Parallel(n_jobs=-1)]: Done   4 out of   9 | elapsed:  5.8min remaining:  7.3min\n",
      "[Parallel(n_jobs=-1)]: Done   9 out of   9 | elapsed:  6.6min remaining:    0.0s\n",
      "[Parallel(n_jobs=-1)]: Done   9 out of   9 | elapsed:  6.6min finished\n",
      "\n",
      "[2020-12-08 16:44:54] Features: 35/42 -- score: 0.8583754659127121[Parallel(n_jobs=-1)]: Using backend LokyBackend with 8 concurrent workers.\n",
      "[Parallel(n_jobs=-1)]: Done   3 out of   8 | elapsed:  5.9min remaining:  9.9min\n",
      "[Parallel(n_jobs=-1)]: Done   8 out of   8 | elapsed:  6.0min remaining:    0.0s\n",
      "[Parallel(n_jobs=-1)]: Done   8 out of   8 | elapsed:  6.0min finished\n",
      "\n",
      "[2020-12-08 16:50:53] Features: 36/42 -- score: 0.8588092032983158[Parallel(n_jobs=-1)]: Using backend LokyBackend with 8 concurrent workers.\n",
      "[Parallel(n_jobs=-1)]: Done   4 out of   7 | elapsed:  5.5min remaining:  4.1min\n",
      "[Parallel(n_jobs=-1)]: Done   7 out of   7 | elapsed:  5.5min finished\n",
      "\n",
      "[2020-12-08 16:56:22] Features: 37/42 -- score: 0.8588546501811861[Parallel(n_jobs=-1)]: Using backend LokyBackend with 8 concurrent workers.\n",
      "[Parallel(n_jobs=-1)]: Done   3 out of   6 | elapsed:  4.8min remaining:  4.8min\n",
      "[Parallel(n_jobs=-1)]: Done   6 out of   6 | elapsed:  4.8min finished\n",
      "\n",
      "[2020-12-08 17:01:12] Features: 38/42 -- score: 0.8575495636350761[Parallel(n_jobs=-1)]: Using backend LokyBackend with 8 concurrent workers.\n",
      "[Parallel(n_jobs=-1)]: Done   2 out of   5 | elapsed:  4.1min remaining:  6.2min\n",
      "[Parallel(n_jobs=-1)]: Done   5 out of   5 | elapsed:  4.2min remaining:    0.0s\n",
      "[Parallel(n_jobs=-1)]: Done   5 out of   5 | elapsed:  4.2min finished\n",
      "\n",
      "[2020-12-08 17:05:23] Features: 39/42 -- score: 0.8573359392659677[Parallel(n_jobs=-1)]: Using backend LokyBackend with 8 concurrent workers.\n",
      "[Parallel(n_jobs=-1)]: Done   4 out of   4 | elapsed:  3.4min remaining:    0.0s\n",
      "[Parallel(n_jobs=-1)]: Done   4 out of   4 | elapsed:  3.4min finished\n",
      "\n",
      "[2020-12-08 17:08:48] Features: 40/42 -- score: 0.8568514062110676[Parallel(n_jobs=-1)]: Using backend LokyBackend with 8 concurrent workers.\n",
      "[Parallel(n_jobs=-1)]: Done   3 out of   3 | elapsed:  2.7min finished\n",
      "\n",
      "[2020-12-08 17:11:29] Features: 41/42 -- score: 0.8566648973769603[Parallel(n_jobs=-1)]: Using backend LokyBackend with 8 concurrent workers.\n",
      "[Parallel(n_jobs=-1)]: Done   2 out of   2 | elapsed:  1.9min finished\n",
      "\n",
      "[2020-12-08 17:13:23] Features: 42/42 -- score: 0.856360131013501"
     ]
    },
    {
     "name": "stdout",
     "output_type": "stream",
     "text": [
      "['dur', 'spkts', 'dpkts', 'sbytes', 'dbytes', 'sttl', 'dttl', 'sload', 'dload', 'sloss', 'dloss', 'sinpkt', 'dinpkt', 'sjit', 'djit', 'swin', 'stcpb', 'dtcpb', 'dwin', 'tcprtt', 'synack', 'ackdat', 'smean', 'dmean', 'trans_depth', 'response_body_len', 'ct_srv_src', 'ct_state_ttl', 'ct_dst_ltm', 'ct_src_dport_ltm', 'ct_dst_sport_ltm', 'ct_dst_src_ltm', 'is_ftp_login', 'ct_ftp_cmd', 'ct_flw_http_mthd', 'ct_src_ltm', 'ct_srv_dst', 'is_sm_ips_ports', 'label', 'proto', 'service', 'state']\n",
      "Train model\n",
      "              precision    recall  f1-score   support\n",
      "\n",
      "           0       1.00      1.00      1.00     14875\n",
      "           1       1.00      0.99      1.00     10505\n",
      "           2       0.69      0.90      0.78      8778\n",
      "           3       0.99      0.91      0.95      5926\n",
      "           4       0.56      0.49      0.52      4054\n",
      "           5       0.98      0.75      0.85      4123\n",
      "           6       0.92      0.65      0.76      1739\n",
      "\n",
      "    accuracy                           0.90     50000\n",
      "   macro avg       0.88      0.81      0.84     50000\n",
      "weighted avg       0.91      0.90      0.90     50000\n",
      "\n",
      "______________________________________________________________________\n",
      "Test model\n",
      "              precision    recall  f1-score   support\n",
      "\n",
      "           0       1.00      1.00      1.00     37000\n",
      "           1       1.00      0.97      0.98     18871\n",
      "           2       0.70      0.74      0.72     11132\n",
      "           3       0.90      0.69      0.78      6062\n",
      "           4       0.36      0.14      0.20      4133\n",
      "           5       0.91      0.67      0.77      4173\n",
      "           6       0.11      0.64      0.18       961\n",
      "\n",
      "    accuracy                           0.87     82332\n",
      "   macro avg       0.71      0.69      0.66     82332\n",
      "weighted avg       0.90      0.87      0.88     82332\n",
      "\n",
      "______________________________________________________________________\n"
     ]
    },
    {
     "data": {
      "text/html": [
       "<div>\n",
       "<style scoped>\n",
       "    .dataframe tbody tr th:only-of-type {\n",
       "        vertical-align: middle;\n",
       "    }\n",
       "\n",
       "    .dataframe tbody tr th {\n",
       "        vertical-align: top;\n",
       "    }\n",
       "\n",
       "    .dataframe thead th {\n",
       "        text-align: right;\n",
       "    }\n",
       "</style>\n",
       "<table border=\"1\" class=\"dataframe\">\n",
       "  <thead>\n",
       "    <tr style=\"text-align: right;\">\n",
       "      <th></th>\n",
       "      <th>imp</th>\n",
       "      <th>feature</th>\n",
       "    </tr>\n",
       "  </thead>\n",
       "  <tbody>\n",
       "    <tr>\n",
       "      <th>37</th>\n",
       "      <td>0.000000</td>\n",
       "      <td>is_sm_ips_ports</td>\n",
       "    </tr>\n",
       "    <tr>\n",
       "      <th>33</th>\n",
       "      <td>0.000000</td>\n",
       "      <td>ct_ftp_cmd</td>\n",
       "    </tr>\n",
       "    <tr>\n",
       "      <th>18</th>\n",
       "      <td>0.000000</td>\n",
       "      <td>dwin</td>\n",
       "    </tr>\n",
       "    <tr>\n",
       "      <th>15</th>\n",
       "      <td>0.000000</td>\n",
       "      <td>swin</td>\n",
       "    </tr>\n",
       "    <tr>\n",
       "      <th>17</th>\n",
       "      <td>0.001077</td>\n",
       "      <td>dtcpb</td>\n",
       "    </tr>\n",
       "    <tr>\n",
       "      <th>28</th>\n",
       "      <td>0.001079</td>\n",
       "      <td>ct_dst_ltm</td>\n",
       "    </tr>\n",
       "    <tr>\n",
       "      <th>41</th>\n",
       "      <td>0.001107</td>\n",
       "      <td>state</td>\n",
       "    </tr>\n",
       "    <tr>\n",
       "      <th>0</th>\n",
       "      <td>0.001117</td>\n",
       "      <td>dur</td>\n",
       "    </tr>\n",
       "    <tr>\n",
       "      <th>16</th>\n",
       "      <td>0.001191</td>\n",
       "      <td>stcpb</td>\n",
       "    </tr>\n",
       "    <tr>\n",
       "      <th>35</th>\n",
       "      <td>0.001195</td>\n",
       "      <td>ct_src_ltm</td>\n",
       "    </tr>\n",
       "    <tr>\n",
       "      <th>19</th>\n",
       "      <td>0.001313</td>\n",
       "      <td>tcprtt</td>\n",
       "    </tr>\n",
       "    <tr>\n",
       "      <th>11</th>\n",
       "      <td>0.001376</td>\n",
       "      <td>sinpkt</td>\n",
       "    </tr>\n",
       "    <tr>\n",
       "      <th>12</th>\n",
       "      <td>0.001475</td>\n",
       "      <td>dinpkt</td>\n",
       "    </tr>\n",
       "    <tr>\n",
       "      <th>32</th>\n",
       "      <td>0.001479</td>\n",
       "      <td>is_ftp_login</td>\n",
       "    </tr>\n",
       "    <tr>\n",
       "      <th>21</th>\n",
       "      <td>0.001627</td>\n",
       "      <td>ackdat</td>\n",
       "    </tr>\n",
       "    <tr>\n",
       "      <th>29</th>\n",
       "      <td>0.001909</td>\n",
       "      <td>ct_src_dport_ltm</td>\n",
       "    </tr>\n",
       "    <tr>\n",
       "      <th>26</th>\n",
       "      <td>0.001994</td>\n",
       "      <td>ct_srv_src</td>\n",
       "    </tr>\n",
       "    <tr>\n",
       "      <th>27</th>\n",
       "      <td>0.002081</td>\n",
       "      <td>ct_state_ttl</td>\n",
       "    </tr>\n",
       "    <tr>\n",
       "      <th>14</th>\n",
       "      <td>0.002128</td>\n",
       "      <td>djit</td>\n",
       "    </tr>\n",
       "    <tr>\n",
       "      <th>13</th>\n",
       "      <td>0.002185</td>\n",
       "      <td>sjit</td>\n",
       "    </tr>\n",
       "    <tr>\n",
       "      <th>8</th>\n",
       "      <td>0.002329</td>\n",
       "      <td>dload</td>\n",
       "    </tr>\n",
       "    <tr>\n",
       "      <th>7</th>\n",
       "      <td>0.002562</td>\n",
       "      <td>sload</td>\n",
       "    </tr>\n",
       "    <tr>\n",
       "      <th>24</th>\n",
       "      <td>0.003011</td>\n",
       "      <td>trans_depth</td>\n",
       "    </tr>\n",
       "    <tr>\n",
       "      <th>1</th>\n",
       "      <td>0.003028</td>\n",
       "      <td>spkts</td>\n",
       "    </tr>\n",
       "    <tr>\n",
       "      <th>25</th>\n",
       "      <td>0.003699</td>\n",
       "      <td>response_body_len</td>\n",
       "    </tr>\n",
       "    <tr>\n",
       "      <th>34</th>\n",
       "      <td>0.004374</td>\n",
       "      <td>ct_flw_http_mthd</td>\n",
       "    </tr>\n",
       "    <tr>\n",
       "      <th>2</th>\n",
       "      <td>0.004503</td>\n",
       "      <td>dpkts</td>\n",
       "    </tr>\n",
       "    <tr>\n",
       "      <th>10</th>\n",
       "      <td>0.005776</td>\n",
       "      <td>dloss</td>\n",
       "    </tr>\n",
       "    <tr>\n",
       "      <th>4</th>\n",
       "      <td>0.007821</td>\n",
       "      <td>dbytes</td>\n",
       "    </tr>\n",
       "    <tr>\n",
       "      <th>31</th>\n",
       "      <td>0.008633</td>\n",
       "      <td>ct_dst_src_ltm</td>\n",
       "    </tr>\n",
       "    <tr>\n",
       "      <th>20</th>\n",
       "      <td>0.009116</td>\n",
       "      <td>synack</td>\n",
       "    </tr>\n",
       "    <tr>\n",
       "      <th>22</th>\n",
       "      <td>0.009711</td>\n",
       "      <td>smean</td>\n",
       "    </tr>\n",
       "    <tr>\n",
       "      <th>9</th>\n",
       "      <td>0.013519</td>\n",
       "      <td>sloss</td>\n",
       "    </tr>\n",
       "    <tr>\n",
       "      <th>23</th>\n",
       "      <td>0.017791</td>\n",
       "      <td>dmean</td>\n",
       "    </tr>\n",
       "    <tr>\n",
       "      <th>36</th>\n",
       "      <td>0.021105</td>\n",
       "      <td>ct_srv_dst</td>\n",
       "    </tr>\n",
       "    <tr>\n",
       "      <th>6</th>\n",
       "      <td>0.022517</td>\n",
       "      <td>dttl</td>\n",
       "    </tr>\n",
       "    <tr>\n",
       "      <th>39</th>\n",
       "      <td>0.023056</td>\n",
       "      <td>proto</td>\n",
       "    </tr>\n",
       "    <tr>\n",
       "      <th>40</th>\n",
       "      <td>0.025190</td>\n",
       "      <td>service</td>\n",
       "    </tr>\n",
       "    <tr>\n",
       "      <th>3</th>\n",
       "      <td>0.025991</td>\n",
       "      <td>sbytes</td>\n",
       "    </tr>\n",
       "    <tr>\n",
       "      <th>5</th>\n",
       "      <td>0.039831</td>\n",
       "      <td>sttl</td>\n",
       "    </tr>\n",
       "    <tr>\n",
       "      <th>30</th>\n",
       "      <td>0.217754</td>\n",
       "      <td>ct_dst_sport_ltm</td>\n",
       "    </tr>\n",
       "    <tr>\n",
       "      <th>38</th>\n",
       "      <td>0.504349</td>\n",
       "      <td>label</td>\n",
       "    </tr>\n",
       "  </tbody>\n",
       "</table>\n",
       "</div>"
      ],
      "text/plain": [
       "         imp            feature\n",
       "37  0.000000    is_sm_ips_ports\n",
       "33  0.000000         ct_ftp_cmd\n",
       "18  0.000000               dwin\n",
       "15  0.000000               swin\n",
       "17  0.001077              dtcpb\n",
       "28  0.001079         ct_dst_ltm\n",
       "41  0.001107              state\n",
       "0   0.001117                dur\n",
       "16  0.001191              stcpb\n",
       "35  0.001195         ct_src_ltm\n",
       "19  0.001313             tcprtt\n",
       "11  0.001376             sinpkt\n",
       "12  0.001475             dinpkt\n",
       "32  0.001479       is_ftp_login\n",
       "21  0.001627             ackdat\n",
       "29  0.001909   ct_src_dport_ltm\n",
       "26  0.001994         ct_srv_src\n",
       "27  0.002081       ct_state_ttl\n",
       "14  0.002128               djit\n",
       "13  0.002185               sjit\n",
       "8   0.002329              dload\n",
       "7   0.002562              sload\n",
       "24  0.003011        trans_depth\n",
       "1   0.003028              spkts\n",
       "25  0.003699  response_body_len\n",
       "34  0.004374   ct_flw_http_mthd\n",
       "2   0.004503              dpkts\n",
       "10  0.005776              dloss\n",
       "4   0.007821             dbytes\n",
       "31  0.008633     ct_dst_src_ltm\n",
       "20  0.009116             synack\n",
       "22  0.009711              smean\n",
       "9   0.013519              sloss\n",
       "23  0.017791              dmean\n",
       "36  0.021105         ct_srv_dst\n",
       "6   0.022517               dttl\n",
       "39  0.023056              proto\n",
       "40  0.025190            service\n",
       "3   0.025991             sbytes\n",
       "5   0.039831               sttl\n",
       "30  0.217754   ct_dst_sport_ltm\n",
       "38  0.504349              label"
      ]
     },
     "metadata": {},
     "output_type": "display_data"
    }
   ],
   "source": [
    "xgb = XGBClassifier(random_state = 0, nthread = 8)\n",
    "back_mod = sfs(estimator = xgb, k_features = 42, forward = 'False',\n",
    "               cv = kf, scoring = 'f1_weighted', n_jobs = -1, verbose = 2)\n",
    "back_mod.fit(X,y)\n",
    "feat_back = list(back_mod.k_feature_names_)\n",
    "print(feat_back)\n",
    "modl(xgb, X[feat_back], y, Xtest[feat_back], Ytest)"
   ]
  },
  {
   "cell_type": "raw",
   "metadata": {},
   "source": [
    "feature permutation importance\n",
    "eli5"
   ]
  },
  {
   "cell_type": "code",
   "execution_count": 39,
   "metadata": {},
   "outputs": [
    {
     "data": {
      "text/plain": [
       "42"
      ]
     },
     "execution_count": 39,
     "metadata": {},
     "output_type": "execute_result"
    }
   ],
   "source": [
    "len(['dur', 'spkts', 'dpkts', 'sbytes', 'dbytes', 'sttl', 'dttl', 'sload', 'dload', 'sloss', 'dloss', 'sinpkt', 'dinpkt', 'sjit', 'djit', 'swin', 'stcpb', 'dtcpb', 'dwin', 'tcprtt', 'synack', 'ackdat', 'smean', 'dmean', 'trans_depth', 'response_body_len', 'ct_srv_src', 'ct_state_ttl', 'ct_dst_ltm', 'ct_src_dport_ltm', 'ct_dst_sport_ltm', 'ct_dst_src_ltm', 'is_ftp_login', 'ct_ftp_cmd', 'ct_flw_http_mthd', 'ct_src_ltm', 'ct_srv_dst', 'is_sm_ips_ports', 'label', 'proto', 'service', 'state'])"
   ]
  },
  {
   "cell_type": "code",
   "execution_count": null,
   "metadata": {},
   "outputs": [],
   "source": []
  },
  {
   "cell_type": "code",
   "execution_count": null,
   "metadata": {},
   "outputs": [],
   "source": []
  }
 ],
 "metadata": {
  "kernelspec": {
   "display_name": "Python 3",
   "language": "python",
   "name": "python3"
  },
  "language_info": {
   "codemirror_mode": {
    "name": "ipython",
    "version": 3
   },
   "file_extension": ".py",
   "mimetype": "text/x-python",
   "name": "python",
   "nbconvert_exporter": "python",
   "pygments_lexer": "ipython3",
   "version": "3.8.3"
  }
 },
 "nbformat": 4,
 "nbformat_minor": 4
}
